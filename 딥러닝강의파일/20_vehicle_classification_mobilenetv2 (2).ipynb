{
  "nbformat": 4,
  "nbformat_minor": 0,
  "metadata": {
    "accelerator": "GPU",
    "colab": {
      "name": "20_vehicle_classification_mobilenetv2.ipynb",
      "provenance": [],
      "collapsed_sections": [],
      "machine_shape": "hm"
    },
    "kernelspec": {
      "display_name": "Python 3",
      "language": "python",
      "name": "python3"
    },
    "language_info": {
      "codemirror_mode": {
        "name": "ipython",
        "version": 3
      },
      "file_extension": ".py",
      "mimetype": "text/x-python",
      "name": "python",
      "nbconvert_exporter": "python",
      "pygments_lexer": "ipython3",
      "version": "3.7.7"
    }
  },
  "cells": [
    {
      "cell_type": "markdown",
      "metadata": {
        "id": "FTs4p-7w_h5A"
      },
      "source": [
        "# **The Vehicle Type Classification Project**\n",
        "\n"
      ]
    },
    {
      "cell_type": "markdown",
      "metadata": {
        "id": "GulSne0-q61L"
      },
      "source": [
        "# Summary\n",
        "\n",
        "\n",
        "- **Use Case:** Vehicle Type\n",
        "- **Algorithm:** MobileNetV2\n",
        "- **Number of training images:** 603\n",
        "- **Number of classes:** 7\n",
        "- **Batch Size:** 64\n",
        "- **Optimizer:** Adam \n",
        "- **Learning Rate:** 0.0001\n",
        "- **Loss Type:**CategoricalCrossentropy\n",
        "- **Transfer Learning:** Yes | Imagenet\n",
        "\n"
      ]
    },
    {
      "cell_type": "markdown",
      "metadata": {
        "id": "EOw4YADAAvGg"
      },
      "source": [
        " ## Labels\n",
        " \n",
        " 0: 'car-bus-alltypes',\n",
        "\n",
        " 1: 'car-sedan-alltypes',\n",
        " \n",
        " 2: 'car-suv-alltypes',\n",
        " \n",
        " 3: 'motocycle-bicycle-kids',\n",
        " \n",
        " 4: 'motocycle-bicycle-racing',\n",
        " \n",
        " 5: 'motocycle-motorbike-chopper',\n",
        " \n",
        " 6: 'motocycle-motorbike-sport'"
      ]
    },
    {
      "cell_type": "markdown",
      "metadata": {
        "id": "1BCXp3uGq7CX"
      },
      "source": [
        "## Import Library"
      ]
    },
    {
      "cell_type": "code",
      "metadata": {
        "id": "EW3iqcXRROSV"
      },
      "source": [
        "# import the necessary packages\n",
        "from tensorflow.keras.preprocessing.image import ImageDataGenerator\n",
        "from tensorflow.keras.layers import AveragePooling2D, GlobalAveragePooling2D, BatchNormalization\n",
        "#from tensorflow.keras.applications import ResNet50\n",
        "#from tensorflow.keras.applications import Xception\n",
        "from tensorflow.keras.applications import MobileNetV2\n",
        "from tensorflow.keras.layers import AveragePooling2D\n",
        "from tensorflow.keras.layers import Dropout\n",
        "from tensorflow.keras.layers import Flatten\n",
        "from tensorflow.keras.layers import Dense\n",
        "from tensorflow.keras.layers import Input\n",
        "from tensorflow.keras.models import Model\n",
        "from tensorflow.keras.optimizers import Adam\n",
        "from tensorflow.keras.optimizers import SGD\n",
        "from tensorflow.keras.utils import to_categorical\n",
        "from sklearn.preprocessing import LabelBinarizer\n",
        "from sklearn.model_selection import train_test_split\n",
        "from sklearn.metrics import classification_report\n",
        "from sklearn.metrics import confusion_matrix\n",
        "from imutils import paths\n",
        "import matplotlib.pyplot as plt\n",
        "import numpy as np\n",
        "import argparse\n",
        "import cv2\n",
        "import os\n",
        "import sys\n",
        "import tensorflow as tf\n",
        "import h5py\n",
        "import numpy as np\n",
        "import sys"
      ],
      "execution_count": 1,
      "outputs": []
    },
    {
      "cell_type": "code",
      "metadata": {
        "id": "YXw5D5GD8cH3",
        "colab": {
          "base_uri": "https://localhost:8080/"
        },
        "outputId": "a9586620-dfad-4481-f81f-233bb8695403"
      },
      "source": [
        "print(tf.__version__)"
      ],
      "execution_count": 2,
      "outputs": [
        {
          "output_type": "stream",
          "name": "stdout",
          "text": [
            "2.8.2\n"
          ]
        }
      ]
    },
    {
      "cell_type": "markdown",
      "metadata": {
        "id": "5afG8zRfAQOo"
      },
      "source": [
        "## 구글드라이브 마운트 하기"
      ]
    },
    {
      "cell_type": "code",
      "metadata": {
        "id": "bmqjaLybzrzo",
        "colab": {
          "base_uri": "https://localhost:8080/"
        },
        "outputId": "c3497f3e-06a3-436b-b0ab-c7f2e46840c4"
      },
      "source": [
        "from google.colab import drive\n",
        "drive.mount('/content/drive')"
      ],
      "execution_count": 3,
      "outputs": [
        {
          "output_type": "stream",
          "name": "stdout",
          "text": [
            "Mounted at /content/drive\n"
          ]
        }
      ]
    },
    {
      "cell_type": "code",
      "source": [
        "# 워킹 디렉토리 경로 셋팅\n",
        "os.chdir('/content/drive/MyDrive/kdigital2/deeplearning')"
      ],
      "metadata": {
        "id": "ZtxUlYI5_1su"
      },
      "execution_count": 4,
      "outputs": []
    },
    {
      "cell_type": "code",
      "source": [
        ""
      ],
      "metadata": {
        "id": "jcXfMTkc_6Yd"
      },
      "execution_count": null,
      "outputs": []
    },
    {
      "cell_type": "code",
      "metadata": {
        "id": "mdHf4iuFCavo",
        "colab": {
          "base_uri": "https://localhost:8080/"
        },
        "outputId": "30d630af-1ae3-42b5-d6e4-4b1be05fe1f7"
      },
      "source": [
        "# 데이터 파일 다운로드\n",
        "\n",
        "!wget --no-check-certificate \\\n",
        " https://block-yh-test1.s3.amazonaws.com/38_%E1%84%89%E1%85%B5%E1%86%AF%E1%84%89%E1%85%B3%E1%86%B8%E1%84%91%E1%85%A1%E1%84%8B%E1%85%B5%E1%86%AF.zip \\\n",
        "  -O ./data.zip"
      ],
      "execution_count": 6,
      "outputs": [
        {
          "output_type": "stream",
          "name": "stdout",
          "text": [
            "--2022-06-16 05:34:22--  https://block-yh-test1.s3.amazonaws.com/38_%E1%84%89%E1%85%B5%E1%86%AF%E1%84%89%E1%85%B3%E1%86%B8%E1%84%91%E1%85%A1%E1%84%8B%E1%85%B5%E1%86%AF.zip\n",
            "Resolving block-yh-test1.s3.amazonaws.com (block-yh-test1.s3.amazonaws.com)... 52.216.35.249\n",
            "Connecting to block-yh-test1.s3.amazonaws.com (block-yh-test1.s3.amazonaws.com)|52.216.35.249|:443... connected.\n",
            "HTTP request sent, awaiting response... 200 OK\n",
            "Length: 326052257 (311M) [application/zip]\n",
            "Saving to: ‘./data.zip’\n",
            "\n",
            "./data.zip          100%[===================>] 310.95M  63.8MB/s    in 4.9s    \n",
            "\n",
            "2022-06-16 05:34:27 (63.6 MB/s) - ‘./data.zip’ saved [326052257/326052257]\n",
            "\n"
          ]
        }
      ]
    },
    {
      "cell_type": "code",
      "metadata": {
        "id": "ARf9qY51Caka",
        "colab": {
          "base_uri": "https://localhost:8080/"
        },
        "outputId": "2122c943-68be-4233-82e7-c15beafb2185"
      },
      "source": [
        "! unzip data.zip"
      ],
      "execution_count": 7,
      "outputs": [
        {
          "output_type": "stream",
          "name": "stdout",
          "text": [
            "Archive:  data.zip\n",
            "   creating: test-images/\n",
            "  inflating: __MACOSX/._test-images  \n",
            "  inflating: test-images/bicycle.png  \n",
            "  inflating: __MACOSX/test-images/._bicycle.png  \n",
            "  inflating: test-images/bus.jpg     \n",
            "  inflating: __MACOSX/test-images/._bus.jpg  \n",
            "   creating: trained-models/\n",
            "  inflating: __MACOSX/._trained-models  \n",
            "   creating: trained-models/mobilenetv2/\n",
            "  inflating: __MACOSX/trained-models/._mobilenetv2  \n",
            "  inflating: trained-models/mobilenetv2/vehicle-classification-by-type-mobilenetv2-anis-1.h5  \n",
            "  inflating: __MACOSX/trained-models/mobilenetv2/._vehicle-classification-by-type-mobilenetv2-anis-1.h5  \n",
            "  inflating: trained-models/mobilenetv2/vehicle-classification-by-type-mobilenetv2-anis-1-2.h5  \n",
            "  inflating: __MACOSX/trained-models/mobilenetv2/._vehicle-classification-by-type-mobilenetv2-anis-1-2.h5  \n",
            "  inflating: trained-models/mobilenetv2/vehicle-classification-by-type-mobilenetv2-anis-2.h5  \n",
            "  inflating: __MACOSX/trained-models/mobilenetv2/._vehicle-classification-by-type-mobilenetv2-anis-2.h5  \n",
            "   creating: vehicle_datasets/\n",
            "  inflating: __MACOSX/._vehicle_datasets  \n",
            "  inflating: vehicle_datasets/vehicle-type-dataset-SIZE224.hdf5.csv  \n",
            "  inflating: __MACOSX/vehicle_datasets/._vehicle-type-dataset-SIZE224.hdf5.csv  \n",
            "  inflating: vehicle_datasets/vehicle-type-dataset-SIZE224.hdf5  \n",
            "  inflating: __MACOSX/vehicle_datasets/._vehicle-type-dataset-SIZE224.hdf5  \n",
            "  inflating: vehicle_datasets/vehicle-type-dataset-SIZE224-train-dev-test-v2.hdf5  \n",
            "  inflating: __MACOSX/vehicle_datasets/._vehicle-type-dataset-SIZE224-train-dev-test-v2.hdf5  \n"
          ]
        }
      ]
    },
    {
      "cell_type": "code",
      "source": [
        ""
      ],
      "metadata": {
        "id": "go5qvPi6AiZU"
      },
      "execution_count": null,
      "outputs": []
    },
    {
      "cell_type": "code",
      "source": [
        ""
      ],
      "metadata": {
        "id": "O2xu6eDeAiTt"
      },
      "execution_count": null,
      "outputs": []
    },
    {
      "cell_type": "markdown",
      "metadata": {
        "id": "vEbHwn85CbS7"
      },
      "source": [
        "## 경로 셋팅"
      ]
    },
    {
      "cell_type": "code",
      "metadata": {
        "id": "UyxCJZAtaYUB"
      },
      "source": [
        "TYPE='type'\n",
        "model_type='mobilenetv2'\n",
        "user='block'\n",
        "iteration='1-1'\n",
        "\n",
        "first_time_training=True\n",
        "\n",
        "PROJECT_PATH= '.'\n",
        "\n",
        "HDF5_DATASET_PATH=PROJECT_PATH+'/vehicle_datasets/vehicle-type-dataset-SIZE224-train-dev-test-v2.hdf5'\n",
        "\n",
        "TARGET_CLASSIFICATION_MODEL=PROJECT_PATH+'/trained-models/'+model_type+'/'+'vehicle-classification-by-'+TYPE+'-'+model_type+'-'+user+'-'+iteration+'.h5'\n",
        "\n",
        "CHECKPOINT_PATH = PROJECT_PATH+'/checkpoints/'+model_type+'/'+'by-'+TYPE+'-'+model_type+'-'+user+'-'+iteration+'.h5'\n",
        "\n",
        "LOGFILE_PATH=PROJECT_PATH+'/log/'+model_type+'/'+model_type+'-by-'+TYPE+'-training-log'+user+'-'+iteration+'.csv'\n"
      ],
      "execution_count": 8,
      "outputs": []
    },
    {
      "cell_type": "code",
      "metadata": {
        "id": "pW3UM1dFTrDj",
        "colab": {
          "base_uri": "https://localhost:8080/"
        },
        "outputId": "7fc5891b-8e87-43ae-89a7-821a0098adcd"
      },
      "source": [
        "print('PROJECT_PATH: ',PROJECT_PATH)\n",
        "print('HDF5_DATASET_PATH: ', HDF5_DATASET_PATH)\n",
        "print('TARGET_CLASSIFICATION_MODEL: ',TARGET_CLASSIFICATION_MODEL)\n",
        "print('CHECKPOINT_PATH: ',CHECKPOINT_PATH)\n",
        "print('LOGFILE_PATH: ',LOGFILE_PATH)"
      ],
      "execution_count": 9,
      "outputs": [
        {
          "output_type": "stream",
          "name": "stdout",
          "text": [
            "PROJECT_PATH:  .\n",
            "HDF5_DATASET_PATH:  ./vehicle_datasets/vehicle-type-dataset-SIZE224-train-dev-test-v2.hdf5\n",
            "TARGET_CLASSIFICATION_MODEL:  ./trained-models/mobilenetv2/vehicle-classification-by-type-mobilenetv2-block-1-1.h5\n",
            "CHECKPOINT_PATH:  ./checkpoints/mobilenetv2/by-type-mobilenetv2-block-1-1.h5\n",
            "LOGFILE_PATH:  ./log/mobilenetv2/mobilenetv2-by-type-training-logblock-1-1.csv\n"
          ]
        }
      ]
    },
    {
      "cell_type": "code",
      "metadata": {
        "id": "7C4gDYQskGLG"
      },
      "source": [
        "\n",
        "sys.path.append(PROJECT_PATH)\n"
      ],
      "execution_count": null,
      "outputs": []
    },
    {
      "cell_type": "markdown",
      "metadata": {
        "id": "cuA-vehiW0Lf"
      },
      "source": [
        "# **Load the Dataset**"
      ]
    },
    {
      "cell_type": "code",
      "metadata": {
        "id": "iSCoPyAJC1wu"
      },
      "source": [
        ""
      ],
      "execution_count": null,
      "outputs": []
    },
    {
      "cell_type": "code",
      "metadata": {
        "id": "yCOCvDQliI5v"
      },
      "source": [
        "def load_dataset_from_hdf5_file(hdf_file_path):\n",
        "  # 함수 만들기\n",
        "  hf = h5py.File(hdf_file_path, 'r')\n",
        "\n",
        "  X_train = np.array(hf['trainX'])\n",
        "  y_train = np.array(hf['trainY'])\n",
        "  train_label = np.array(hf['trainLabels'])\n",
        "\n",
        "  X_test = np.array(hf['testX'])\n",
        "  y_test = np.array(hf['testY'])\n",
        "  test_label = np.array(hf['testLabels'])\n",
        "\n",
        "  X_val = np.array(hf['devX'])\n",
        "  y_val = np.array(hf['devY'])\n",
        "  val_label = np.array(hf['devLabels'])\n",
        "\n",
        "  return X_train, y_train, train_label, X_test, y_test, test_label, X_val, y_val, val_label\n",
        "  "
      ],
      "execution_count": 10,
      "outputs": []
    },
    {
      "cell_type": "code",
      "metadata": {
        "id": "C9vcFQA2Dqbi"
      },
      "source": [
        "X_train, y_train, train_label, X_test, y_test, test_label, X_val, y_val, val_label=load_dataset_from_hdf5_file(HDF5_DATASET_PATH)"
      ],
      "execution_count": 11,
      "outputs": []
    },
    {
      "cell_type": "code",
      "metadata": {
        "id": "rguVddIcC3AH",
        "colab": {
          "base_uri": "https://localhost:8080/"
        },
        "outputId": "d6ca6b06-2ca0-4bc9-99e4-901a82df28c9"
      },
      "source": [
        "X_train"
      ],
      "execution_count": 12,
      "outputs": [
        {
          "output_type": "execute_result",
          "data": {
            "text/plain": [
              "array([[[[1.        , 1.        , 1.        ],\n",
              "         [1.        , 1.        , 1.        ],\n",
              "         [1.        , 1.        , 1.        ],\n",
              "         ...,\n",
              "         [1.        , 1.        , 1.        ],\n",
              "         [1.        , 1.        , 1.        ],\n",
              "         [1.        , 1.        , 1.        ]],\n",
              "\n",
              "        [[1.        , 1.        , 1.        ],\n",
              "         [1.        , 1.        , 1.        ],\n",
              "         [1.        , 1.        , 1.        ],\n",
              "         ...,\n",
              "         [1.        , 1.        , 1.        ],\n",
              "         [1.        , 1.        , 1.        ],\n",
              "         [1.        , 1.        , 1.        ]],\n",
              "\n",
              "        [[1.        , 1.        , 1.        ],\n",
              "         [1.        , 1.        , 1.        ],\n",
              "         [1.        , 1.        , 1.        ],\n",
              "         ...,\n",
              "         [1.        , 1.        , 1.        ],\n",
              "         [1.        , 1.        , 1.        ],\n",
              "         [1.        , 1.        , 1.        ]],\n",
              "\n",
              "        ...,\n",
              "\n",
              "        [[1.        , 1.        , 1.        ],\n",
              "         [1.        , 1.        , 1.        ],\n",
              "         [1.        , 1.        , 1.        ],\n",
              "         ...,\n",
              "         [1.        , 1.        , 1.        ],\n",
              "         [1.        , 1.        , 1.        ],\n",
              "         [1.        , 1.        , 1.        ]],\n",
              "\n",
              "        [[1.        , 1.        , 1.        ],\n",
              "         [1.        , 1.        , 1.        ],\n",
              "         [1.        , 1.        , 1.        ],\n",
              "         ...,\n",
              "         [1.        , 1.        , 1.        ],\n",
              "         [1.        , 1.        , 1.        ],\n",
              "         [1.        , 1.        , 1.        ]],\n",
              "\n",
              "        [[1.        , 1.        , 1.        ],\n",
              "         [1.        , 1.        , 1.        ],\n",
              "         [1.        , 1.        , 1.        ],\n",
              "         ...,\n",
              "         [1.        , 1.        , 1.        ],\n",
              "         [1.        , 1.        , 1.        ],\n",
              "         [1.        , 1.        , 1.        ]]],\n",
              "\n",
              "\n",
              "       [[[0.80392157, 0.76078431, 0.54901961],\n",
              "         [0.80784314, 0.76470588, 0.55686275],\n",
              "         [0.81568627, 0.77254902, 0.56078431],\n",
              "         ...,\n",
              "         [0.80784314, 0.74117647, 0.56078431],\n",
              "         [0.80784314, 0.74117647, 0.56078431],\n",
              "         [0.8       , 0.73333333, 0.55294118]],\n",
              "\n",
              "        [[0.78431373, 0.73333333, 0.54117647],\n",
              "         [0.78823529, 0.74117647, 0.54509804],\n",
              "         [0.79607843, 0.74509804, 0.55294118],\n",
              "         ...,\n",
              "         [0.80392157, 0.7372549 , 0.56862745],\n",
              "         [0.8       , 0.73333333, 0.56078431],\n",
              "         [0.79607843, 0.72941176, 0.55686275]],\n",
              "\n",
              "        [[0.8       , 0.75294118, 0.58039216],\n",
              "         [0.80784314, 0.75686275, 0.58823529],\n",
              "         [0.81176471, 0.76470588, 0.59215686],\n",
              "         ...,\n",
              "         [0.79215686, 0.73333333, 0.57647059],\n",
              "         [0.78431373, 0.7254902 , 0.56862745],\n",
              "         [0.78039216, 0.72156863, 0.56470588]],\n",
              "\n",
              "        ...,\n",
              "\n",
              "        [[0.49411765, 0.43529412, 0.33333333],\n",
              "         [0.4745098 , 0.40392157, 0.30980392],\n",
              "         [0.49411765, 0.41568627, 0.32156863],\n",
              "         ...,\n",
              "         [0.31372549, 0.32156863, 0.16862745],\n",
              "         [0.35686275, 0.35686275, 0.20784314],\n",
              "         [0.37647059, 0.36862745, 0.21568627]],\n",
              "\n",
              "        [[0.48235294, 0.41960784, 0.3254902 ],\n",
              "         [0.4745098 , 0.40392157, 0.30980392],\n",
              "         [0.50980392, 0.43137255, 0.3372549 ],\n",
              "         ...,\n",
              "         [0.30588235, 0.30980392, 0.16862745],\n",
              "         [0.34509804, 0.34117647, 0.19215686],\n",
              "         [0.37647059, 0.36862745, 0.21568627]],\n",
              "\n",
              "        [[0.47843137, 0.40784314, 0.31372549],\n",
              "         [0.47843137, 0.40784314, 0.31372549],\n",
              "         [0.5254902 , 0.44705882, 0.35294118],\n",
              "         ...,\n",
              "         [0.2627451 , 0.2627451 , 0.1254902 ],\n",
              "         [0.30588235, 0.30196078, 0.15294118],\n",
              "         [0.36470588, 0.35294118, 0.2       ]]],\n",
              "\n",
              "\n",
              "       [[[1.        , 1.        , 1.        ],\n",
              "         [1.        , 1.        , 1.        ],\n",
              "         [1.        , 1.        , 1.        ],\n",
              "         ...,\n",
              "         [1.        , 1.        , 1.        ],\n",
              "         [1.        , 1.        , 1.        ],\n",
              "         [1.        , 1.        , 1.        ]],\n",
              "\n",
              "        [[1.        , 1.        , 1.        ],\n",
              "         [1.        , 1.        , 1.        ],\n",
              "         [1.        , 1.        , 1.        ],\n",
              "         ...,\n",
              "         [1.        , 1.        , 1.        ],\n",
              "         [1.        , 1.        , 1.        ],\n",
              "         [1.        , 1.        , 1.        ]],\n",
              "\n",
              "        [[1.        , 1.        , 1.        ],\n",
              "         [1.        , 1.        , 1.        ],\n",
              "         [1.        , 1.        , 1.        ],\n",
              "         ...,\n",
              "         [1.        , 1.        , 1.        ],\n",
              "         [1.        , 1.        , 1.        ],\n",
              "         [1.        , 1.        , 1.        ]],\n",
              "\n",
              "        ...,\n",
              "\n",
              "        [[1.        , 1.        , 1.        ],\n",
              "         [1.        , 1.        , 1.        ],\n",
              "         [1.        , 1.        , 1.        ],\n",
              "         ...,\n",
              "         [1.        , 1.        , 1.        ],\n",
              "         [1.        , 1.        , 1.        ],\n",
              "         [1.        , 1.        , 1.        ]],\n",
              "\n",
              "        [[1.        , 1.        , 1.        ],\n",
              "         [1.        , 1.        , 1.        ],\n",
              "         [1.        , 1.        , 1.        ],\n",
              "         ...,\n",
              "         [1.        , 1.        , 1.        ],\n",
              "         [1.        , 1.        , 1.        ],\n",
              "         [1.        , 1.        , 1.        ]],\n",
              "\n",
              "        [[1.        , 1.        , 1.        ],\n",
              "         [1.        , 1.        , 1.        ],\n",
              "         [1.        , 1.        , 1.        ],\n",
              "         ...,\n",
              "         [1.        , 1.        , 1.        ],\n",
              "         [1.        , 1.        , 1.        ],\n",
              "         [1.        , 1.        , 1.        ]]],\n",
              "\n",
              "\n",
              "       ...,\n",
              "\n",
              "\n",
              "       [[[0.43529412, 0.4       , 0.37647059],\n",
              "         [0.34901961, 0.31764706, 0.30196078],\n",
              "         [0.35294118, 0.32156863, 0.30588235],\n",
              "         ...,\n",
              "         [0.29411765, 0.26666667, 0.24705882],\n",
              "         [0.32941176, 0.28627451, 0.2627451 ],\n",
              "         [0.42745098, 0.38431373, 0.35686275]],\n",
              "\n",
              "        [[0.4745098 , 0.43921569, 0.4       ],\n",
              "         [0.37647059, 0.34509804, 0.3254902 ],\n",
              "         [0.31764706, 0.28627451, 0.27843137],\n",
              "         ...,\n",
              "         [0.28235294, 0.25098039, 0.25098039],\n",
              "         [0.30588235, 0.26666667, 0.25098039],\n",
              "         [0.35294118, 0.31372549, 0.28627451]],\n",
              "\n",
              "        [[0.45490196, 0.41568627, 0.40392157],\n",
              "         [0.37254902, 0.3372549 , 0.31764706],\n",
              "         [0.38823529, 0.35294118, 0.32156863],\n",
              "         ...,\n",
              "         [0.24705882, 0.20784314, 0.20392157],\n",
              "         [0.2745098 , 0.23137255, 0.22745098],\n",
              "         [0.3254902 , 0.28627451, 0.25882353]],\n",
              "\n",
              "        ...,\n",
              "\n",
              "        [[0.49411765, 0.49019608, 0.47843137],\n",
              "         [0.49019608, 0.48627451, 0.47058824],\n",
              "         [0.47058824, 0.47058824, 0.45490196],\n",
              "         ...,\n",
              "         [0.57254902, 0.56078431, 0.5372549 ],\n",
              "         [0.57647059, 0.56470588, 0.54509804],\n",
              "         [0.55686275, 0.54509804, 0.5254902 ]],\n",
              "\n",
              "        [[0.48627451, 0.48627451, 0.47843137],\n",
              "         [0.49019608, 0.48627451, 0.47058824],\n",
              "         [0.4745098 , 0.47843137, 0.4627451 ],\n",
              "         ...,\n",
              "         [0.55294118, 0.54117647, 0.52156863],\n",
              "         [0.56078431, 0.54901961, 0.52941176],\n",
              "         [0.55686275, 0.54509804, 0.5254902 ]],\n",
              "\n",
              "        [[0.48235294, 0.47843137, 0.4627451 ],\n",
              "         [0.48627451, 0.48235294, 0.46666667],\n",
              "         [0.47058824, 0.47058824, 0.4627451 ],\n",
              "         ...,\n",
              "         [0.55294118, 0.54117647, 0.52156863],\n",
              "         [0.58823529, 0.57647059, 0.55686275],\n",
              "         [0.55294118, 0.54117647, 0.52156863]]],\n",
              "\n",
              "\n",
              "       [[[0.27843137, 0.43921569, 0.29803922],\n",
              "         [0.27843137, 0.43921569, 0.29803922],\n",
              "         [0.27843137, 0.43921569, 0.29803922],\n",
              "         ...,\n",
              "         [0.27843137, 0.43921569, 0.29803922],\n",
              "         [0.27843137, 0.43921569, 0.29803922],\n",
              "         [0.27843137, 0.43921569, 0.29803922]],\n",
              "\n",
              "        [[0.27843137, 0.43921569, 0.29803922],\n",
              "         [0.27843137, 0.43921569, 0.29803922],\n",
              "         [0.27843137, 0.43921569, 0.29803922],\n",
              "         ...,\n",
              "         [0.27843137, 0.43921569, 0.29803922],\n",
              "         [0.27843137, 0.43921569, 0.29803922],\n",
              "         [0.27843137, 0.43921569, 0.29803922]],\n",
              "\n",
              "        [[0.27843137, 0.43921569, 0.29803922],\n",
              "         [0.27843137, 0.43921569, 0.29803922],\n",
              "         [0.27843137, 0.43921569, 0.29803922],\n",
              "         ...,\n",
              "         [0.27843137, 0.43921569, 0.29803922],\n",
              "         [0.27843137, 0.43921569, 0.29803922],\n",
              "         [0.27843137, 0.43921569, 0.29803922]],\n",
              "\n",
              "        ...,\n",
              "\n",
              "        [[0.27843137, 0.43921569, 0.29803922],\n",
              "         [0.27843137, 0.43921569, 0.29803922],\n",
              "         [0.27843137, 0.43921569, 0.29803922],\n",
              "         ...,\n",
              "         [0.27843137, 0.43921569, 0.29803922],\n",
              "         [0.27843137, 0.43921569, 0.29803922],\n",
              "         [0.27843137, 0.43921569, 0.29803922]],\n",
              "\n",
              "        [[0.27843137, 0.43921569, 0.29803922],\n",
              "         [0.27843137, 0.43921569, 0.29803922],\n",
              "         [0.27843137, 0.43921569, 0.29803922],\n",
              "         ...,\n",
              "         [0.27843137, 0.43921569, 0.29803922],\n",
              "         [0.27843137, 0.43921569, 0.29803922],\n",
              "         [0.27843137, 0.43921569, 0.29803922]],\n",
              "\n",
              "        [[0.27843137, 0.43921569, 0.29803922],\n",
              "         [0.27843137, 0.43921569, 0.29803922],\n",
              "         [0.27843137, 0.43921569, 0.29803922],\n",
              "         ...,\n",
              "         [0.27843137, 0.43921569, 0.29803922],\n",
              "         [0.27843137, 0.43921569, 0.29803922],\n",
              "         [0.27843137, 0.43921569, 0.29803922]]],\n",
              "\n",
              "\n",
              "       [[[1.        , 1.        , 1.        ],\n",
              "         [1.        , 1.        , 1.        ],\n",
              "         [1.        , 1.        , 1.        ],\n",
              "         ...,\n",
              "         [1.        , 1.        , 1.        ],\n",
              "         [1.        , 1.        , 1.        ],\n",
              "         [1.        , 1.        , 1.        ]],\n",
              "\n",
              "        [[1.        , 1.        , 1.        ],\n",
              "         [1.        , 1.        , 1.        ],\n",
              "         [1.        , 1.        , 1.        ],\n",
              "         ...,\n",
              "         [1.        , 1.        , 1.        ],\n",
              "         [1.        , 1.        , 1.        ],\n",
              "         [1.        , 1.        , 1.        ]],\n",
              "\n",
              "        [[1.        , 1.        , 1.        ],\n",
              "         [1.        , 1.        , 1.        ],\n",
              "         [1.        , 1.        , 1.        ],\n",
              "         ...,\n",
              "         [1.        , 1.        , 1.        ],\n",
              "         [1.        , 1.        , 1.        ],\n",
              "         [1.        , 1.        , 1.        ]],\n",
              "\n",
              "        ...,\n",
              "\n",
              "        [[1.        , 1.        , 1.        ],\n",
              "         [1.        , 1.        , 1.        ],\n",
              "         [1.        , 1.        , 1.        ],\n",
              "         ...,\n",
              "         [1.        , 1.        , 1.        ],\n",
              "         [1.        , 1.        , 1.        ],\n",
              "         [1.        , 1.        , 1.        ]],\n",
              "\n",
              "        [[1.        , 1.        , 1.        ],\n",
              "         [1.        , 1.        , 1.        ],\n",
              "         [1.        , 1.        , 1.        ],\n",
              "         ...,\n",
              "         [1.        , 1.        , 1.        ],\n",
              "         [1.        , 1.        , 1.        ],\n",
              "         [1.        , 1.        , 1.        ]],\n",
              "\n",
              "        [[1.        , 1.        , 1.        ],\n",
              "         [1.        , 1.        , 1.        ],\n",
              "         [1.        , 1.        , 1.        ],\n",
              "         ...,\n",
              "         [1.        , 1.        , 1.        ],\n",
              "         [1.        , 1.        , 1.        ],\n",
              "         [1.        , 1.        , 1.        ]]]])"
            ]
          },
          "metadata": {},
          "execution_count": 12
        }
      ]
    },
    {
      "cell_type": "code",
      "metadata": {
        "id": "8OJur3pcC29r",
        "colab": {
          "base_uri": "https://localhost:8080/"
        },
        "outputId": "9ee1210a-b03b-427a-b46d-15ee22ca2db3"
      },
      "source": [
        "y_train"
      ],
      "execution_count": 13,
      "outputs": [
        {
          "output_type": "execute_result",
          "data": {
            "text/plain": [
              "array([[0, 0, 0, ..., 0, 1, 0],\n",
              "       [0, 0, 0, ..., 0, 1, 0],\n",
              "       [0, 0, 0, ..., 1, 0, 0],\n",
              "       ...,\n",
              "       [1, 0, 0, ..., 0, 0, 0],\n",
              "       [0, 1, 0, ..., 0, 0, 0],\n",
              "       [1, 0, 0, ..., 0, 0, 0]])"
            ]
          },
          "metadata": {},
          "execution_count": 13
        }
      ]
    },
    {
      "cell_type": "code",
      "metadata": {
        "id": "NcQQiaIyC26D",
        "colab": {
          "base_uri": "https://localhost:8080/"
        },
        "outputId": "5e01119e-c3e2-4505-8b74-28923460b316"
      },
      "source": [
        "train_label"
      ],
      "execution_count": 14,
      "outputs": [
        {
          "output_type": "execute_result",
          "data": {
            "text/plain": [
              "array([b'motocycle-motorbike-chopper', b'motocycle-motorbike-chopper',\n",
              "       b'motocycle-bicycle-racing', b'car-suv-alltypes',\n",
              "       b'motocycle-motorbike-sport', b'motocycle-bicycle-racing',\n",
              "       b'car-suv-alltypes', b'car-suv-alltypes', b'car-bus-alltypes',\n",
              "       b'car-bus-alltypes', b'car-bus-alltypes', b'car-bus-alltypes',\n",
              "       b'motocycle-motorbike-chopper', b'motocycle-bicycle-kids',\n",
              "       b'motocycle-bicycle-kids', b'motocycle-bicycle-kids',\n",
              "       b'motocycle-bicycle-kids', b'motocycle-motorbike-chopper',\n",
              "       b'motocycle-bicycle-racing', b'motocycle-motorbike-chopper',\n",
              "       b'motocycle-motorbike-chopper', b'car-suv-alltypes',\n",
              "       b'motocycle-motorbike-sport', b'motocycle-motorbike-sport',\n",
              "       b'car-bus-alltypes', b'car-sedan-alltypes',\n",
              "       b'motocycle-bicycle-kids', b'motocycle-motorbike-sport',\n",
              "       b'motocycle-motorbike-chopper', b'car-suv-alltypes',\n",
              "       b'motocycle-bicycle-kids', b'car-suv-alltypes',\n",
              "       b'car-bus-alltypes', b'motocycle-motorbike-chopper',\n",
              "       b'motocycle-bicycle-racing', b'motocycle-bicycle-kids',\n",
              "       b'motocycle-bicycle-racing', b'car-bus-alltypes',\n",
              "       b'motocycle-motorbike-chopper', b'car-suv-alltypes',\n",
              "       b'motocycle-bicycle-racing', b'motocycle-bicycle-racing',\n",
              "       b'motocycle-motorbike-sport', b'car-bus-alltypes',\n",
              "       b'car-suv-alltypes', b'motocycle-motorbike-chopper',\n",
              "       b'motocycle-motorbike-sport', b'car-bus-alltypes',\n",
              "       b'motocycle-motorbike-chopper', b'motocycle-bicycle-racing',\n",
              "       b'car-sedan-alltypes', b'motocycle-motorbike-sport',\n",
              "       b'motocycle-motorbike-sport', b'motocycle-motorbike-chopper',\n",
              "       b'car-bus-alltypes', b'car-bus-alltypes', b'car-sedan-alltypes',\n",
              "       b'motocycle-bicycle-racing', b'car-suv-alltypes',\n",
              "       b'motocycle-motorbike-sport', b'motocycle-motorbike-chopper',\n",
              "       b'car-sedan-alltypes', b'car-suv-alltypes', b'car-sedan-alltypes',\n",
              "       b'car-bus-alltypes', b'car-bus-alltypes',\n",
              "       b'motocycle-bicycle-racing', b'car-bus-alltypes',\n",
              "       b'car-suv-alltypes', b'car-suv-alltypes',\n",
              "       b'motocycle-bicycle-kids', b'car-bus-alltypes',\n",
              "       b'car-bus-alltypes', b'car-sedan-alltypes', b'car-suv-alltypes',\n",
              "       b'motocycle-bicycle-racing', b'motocycle-bicycle-racing',\n",
              "       b'motocycle-bicycle-kids', b'motocycle-bicycle-kids',\n",
              "       b'motocycle-motorbike-sport', b'car-bus-alltypes',\n",
              "       b'motocycle-bicycle-racing', b'motocycle-motorbike-chopper',\n",
              "       b'motocycle-bicycle-kids', b'motocycle-bicycle-racing',\n",
              "       b'car-suv-alltypes', b'car-sedan-alltypes', b'car-sedan-alltypes',\n",
              "       b'motocycle-bicycle-racing', b'car-bus-alltypes',\n",
              "       b'car-sedan-alltypes', b'car-bus-alltypes',\n",
              "       b'motocycle-motorbike-chopper', b'car-bus-alltypes',\n",
              "       b'motocycle-motorbike-chopper', b'motocycle-bicycle-racing',\n",
              "       b'motocycle-bicycle-kids', b'motocycle-bicycle-racing',\n",
              "       b'motocycle-motorbike-sport', b'motocycle-motorbike-sport',\n",
              "       b'car-suv-alltypes', b'motocycle-bicycle-kids',\n",
              "       b'car-bus-alltypes', b'motocycle-motorbike-chopper',\n",
              "       b'car-suv-alltypes', b'car-sedan-alltypes',\n",
              "       b'motocycle-bicycle-kids', b'car-bus-alltypes',\n",
              "       b'motocycle-bicycle-kids', b'motocycle-motorbike-chopper',\n",
              "       b'car-sedan-alltypes', b'motocycle-bicycle-kids',\n",
              "       b'car-suv-alltypes', b'motocycle-bicycle-kids',\n",
              "       b'car-suv-alltypes', b'car-suv-alltypes', b'car-suv-alltypes',\n",
              "       b'car-suv-alltypes', b'motocycle-motorbike-sport',\n",
              "       b'motocycle-motorbike-chopper', b'car-bus-alltypes',\n",
              "       b'motocycle-bicycle-racing', b'motocycle-bicycle-racing',\n",
              "       b'motocycle-motorbike-sport', b'motocycle-motorbike-chopper',\n",
              "       b'car-suv-alltypes', b'car-bus-alltypes',\n",
              "       b'motocycle-bicycle-racing', b'motocycle-motorbike-sport',\n",
              "       b'motocycle-bicycle-racing', b'motocycle-motorbike-chopper',\n",
              "       b'car-bus-alltypes', b'car-sedan-alltypes', b'car-suv-alltypes',\n",
              "       b'motocycle-bicycle-kids', b'car-sedan-alltypes',\n",
              "       b'car-sedan-alltypes', b'motocycle-motorbike-sport',\n",
              "       b'car-suv-alltypes', b'motocycle-motorbike-chopper',\n",
              "       b'car-sedan-alltypes', b'motocycle-bicycle-kids',\n",
              "       b'car-sedan-alltypes', b'motocycle-bicycle-kids',\n",
              "       b'motocycle-bicycle-racing', b'car-suv-alltypes',\n",
              "       b'motocycle-bicycle-kids', b'motocycle-motorbike-sport',\n",
              "       b'car-bus-alltypes', b'car-bus-alltypes', b'car-sedan-alltypes',\n",
              "       b'car-bus-alltypes', b'motocycle-bicycle-kids',\n",
              "       b'car-sedan-alltypes', b'car-bus-alltypes',\n",
              "       b'motocycle-bicycle-racing', b'motocycle-bicycle-kids',\n",
              "       b'motocycle-motorbike-chopper', b'motocycle-motorbike-chopper',\n",
              "       b'car-bus-alltypes', b'car-sedan-alltypes',\n",
              "       b'motocycle-motorbike-sport', b'car-suv-alltypes',\n",
              "       b'motocycle-motorbike-sport', b'motocycle-bicycle-racing',\n",
              "       b'motocycle-bicycle-kids', b'car-sedan-alltypes',\n",
              "       b'motocycle-bicycle-kids', b'motocycle-motorbike-sport',\n",
              "       b'car-bus-alltypes', b'car-sedan-alltypes', b'car-sedan-alltypes',\n",
              "       b'motocycle-bicycle-kids', b'motocycle-bicycle-racing',\n",
              "       b'motocycle-motorbike-sport', b'motocycle-bicycle-racing',\n",
              "       b'car-sedan-alltypes', b'motocycle-bicycle-racing',\n",
              "       b'car-bus-alltypes', b'motocycle-bicycle-racing',\n",
              "       b'motocycle-bicycle-racing', b'motocycle-bicycle-kids',\n",
              "       b'car-sedan-alltypes', b'car-suv-alltypes', b'car-sedan-alltypes',\n",
              "       b'car-bus-alltypes', b'car-bus-alltypes', b'car-sedan-alltypes',\n",
              "       b'car-sedan-alltypes', b'motocycle-bicycle-kids',\n",
              "       b'car-suv-alltypes', b'motocycle-motorbike-sport',\n",
              "       b'motocycle-bicycle-racing', b'motocycle-motorbike-chopper',\n",
              "       b'motocycle-motorbike-chopper', b'motocycle-bicycle-kids',\n",
              "       b'car-sedan-alltypes', b'motocycle-motorbike-chopper',\n",
              "       b'car-sedan-alltypes', b'motocycle-bicycle-kids',\n",
              "       b'motocycle-bicycle-racing', b'motocycle-motorbike-chopper',\n",
              "       b'motocycle-motorbike-chopper', b'motocycle-motorbike-sport',\n",
              "       b'car-suv-alltypes', b'car-sedan-alltypes', b'car-suv-alltypes',\n",
              "       b'motocycle-bicycle-kids', b'motocycle-motorbike-sport',\n",
              "       b'motocycle-motorbike-sport', b'car-bus-alltypes',\n",
              "       b'motocycle-motorbike-chopper', b'motocycle-bicycle-kids',\n",
              "       b'car-suv-alltypes', b'car-bus-alltypes', b'car-suv-alltypes',\n",
              "       b'car-sedan-alltypes', b'car-sedan-alltypes',\n",
              "       b'car-sedan-alltypes', b'motocycle-bicycle-racing',\n",
              "       b'car-sedan-alltypes', b'motocycle-motorbike-chopper',\n",
              "       b'motocycle-motorbike-sport', b'motocycle-bicycle-kids',\n",
              "       b'car-sedan-alltypes', b'motocycle-motorbike-sport',\n",
              "       b'motocycle-motorbike-chopper', b'car-bus-alltypes',\n",
              "       b'motocycle-bicycle-racing', b'car-suv-alltypes',\n",
              "       b'car-bus-alltypes', b'motocycle-motorbike-sport',\n",
              "       b'motocycle-bicycle-kids', b'car-sedan-alltypes',\n",
              "       b'motocycle-bicycle-racing', b'car-bus-alltypes',\n",
              "       b'motocycle-motorbike-sport', b'motocycle-motorbike-chopper',\n",
              "       b'motocycle-motorbike-sport', b'car-bus-alltypes',\n",
              "       b'car-sedan-alltypes', b'motocycle-bicycle-racing',\n",
              "       b'motocycle-motorbike-sport', b'car-suv-alltypes',\n",
              "       b'car-sedan-alltypes', b'motocycle-bicycle-kids',\n",
              "       b'car-suv-alltypes', b'car-sedan-alltypes',\n",
              "       b'motocycle-motorbike-sport', b'car-suv-alltypes',\n",
              "       b'motocycle-motorbike-sport', b'motocycle-motorbike-sport',\n",
              "       b'car-suv-alltypes', b'car-suv-alltypes', b'car-suv-alltypes',\n",
              "       b'motocycle-bicycle-kids', b'car-sedan-alltypes',\n",
              "       b'car-suv-alltypes', b'motocycle-bicycle-racing',\n",
              "       b'car-suv-alltypes', b'motocycle-bicycle-kids',\n",
              "       b'motocycle-bicycle-kids', b'motocycle-bicycle-kids',\n",
              "       b'car-bus-alltypes', b'car-sedan-alltypes',\n",
              "       b'motocycle-bicycle-kids', b'motocycle-bicycle-racing',\n",
              "       b'car-sedan-alltypes', b'motocycle-bicycle-kids',\n",
              "       b'motocycle-bicycle-kids', b'motocycle-bicycle-racing',\n",
              "       b'motocycle-bicycle-racing', b'motocycle-bicycle-kids',\n",
              "       b'motocycle-bicycle-kids', b'car-sedan-alltypes',\n",
              "       b'motocycle-motorbike-chopper', b'motocycle-bicycle-kids',\n",
              "       b'motocycle-motorbike-sport', b'motocycle-motorbike-chopper',\n",
              "       b'motocycle-motorbike-sport', b'car-sedan-alltypes',\n",
              "       b'motocycle-motorbike-chopper', b'car-sedan-alltypes',\n",
              "       b'motocycle-bicycle-racing', b'motocycle-bicycle-racing',\n",
              "       b'motocycle-motorbike-chopper', b'car-suv-alltypes',\n",
              "       b'car-suv-alltypes', b'motocycle-motorbike-chopper',\n",
              "       b'car-bus-alltypes', b'motocycle-bicycle-kids',\n",
              "       b'motocycle-bicycle-kids', b'motocycle-motorbike-sport',\n",
              "       b'motocycle-bicycle-racing', b'car-sedan-alltypes',\n",
              "       b'motocycle-motorbike-sport', b'motocycle-motorbike-chopper',\n",
              "       b'motocycle-bicycle-kids', b'motocycle-bicycle-kids',\n",
              "       b'motocycle-motorbike-chopper', b'motocycle-bicycle-racing',\n",
              "       b'motocycle-bicycle-racing', b'motocycle-motorbike-chopper',\n",
              "       b'motocycle-motorbike-sport', b'motocycle-bicycle-racing',\n",
              "       b'motocycle-bicycle-racing', b'motocycle-motorbike-chopper',\n",
              "       b'car-sedan-alltypes', b'car-sedan-alltypes', b'car-bus-alltypes',\n",
              "       b'car-bus-alltypes', b'car-sedan-alltypes', b'car-sedan-alltypes',\n",
              "       b'motocycle-bicycle-kids', b'motocycle-motorbike-chopper',\n",
              "       b'car-sedan-alltypes', b'motocycle-bicycle-kids',\n",
              "       b'motocycle-bicycle-kids', b'motocycle-motorbike-sport',\n",
              "       b'motocycle-motorbike-chopper', b'car-suv-alltypes',\n",
              "       b'car-bus-alltypes', b'car-sedan-alltypes',\n",
              "       b'motocycle-bicycle-racing', b'motocycle-motorbike-chopper',\n",
              "       b'motocycle-motorbike-sport', b'car-sedan-alltypes',\n",
              "       b'car-suv-alltypes', b'motocycle-bicycle-kids',\n",
              "       b'motocycle-bicycle-kids', b'motocycle-bicycle-kids',\n",
              "       b'motocycle-bicycle-kids', b'motocycle-bicycle-racing',\n",
              "       b'motocycle-bicycle-kids', b'motocycle-bicycle-kids',\n",
              "       b'motocycle-bicycle-kids', b'car-bus-alltypes',\n",
              "       b'motocycle-motorbike-sport', b'motocycle-bicycle-kids',\n",
              "       b'motocycle-bicycle-racing', b'car-bus-alltypes',\n",
              "       b'car-bus-alltypes', b'motocycle-bicycle-racing',\n",
              "       b'motocycle-bicycle-kids', b'motocycle-bicycle-racing',\n",
              "       b'motocycle-bicycle-racing', b'motocycle-motorbike-sport',\n",
              "       b'motocycle-bicycle-kids', b'motocycle-bicycle-racing',\n",
              "       b'motocycle-bicycle-racing', b'motocycle-bicycle-racing',\n",
              "       b'car-suv-alltypes', b'motocycle-motorbike-chopper',\n",
              "       b'motocycle-bicycle-kids', b'motocycle-bicycle-racing',\n",
              "       b'motocycle-bicycle-kids', b'motocycle-bicycle-kids',\n",
              "       b'car-bus-alltypes', b'car-sedan-alltypes', b'car-sedan-alltypes',\n",
              "       b'motocycle-motorbike-chopper', b'car-sedan-alltypes',\n",
              "       b'motocycle-motorbike-sport', b'car-suv-alltypes',\n",
              "       b'car-bus-alltypes', b'car-sedan-alltypes', b'car-sedan-alltypes',\n",
              "       b'car-suv-alltypes', b'motocycle-bicycle-kids',\n",
              "       b'motocycle-bicycle-kids', b'car-sedan-alltypes',\n",
              "       b'motocycle-bicycle-kids', b'car-bus-alltypes',\n",
              "       b'motocycle-motorbike-sport', b'car-sedan-alltypes',\n",
              "       b'car-bus-alltypes', b'motocycle-motorbike-sport',\n",
              "       b'motocycle-motorbike-chopper', b'car-sedan-alltypes',\n",
              "       b'motocycle-motorbike-sport', b'car-bus-alltypes',\n",
              "       b'car-suv-alltypes', b'motocycle-motorbike-chopper',\n",
              "       b'motocycle-bicycle-kids', b'motocycle-bicycle-kids',\n",
              "       b'motocycle-bicycle-racing', b'motocycle-bicycle-kids',\n",
              "       b'motocycle-motorbike-sport', b'motocycle-motorbike-chopper',\n",
              "       b'car-sedan-alltypes', b'motocycle-motorbike-chopper',\n",
              "       b'motocycle-bicycle-racing', b'car-suv-alltypes',\n",
              "       b'motocycle-motorbike-sport', b'car-suv-alltypes',\n",
              "       b'car-bus-alltypes', b'car-bus-alltypes',\n",
              "       b'motocycle-bicycle-racing', b'motocycle-motorbike-sport',\n",
              "       b'car-sedan-alltypes', b'motocycle-motorbike-sport',\n",
              "       b'motocycle-bicycle-racing', b'motocycle-motorbike-sport',\n",
              "       b'car-suv-alltypes', b'motocycle-bicycle-kids',\n",
              "       b'motocycle-motorbike-sport', b'car-suv-alltypes',\n",
              "       b'car-bus-alltypes', b'motocycle-bicycle-racing',\n",
              "       b'car-bus-alltypes', b'car-bus-alltypes', b'car-suv-alltypes',\n",
              "       b'motocycle-bicycle-racing', b'car-suv-alltypes',\n",
              "       b'car-sedan-alltypes', b'motocycle-bicycle-kids',\n",
              "       b'car-sedan-alltypes', b'motocycle-motorbike-sport',\n",
              "       b'motocycle-motorbike-sport', b'motocycle-bicycle-kids',\n",
              "       b'motocycle-bicycle-kids', b'motocycle-motorbike-chopper',\n",
              "       b'car-bus-alltypes', b'car-sedan-alltypes', b'car-bus-alltypes',\n",
              "       b'car-suv-alltypes', b'motocycle-bicycle-kids',\n",
              "       b'car-sedan-alltypes', b'motocycle-bicycle-kids',\n",
              "       b'motocycle-bicycle-racing', b'motocycle-motorbike-sport',\n",
              "       b'motocycle-motorbike-chopper', b'motocycle-bicycle-kids',\n",
              "       b'car-suv-alltypes', b'motocycle-bicycle-kids',\n",
              "       b'motocycle-bicycle-kids', b'motocycle-motorbike-chopper',\n",
              "       b'car-bus-alltypes', b'car-sedan-alltypes',\n",
              "       b'motocycle-bicycle-racing', b'car-bus-alltypes',\n",
              "       b'motocycle-motorbike-sport', b'motocycle-motorbike-sport',\n",
              "       b'motocycle-bicycle-racing', b'motocycle-bicycle-racing',\n",
              "       b'car-suv-alltypes', b'motocycle-motorbike-sport',\n",
              "       b'motocycle-motorbike-sport', b'motocycle-motorbike-chopper',\n",
              "       b'car-suv-alltypes', b'motocycle-motorbike-chopper',\n",
              "       b'car-sedan-alltypes', b'car-sedan-alltypes',\n",
              "       b'motocycle-motorbike-sport', b'car-bus-alltypes',\n",
              "       b'motocycle-bicycle-racing', b'car-bus-alltypes',\n",
              "       b'motocycle-motorbike-chopper', b'car-suv-alltypes',\n",
              "       b'car-bus-alltypes', b'motocycle-motorbike-sport',\n",
              "       b'car-bus-alltypes', b'motocycle-bicycle-kids',\n",
              "       b'motocycle-motorbike-sport', b'car-bus-alltypes',\n",
              "       b'car-suv-alltypes', b'motocycle-bicycle-kids',\n",
              "       b'motocycle-bicycle-racing', b'car-bus-alltypes',\n",
              "       b'car-suv-alltypes', b'motocycle-motorbike-chopper',\n",
              "       b'car-sedan-alltypes', b'motocycle-motorbike-chopper',\n",
              "       b'car-suv-alltypes', b'car-bus-alltypes',\n",
              "       b'motocycle-motorbike-chopper', b'car-suv-alltypes',\n",
              "       b'motocycle-bicycle-kids', b'motocycle-bicycle-kids',\n",
              "       b'motocycle-motorbike-chopper', b'motocycle-bicycle-kids',\n",
              "       b'car-suv-alltypes', b'motocycle-bicycle-racing',\n",
              "       b'motocycle-motorbike-sport', b'car-bus-alltypes',\n",
              "       b'car-bus-alltypes', b'motocycle-bicycle-racing',\n",
              "       b'motocycle-bicycle-kids', b'car-sedan-alltypes',\n",
              "       b'motocycle-motorbike-chopper', b'motocycle-motorbike-sport',\n",
              "       b'motocycle-bicycle-kids', b'motocycle-bicycle-racing',\n",
              "       b'car-suv-alltypes', b'motocycle-motorbike-sport',\n",
              "       b'motocycle-motorbike-chopper', b'car-bus-alltypes',\n",
              "       b'motocycle-motorbike-chopper', b'car-bus-alltypes',\n",
              "       b'motocycle-motorbike-chopper', b'motocycle-motorbike-chopper',\n",
              "       b'car-sedan-alltypes', b'motocycle-motorbike-sport',\n",
              "       b'motocycle-motorbike-sport', b'car-sedan-alltypes',\n",
              "       b'car-suv-alltypes', b'motocycle-bicycle-kids',\n",
              "       b'car-sedan-alltypes', b'car-bus-alltypes', b'car-suv-alltypes',\n",
              "       b'motocycle-bicycle-kids', b'car-bus-alltypes',\n",
              "       b'motocycle-bicycle-kids', b'car-bus-alltypes',\n",
              "       b'car-sedan-alltypes', b'motocycle-bicycle-kids',\n",
              "       b'car-bus-alltypes', b'car-suv-alltypes', b'car-suv-alltypes',\n",
              "       b'car-sedan-alltypes', b'car-bus-alltypes',\n",
              "       b'motocycle-motorbike-sport', b'car-bus-alltypes',\n",
              "       b'motocycle-motorbike-sport', b'car-bus-alltypes',\n",
              "       b'motocycle-bicycle-kids', b'motocycle-motorbike-sport',\n",
              "       b'car-suv-alltypes', b'motocycle-motorbike-chopper',\n",
              "       b'motocycle-bicycle-racing', b'motocycle-motorbike-chopper',\n",
              "       b'car-bus-alltypes', b'motocycle-bicycle-racing',\n",
              "       b'motocycle-motorbike-sport', b'car-bus-alltypes',\n",
              "       b'car-bus-alltypes', b'motocycle-motorbike-sport',\n",
              "       b'car-suv-alltypes', b'motocycle-bicycle-kids',\n",
              "       b'motocycle-bicycle-kids', b'motocycle-motorbike-chopper',\n",
              "       b'motocycle-bicycle-racing', b'motocycle-motorbike-sport',\n",
              "       b'car-sedan-alltypes', b'car-sedan-alltypes', b'car-bus-alltypes',\n",
              "       b'car-sedan-alltypes', b'car-suv-alltypes',\n",
              "       b'motocycle-motorbike-chopper', b'car-bus-alltypes',\n",
              "       b'motocycle-motorbike-sport', b'car-bus-alltypes',\n",
              "       b'motocycle-motorbike-chopper', b'motocycle-bicycle-kids',\n",
              "       b'motocycle-motorbike-sport', b'car-sedan-alltypes',\n",
              "       b'car-sedan-alltypes', b'car-sedan-alltypes', b'car-bus-alltypes',\n",
              "       b'car-sedan-alltypes', b'motocycle-motorbike-sport',\n",
              "       b'motocycle-motorbike-sport', b'motocycle-motorbike-chopper',\n",
              "       b'car-sedan-alltypes', b'car-suv-alltypes',\n",
              "       b'motocycle-bicycle-kids', b'motocycle-bicycle-racing',\n",
              "       b'motocycle-motorbike-sport', b'motocycle-bicycle-kids',\n",
              "       b'car-sedan-alltypes', b'motocycle-motorbike-sport',\n",
              "       b'motocycle-bicycle-racing', b'car-sedan-alltypes',\n",
              "       b'motocycle-bicycle-racing', b'car-bus-alltypes',\n",
              "       b'car-suv-alltypes', b'car-suv-alltypes',\n",
              "       b'motocycle-bicycle-kids', b'motocycle-bicycle-racing',\n",
              "       b'motocycle-bicycle-racing', b'car-suv-alltypes',\n",
              "       b'car-bus-alltypes', b'motocycle-bicycle-kids',\n",
              "       b'motocycle-bicycle-kids', b'car-sedan-alltypes',\n",
              "       b'motocycle-bicycle-racing', b'car-suv-alltypes',\n",
              "       b'car-sedan-alltypes', b'motocycle-motorbike-sport',\n",
              "       b'car-bus-alltypes', b'car-bus-alltypes',\n",
              "       b'motocycle-bicycle-kids', b'car-bus-alltypes',\n",
              "       b'motocycle-motorbike-chopper', b'motocycle-motorbike-chopper',\n",
              "       b'motocycle-bicycle-racing', b'car-bus-alltypes',\n",
              "       b'car-bus-alltypes', b'motocycle-motorbike-chopper',\n",
              "       b'car-bus-alltypes', b'car-bus-alltypes', b'car-sedan-alltypes',\n",
              "       b'car-bus-alltypes'], dtype='|S30')"
            ]
          },
          "metadata": {},
          "execution_count": 14
        }
      ]
    },
    {
      "cell_type": "code",
      "metadata": {
        "id": "CdS7DDZMC23l",
        "colab": {
          "base_uri": "https://localhost:8080/"
        },
        "outputId": "577c1444-a405-4bde-ead1-0bb9d5784f6d"
      },
      "source": [
        "X_train.shape"
      ],
      "execution_count": 15,
      "outputs": [
        {
          "output_type": "execute_result",
          "data": {
            "text/plain": [
              "(603, 224, 224, 3)"
            ]
          },
          "metadata": {},
          "execution_count": 15
        }
      ]
    },
    {
      "cell_type": "code",
      "metadata": {
        "id": "_5gIvSsOC20k",
        "colab": {
          "base_uri": "https://localhost:8080/"
        },
        "outputId": "c67f1a05-c348-46ff-fafa-90dd795421f1"
      },
      "source": [
        "X_test.shape"
      ],
      "execution_count": 16,
      "outputs": [
        {
          "output_type": "execute_result",
          "data": {
            "text/plain": [
              "(76, 224, 224, 3)"
            ]
          },
          "metadata": {},
          "execution_count": 16
        }
      ]
    },
    {
      "cell_type": "code",
      "metadata": {
        "id": "IOYGekj-C2w9",
        "colab": {
          "base_uri": "https://localhost:8080/"
        },
        "outputId": "abd03ada-b969-4c51-c5a5-8d146e7704a8"
      },
      "source": [
        "X_val.shape"
      ],
      "execution_count": 17,
      "outputs": [
        {
          "output_type": "execute_result",
          "data": {
            "text/plain": [
              "(75, 224, 224, 3)"
            ]
          },
          "metadata": {},
          "execution_count": 17
        }
      ]
    },
    {
      "cell_type": "code",
      "metadata": {
        "id": "Uh92ZjhHC2t8"
      },
      "source": [
        ""
      ],
      "execution_count": null,
      "outputs": []
    },
    {
      "cell_type": "markdown",
      "metadata": {
        "id": "hNVeLhVkW7BT"
      },
      "source": [
        "# 사진이미지 확인해 보기"
      ]
    },
    {
      "cell_type": "code",
      "metadata": {
        "id": "YIA55wubC5ki",
        "colab": {
          "base_uri": "https://localhost:8080/",
          "height": 269
        },
        "outputId": "c1bc3715-caf8-46cd-e365-a69a792315f6"
      },
      "source": [
        "plt.imshow( X_train[10] )\n",
        "plt.show()"
      ],
      "execution_count": 23,
      "outputs": [
        {
          "output_type": "display_data",
          "data": {
            "text/plain": [
              "<Figure size 432x288 with 1 Axes>"
            ],
            "image/png": "[encoded data removed]"
          },
          "metadata": {
            "needs_background": "light"
          }
        }
      ]
    },
    {
      "cell_type": "code",
      "metadata": {
        "id": "UDpcSGY1C5hE",
        "colab": {
          "base_uri": "https://localhost:8080/"
        },
        "outputId": "4395342d-321d-47ea-9905-7778abd5bc26"
      },
      "source": [
        "y_train[10]"
      ],
      "execution_count": 24,
      "outputs": [
        {
          "output_type": "execute_result",
          "data": {
            "text/plain": [
              "array([1, 0, 0, 0, 0, 0, 0])"
            ]
          },
          "metadata": {},
          "execution_count": 24
        }
      ]
    },
    {
      "cell_type": "code",
      "metadata": {
        "id": "tEann7vEC5eQ",
        "colab": {
          "base_uri": "https://localhost:8080/"
        },
        "outputId": "4828cc41-2f7a-49d1-858d-bd5e1dcc74f4"
      },
      "source": [
        "train_label[10]"
      ],
      "execution_count": 25,
      "outputs": [
        {
          "output_type": "execute_result",
          "data": {
            "text/plain": [
              "b'car-bus-alltypes'"
            ]
          },
          "metadata": {},
          "execution_count": 25
        }
      ]
    },
    {
      "cell_type": "code",
      "metadata": {
        "id": "yrmZgqvHC5bQ"
      },
      "source": [
        "# 이 데이터는 이미 피쳐스케일링 되어있다!"
      ],
      "execution_count": 26,
      "outputs": []
    },
    {
      "cell_type": "code",
      "metadata": {
        "id": "jb3i_IBmC5Mr",
        "colab": {
          "base_uri": "https://localhost:8080/"
        },
        "outputId": "3d655e31-1c39-4f3f-9c6e-cc7fbf0330fc"
      },
      "source": [
        "X_train.max()"
      ],
      "execution_count": 27,
      "outputs": [
        {
          "output_type": "execute_result",
          "data": {
            "text/plain": [
              "1.0"
            ]
          },
          "metadata": {},
          "execution_count": 27
        }
      ]
    },
    {
      "cell_type": "code",
      "source": [
        "X_train.min()"
      ],
      "metadata": {
        "colab": {
          "base_uri": "https://localhost:8080/"
        },
        "id": "LC-DWI9bENON",
        "outputId": "2f594ea0-f628-439b-d86a-b6a7698f5212"
      },
      "execution_count": 28,
      "outputs": [
        {
          "output_type": "execute_result",
          "data": {
            "text/plain": [
              "0.0"
            ]
          },
          "metadata": {},
          "execution_count": 28
        }
      ]
    },
    {
      "cell_type": "markdown",
      "metadata": {
        "id": "aMOODjGBmjdS"
      },
      "source": [
        "# 모델링하기 : 트랜스퍼 러닝 적용\n",
        "\n",
        "# Data Augmentation"
      ]
    },
    {
      "cell_type": "code",
      "source": [
        "X_train.shape"
      ],
      "metadata": {
        "colab": {
          "base_uri": "https://localhost:8080/"
        },
        "id": "i2bFhx-5LCA9",
        "outputId": "6a7919df-f4c0-461d-ce15-d8196744c67c"
      },
      "execution_count": 29,
      "outputs": [
        {
          "output_type": "execute_result",
          "data": {
            "text/plain": [
              "(603, 224, 224, 3)"
            ]
          },
          "metadata": {},
          "execution_count": 29
        }
      ]
    },
    {
      "cell_type": "code",
      "metadata": {
        "id": "s_0yDIb8DEHM",
        "colab": {
          "base_uri": "https://localhost:8080/"
        },
        "outputId": "2e72bb10-677d-4c54-a92b-a5f10376f71d"
      },
      "source": [
        "base_model = MobileNetV2(input_shape = (224,224,3) , include_top= False)"
      ],
      "execution_count": 32,
      "outputs": [
        {
          "output_type": "stream",
          "name": "stdout",
          "text": [
            "Downloading data from https://storage.googleapis.com/tensorflow/keras-applications/mobilenet_v2/mobilenet_v2_weights_tf_dim_ordering_tf_kernels_1.0_224_no_top.h5\n",
            "9412608/9406464 [==============================] - 0s 0us/step\n",
            "9420800/9406464 [==============================] - 0s 0us/step\n"
          ]
        }
      ]
    },
    {
      "cell_type": "code",
      "metadata": {
        "id": "scRA83ixDEA2",
        "colab": {
          "base_uri": "https://localhost:8080/"
        },
        "outputId": "f7b3ebff-edbd-4337-9d6e-41071cb82d3f"
      },
      "source": [
        "base_model.summary()"
      ],
      "execution_count": 33,
      "outputs": [
        {
          "output_type": "stream",
          "name": "stdout",
          "text": [
            "Model: \"mobilenetv2_1.00_224\"\n",
            "__________________________________________________________________________________________________\n",
            " Layer (type)                   Output Shape         Param #     Connected to                     \n",
            "==================================================================================================\n",
            " input_2 (InputLayer)           [(None, 224, 224, 3  0           []                               \n",
            "                                )]                                                                \n",
            "                                                                                                  \n",
            " Conv1 (Conv2D)                 (None, 112, 112, 32  864         ['input_2[0][0]']                \n",
            "                                )                                                                 \n",
            "                                                                                                  \n",
            " bn_Conv1 (BatchNormalization)  (None, 112, 112, 32  128         ['Conv1[0][0]']                  \n",
            "                                )                                                                 \n",
            "                                                                                                  \n",
            " Conv1_relu (ReLU)              (None, 112, 112, 32  0           ['bn_Conv1[0][0]']               \n",
            "                                )                                                                 \n",
            "                                                                                                  \n",
            " expanded_conv_depthwise (Depth  (None, 112, 112, 32  288        ['Conv1_relu[0][0]']             \n",
            " wiseConv2D)                    )                                                                 \n",
            "                                                                                                  \n",
            " expanded_conv_depthwise_BN (Ba  (None, 112, 112, 32  128        ['expanded_conv_depthwise[0][0]']\n",
            " tchNormalization)              )                                                                 \n",
            "                                                                                                  \n",
            " expanded_conv_depthwise_relu (  (None, 112, 112, 32  0          ['expanded_conv_depthwise_BN[0][0\n",
            " ReLU)                          )                                ]']                              \n",
            "                                                                                                  \n",
            " expanded_conv_project (Conv2D)  (None, 112, 112, 16  512        ['expanded_conv_depthwise_relu[0]\n",
            "                                )                                [0]']                            \n",
            "                                                                                                  \n",
            " expanded_conv_project_BN (Batc  (None, 112, 112, 16  64         ['expanded_conv_project[0][0]']  \n",
            " hNormalization)                )                                                                 \n",
            "                                                                                                  \n",
            " block_1_expand (Conv2D)        (None, 112, 112, 96  1536        ['expanded_conv_project_BN[0][0]'\n",
            "                                )                                ]                                \n",
            "                                                                                                  \n",
            " block_1_expand_BN (BatchNormal  (None, 112, 112, 96  384        ['block_1_expand[0][0]']         \n",
            " ization)                       )                                                                 \n",
            "                                                                                                  \n",
            " block_1_expand_relu (ReLU)     (None, 112, 112, 96  0           ['block_1_expand_BN[0][0]']      \n",
            "                                )                                                                 \n",
            "                                                                                                  \n",
            " block_1_pad (ZeroPadding2D)    (None, 113, 113, 96  0           ['block_1_expand_relu[0][0]']    \n",
            "                                )                                                                 \n",
            "                                                                                                  \n",
            " block_1_depthwise (DepthwiseCo  (None, 56, 56, 96)  864         ['block_1_pad[0][0]']            \n",
            " nv2D)                                                                                            \n",
            "                                                                                                  \n",
            " block_1_depthwise_BN (BatchNor  (None, 56, 56, 96)  384         ['block_1_depthwise[0][0]']      \n",
            " malization)                                                                                      \n",
            "                                                                                                  \n",
            " block_1_depthwise_relu (ReLU)  (None, 56, 56, 96)   0           ['block_1_depthwise_BN[0][0]']   \n",
            "                                                                                                  \n",
            " block_1_project (Conv2D)       (None, 56, 56, 24)   2304        ['block_1_depthwise_relu[0][0]'] \n",
            "                                                                                                  \n",
            " block_1_project_BN (BatchNorma  (None, 56, 56, 24)  96          ['block_1_project[0][0]']        \n",
            " lization)                                                                                        \n",
            "                                                                                                  \n",
            " block_2_expand (Conv2D)        (None, 56, 56, 144)  3456        ['block_1_project_BN[0][0]']     \n",
            "                                                                                                  \n",
            " block_2_expand_BN (BatchNormal  (None, 56, 56, 144)  576        ['block_2_expand[0][0]']         \n",
            " ization)                                                                                         \n",
            "                                                                                                  \n",
            " block_2_expand_relu (ReLU)     (None, 56, 56, 144)  0           ['block_2_expand_BN[0][0]']      \n",
            "                                                                                                  \n",
            " block_2_depthwise (DepthwiseCo  (None, 56, 56, 144)  1296       ['block_2_expand_relu[0][0]']    \n",
            " nv2D)                                                                                            \n",
            "                                                                                                  \n",
            " block_2_depthwise_BN (BatchNor  (None, 56, 56, 144)  576        ['block_2_depthwise[0][0]']      \n",
            " malization)                                                                                      \n",
            "                                                                                                  \n",
            " block_2_depthwise_relu (ReLU)  (None, 56, 56, 144)  0           ['block_2_depthwise_BN[0][0]']   \n",
            "                                                                                                  \n",
            " block_2_project (Conv2D)       (None, 56, 56, 24)   3456        ['block_2_depthwise_relu[0][0]'] \n",
            "                                                                                                  \n",
            " block_2_project_BN (BatchNorma  (None, 56, 56, 24)  96          ['block_2_project[0][0]']        \n",
            " lization)                                                                                        \n",
            "                                                                                                  \n",
            " block_2_add (Add)              (None, 56, 56, 24)   0           ['block_1_project_BN[0][0]',     \n",
            "                                                                  'block_2_project_BN[0][0]']     \n",
            "                                                                                                  \n",
            " block_3_expand (Conv2D)        (None, 56, 56, 144)  3456        ['block_2_add[0][0]']            \n",
            "                                                                                                  \n",
            " block_3_expand_BN (BatchNormal  (None, 56, 56, 144)  576        ['block_3_expand[0][0]']         \n",
            " ization)                                                                                         \n",
            "                                                                                                  \n",
            " block_3_expand_relu (ReLU)     (None, 56, 56, 144)  0           ['block_3_expand_BN[0][0]']      \n",
            "                                                                                                  \n",
            " block_3_pad (ZeroPadding2D)    (None, 57, 57, 144)  0           ['block_3_expand_relu[0][0]']    \n",
            "                                                                                                  \n",
            " block_3_depthwise (DepthwiseCo  (None, 28, 28, 144)  1296       ['block_3_pad[0][0]']            \n",
            " nv2D)                                                                                            \n",
            "                                                                                                  \n",
            " block_3_depthwise_BN (BatchNor  (None, 28, 28, 144)  576        ['block_3_depthwise[0][0]']      \n",
            " malization)                                                                                      \n",
            "                                                                                                  \n",
            " block_3_depthwise_relu (ReLU)  (None, 28, 28, 144)  0           ['block_3_depthwise_BN[0][0]']   \n",
            "                                                                                                  \n",
            " block_3_project (Conv2D)       (None, 28, 28, 32)   4608        ['block_3_depthwise_relu[0][0]'] \n",
            "                                                                                                  \n",
            " block_3_project_BN (BatchNorma  (None, 28, 28, 32)  128         ['block_3_project[0][0]']        \n",
            " lization)                                                                                        \n",
            "                                                                                                  \n",
            " block_4_expand (Conv2D)        (None, 28, 28, 192)  6144        ['block_3_project_BN[0][0]']     \n",
            "                                                                                                  \n",
            " block_4_expand_BN (BatchNormal  (None, 28, 28, 192)  768        ['block_4_expand[0][0]']         \n",
            " ization)                                                                                         \n",
            "                                                                                                  \n",
            " block_4_expand_relu (ReLU)     (None, 28, 28, 192)  0           ['block_4_expand_BN[0][0]']      \n",
            "                                                                                                  \n",
            " block_4_depthwise (DepthwiseCo  (None, 28, 28, 192)  1728       ['block_4_expand_relu[0][0]']    \n",
            " nv2D)                                                                                            \n",
            "                                                                                                  \n",
            " block_4_depthwise_BN (BatchNor  (None, 28, 28, 192)  768        ['block_4_depthwise[0][0]']      \n",
            " malization)                                                                                      \n",
            "                                                                                                  \n",
            " block_4_depthwise_relu (ReLU)  (None, 28, 28, 192)  0           ['block_4_depthwise_BN[0][0]']   \n",
            "                                                                                                  \n",
            " block_4_project (Conv2D)       (None, 28, 28, 32)   6144        ['block_4_depthwise_relu[0][0]'] \n",
            "                                                                                                  \n",
            " block_4_project_BN (BatchNorma  (None, 28, 28, 32)  128         ['block_4_project[0][0]']        \n",
            " lization)                                                                                        \n",
            "                                                                                                  \n",
            " block_4_add (Add)              (None, 28, 28, 32)   0           ['block_3_project_BN[0][0]',     \n",
            "                                                                  'block_4_project_BN[0][0]']     \n",
            "                                                                                                  \n",
            " block_5_expand (Conv2D)        (None, 28, 28, 192)  6144        ['block_4_add[0][0]']            \n",
            "                                                                                                  \n",
            " block_5_expand_BN (BatchNormal  (None, 28, 28, 192)  768        ['block_5_expand[0][0]']         \n",
            " ization)                                                                                         \n",
            "                                                                                                  \n",
            " block_5_expand_relu (ReLU)     (None, 28, 28, 192)  0           ['block_5_expand_BN[0][0]']      \n",
            "                                                                                                  \n",
            " block_5_depthwise (DepthwiseCo  (None, 28, 28, 192)  1728       ['block_5_expand_relu[0][0]']    \n",
            " nv2D)                                                                                            \n",
            "                                                                                                  \n",
            " block_5_depthwise_BN (BatchNor  (None, 28, 28, 192)  768        ['block_5_depthwise[0][0]']      \n",
            " malization)                                                                                      \n",
            "                                                                                                  \n",
            " block_5_depthwise_relu (ReLU)  (None, 28, 28, 192)  0           ['block_5_depthwise_BN[0][0]']   \n",
            "                                                                                                  \n",
            " block_5_project (Conv2D)       (None, 28, 28, 32)   6144        ['block_5_depthwise_relu[0][0]'] \n",
            "                                                                                                  \n",
            " block_5_project_BN (BatchNorma  (None, 28, 28, 32)  128         ['block_5_project[0][0]']        \n",
            " lization)                                                                                        \n",
            "                                                                                                  \n",
            " block_5_add (Add)              (None, 28, 28, 32)   0           ['block_4_add[0][0]',            \n",
            "                                                                  'block_5_project_BN[0][0]']     \n",
            "                                                                                                  \n",
            " block_6_expand (Conv2D)        (None, 28, 28, 192)  6144        ['block_5_add[0][0]']            \n",
            "                                                                                                  \n",
            " block_6_expand_BN (BatchNormal  (None, 28, 28, 192)  768        ['block_6_expand[0][0]']         \n",
            " ization)                                                                                         \n",
            "                                                                                                  \n",
            " block_6_expand_relu (ReLU)     (None, 28, 28, 192)  0           ['block_6_expand_BN[0][0]']      \n",
            "                                                                                                  \n",
            " block_6_pad (ZeroPadding2D)    (None, 29, 29, 192)  0           ['block_6_expand_relu[0][0]']    \n",
            "                                                                                                  \n",
            " block_6_depthwise (DepthwiseCo  (None, 14, 14, 192)  1728       ['block_6_pad[0][0]']            \n",
            " nv2D)                                                                                            \n",
            "                                                                                                  \n",
            " block_6_depthwise_BN (BatchNor  (None, 14, 14, 192)  768        ['block_6_depthwise[0][0]']      \n",
            " malization)                                                                                      \n",
            "                                                                                                  \n",
            " block_6_depthwise_relu (ReLU)  (None, 14, 14, 192)  0           ['block_6_depthwise_BN[0][0]']   \n",
            "                                                                                                  \n",
            " block_6_project (Conv2D)       (None, 14, 14, 64)   12288       ['block_6_depthwise_relu[0][0]'] \n",
            "                                                                                                  \n",
            " block_6_project_BN (BatchNorma  (None, 14, 14, 64)  256         ['block_6_project[0][0]']        \n",
            " lization)                                                                                        \n",
            "                                                                                                  \n",
            " block_7_expand (Conv2D)        (None, 14, 14, 384)  24576       ['block_6_project_BN[0][0]']     \n",
            "                                                                                                  \n",
            " block_7_expand_BN (BatchNormal  (None, 14, 14, 384)  1536       ['block_7_expand[0][0]']         \n",
            " ization)                                                                                         \n",
            "                                                                                                  \n",
            " block_7_expand_relu (ReLU)     (None, 14, 14, 384)  0           ['block_7_expand_BN[0][0]']      \n",
            "                                                                                                  \n",
            " block_7_depthwise (DepthwiseCo  (None, 14, 14, 384)  3456       ['block_7_expand_relu[0][0]']    \n",
            " nv2D)                                                                                            \n",
            "                                                                                                  \n",
            " block_7_depthwise_BN (BatchNor  (None, 14, 14, 384)  1536       ['block_7_depthwise[0][0]']      \n",
            " malization)                                                                                      \n",
            "                                                                                                  \n",
            " block_7_depthwise_relu (ReLU)  (None, 14, 14, 384)  0           ['block_7_depthwise_BN[0][0]']   \n",
            "                                                                                                  \n",
            " block_7_project (Conv2D)       (None, 14, 14, 64)   24576       ['block_7_depthwise_relu[0][0]'] \n",
            "                                                                                                  \n",
            " block_7_project_BN (BatchNorma  (None, 14, 14, 64)  256         ['block_7_project[0][0]']        \n",
            " lization)                                                                                        \n",
            "                                                                                                  \n",
            " block_7_add (Add)              (None, 14, 14, 64)   0           ['block_6_project_BN[0][0]',     \n",
            "                                                                  'block_7_project_BN[0][0]']     \n",
            "                                                                                                  \n",
            " block_8_expand (Conv2D)        (None, 14, 14, 384)  24576       ['block_7_add[0][0]']            \n",
            "                                                                                                  \n",
            " block_8_expand_BN (BatchNormal  (None, 14, 14, 384)  1536       ['block_8_expand[0][0]']         \n",
            " ization)                                                                                         \n",
            "                                                                                                  \n",
            " block_8_expand_relu (ReLU)     (None, 14, 14, 384)  0           ['block_8_expand_BN[0][0]']      \n",
            "                                                                                                  \n",
            " block_8_depthwise (DepthwiseCo  (None, 14, 14, 384)  3456       ['block_8_expand_relu[0][0]']    \n",
            " nv2D)                                                                                            \n",
            "                                                                                                  \n",
            " block_8_depthwise_BN (BatchNor  (None, 14, 14, 384)  1536       ['block_8_depthwise[0][0]']      \n",
            " malization)                                                                                      \n",
            "                                                                                                  \n",
            " block_8_depthwise_relu (ReLU)  (None, 14, 14, 384)  0           ['block_8_depthwise_BN[0][0]']   \n",
            "                                                                                                  \n",
            " block_8_project (Conv2D)       (None, 14, 14, 64)   24576       ['block_8_depthwise_relu[0][0]'] \n",
            "                                                                                                  \n",
            " block_8_project_BN (BatchNorma  (None, 14, 14, 64)  256         ['block_8_project[0][0]']        \n",
            " lization)                                                                                        \n",
            "                                                                                                  \n",
            " block_8_add (Add)              (None, 14, 14, 64)   0           ['block_7_add[0][0]',            \n",
            "                                                                  'block_8_project_BN[0][0]']     \n",
            "                                                                                                  \n",
            " block_9_expand (Conv2D)        (None, 14, 14, 384)  24576       ['block_8_add[0][0]']            \n",
            "                                                                                                  \n",
            " block_9_expand_BN (BatchNormal  (None, 14, 14, 384)  1536       ['block_9_expand[0][0]']         \n",
            " ization)                                                                                         \n",
            "                                                                                                  \n",
            " block_9_expand_relu (ReLU)     (None, 14, 14, 384)  0           ['block_9_expand_BN[0][0]']      \n",
            "                                                                                                  \n",
            " block_9_depthwise (DepthwiseCo  (None, 14, 14, 384)  3456       ['block_9_expand_relu[0][0]']    \n",
            " nv2D)                                                                                            \n",
            "                                                                                                  \n",
            " block_9_depthwise_BN (BatchNor  (None, 14, 14, 384)  1536       ['block_9_depthwise[0][0]']      \n",
            " malization)                                                                                      \n",
            "                                                                                                  \n",
            " block_9_depthwise_relu (ReLU)  (None, 14, 14, 384)  0           ['block_9_depthwise_BN[0][0]']   \n",
            "                                                                                                  \n",
            " block_9_project (Conv2D)       (None, 14, 14, 64)   24576       ['block_9_depthwise_relu[0][0]'] \n",
            "                                                                                                  \n",
            " block_9_project_BN (BatchNorma  (None, 14, 14, 64)  256         ['block_9_project[0][0]']        \n",
            " lization)                                                                                        \n",
            "                                                                                                  \n",
            " block_9_add (Add)              (None, 14, 14, 64)   0           ['block_8_add[0][0]',            \n",
            "                                                                  'block_9_project_BN[0][0]']     \n",
            "                                                                                                  \n",
            " block_10_expand (Conv2D)       (None, 14, 14, 384)  24576       ['block_9_add[0][0]']            \n",
            "                                                                                                  \n",
            " block_10_expand_BN (BatchNorma  (None, 14, 14, 384)  1536       ['block_10_expand[0][0]']        \n",
            " lization)                                                                                        \n",
            "                                                                                                  \n",
            " block_10_expand_relu (ReLU)    (None, 14, 14, 384)  0           ['block_10_expand_BN[0][0]']     \n",
            "                                                                                                  \n",
            " block_10_depthwise (DepthwiseC  (None, 14, 14, 384)  3456       ['block_10_expand_relu[0][0]']   \n",
            " onv2D)                                                                                           \n",
            "                                                                                                  \n",
            " block_10_depthwise_BN (BatchNo  (None, 14, 14, 384)  1536       ['block_10_depthwise[0][0]']     \n",
            " rmalization)                                                                                     \n",
            "                                                                                                  \n",
            " block_10_depthwise_relu (ReLU)  (None, 14, 14, 384)  0          ['block_10_depthwise_BN[0][0]']  \n",
            "                                                                                                  \n",
            " block_10_project (Conv2D)      (None, 14, 14, 96)   36864       ['block_10_depthwise_relu[0][0]']\n",
            "                                                                                                  \n",
            " block_10_project_BN (BatchNorm  (None, 14, 14, 96)  384         ['block_10_project[0][0]']       \n",
            " alization)                                                                                       \n",
            "                                                                                                  \n",
            " block_11_expand (Conv2D)       (None, 14, 14, 576)  55296       ['block_10_project_BN[0][0]']    \n",
            "                                                                                                  \n",
            " block_11_expand_BN (BatchNorma  (None, 14, 14, 576)  2304       ['block_11_expand[0][0]']        \n",
            " lization)                                                                                        \n",
            "                                                                                                  \n",
            " block_11_expand_relu (ReLU)    (None, 14, 14, 576)  0           ['block_11_expand_BN[0][0]']     \n",
            "                                                                                                  \n",
            " block_11_depthwise (DepthwiseC  (None, 14, 14, 576)  5184       ['block_11_expand_relu[0][0]']   \n",
            " onv2D)                                                                                           \n",
            "                                                                                                  \n",
            " block_11_depthwise_BN (BatchNo  (None, 14, 14, 576)  2304       ['block_11_depthwise[0][0]']     \n",
            " rmalization)                                                                                     \n",
            "                                                                                                  \n",
            " block_11_depthwise_relu (ReLU)  (None, 14, 14, 576)  0          ['block_11_depthwise_BN[0][0]']  \n",
            "                                                                                                  \n",
            " block_11_project (Conv2D)      (None, 14, 14, 96)   55296       ['block_11_depthwise_relu[0][0]']\n",
            "                                                                                                  \n",
            " block_11_project_BN (BatchNorm  (None, 14, 14, 96)  384         ['block_11_project[0][0]']       \n",
            " alization)                                                                                       \n",
            "                                                                                                  \n",
            " block_11_add (Add)             (None, 14, 14, 96)   0           ['block_10_project_BN[0][0]',    \n",
            "                                                                  'block_11_project_BN[0][0]']    \n",
            "                                                                                                  \n",
            " block_12_expand (Conv2D)       (None, 14, 14, 576)  55296       ['block_11_add[0][0]']           \n",
            "                                                                                                  \n",
            " block_12_expand_BN (BatchNorma  (None, 14, 14, 576)  2304       ['block_12_expand[0][0]']        \n",
            " lization)                                                                                        \n",
            "                                                                                                  \n",
            " block_12_expand_relu (ReLU)    (None, 14, 14, 576)  0           ['block_12_expand_BN[0][0]']     \n",
            "                                                                                                  \n",
            " block_12_depthwise (DepthwiseC  (None, 14, 14, 576)  5184       ['block_12_expand_relu[0][0]']   \n",
            " onv2D)                                                                                           \n",
            "                                                                                                  \n",
            " block_12_depthwise_BN (BatchNo  (None, 14, 14, 576)  2304       ['block_12_depthwise[0][0]']     \n",
            " rmalization)                                                                                     \n",
            "                                                                                                  \n",
            " block_12_depthwise_relu (ReLU)  (None, 14, 14, 576)  0          ['block_12_depthwise_BN[0][0]']  \n",
            "                                                                                                  \n",
            " block_12_project (Conv2D)      (None, 14, 14, 96)   55296       ['block_12_depthwise_relu[0][0]']\n",
            "                                                                                                  \n",
            " block_12_project_BN (BatchNorm  (None, 14, 14, 96)  384         ['block_12_project[0][0]']       \n",
            " alization)                                                                                       \n",
            "                                                                                                  \n",
            " block_12_add (Add)             (None, 14, 14, 96)   0           ['block_11_add[0][0]',           \n",
            "                                                                  'block_12_project_BN[0][0]']    \n",
            "                                                                                                  \n",
            " block_13_expand (Conv2D)       (None, 14, 14, 576)  55296       ['block_12_add[0][0]']           \n",
            "                                                                                                  \n",
            " block_13_expand_BN (BatchNorma  (None, 14, 14, 576)  2304       ['block_13_expand[0][0]']        \n",
            " lization)                                                                                        \n",
            "                                                                                                  \n",
            " block_13_expand_relu (ReLU)    (None, 14, 14, 576)  0           ['block_13_expand_BN[0][0]']     \n",
            "                                                                                                  \n",
            " block_13_pad (ZeroPadding2D)   (None, 15, 15, 576)  0           ['block_13_expand_relu[0][0]']   \n",
            "                                                                                                  \n",
            " block_13_depthwise (DepthwiseC  (None, 7, 7, 576)   5184        ['block_13_pad[0][0]']           \n",
            " onv2D)                                                                                           \n",
            "                                                                                                  \n",
            " block_13_depthwise_BN (BatchNo  (None, 7, 7, 576)   2304        ['block_13_depthwise[0][0]']     \n",
            " rmalization)                                                                                     \n",
            "                                                                                                  \n",
            " block_13_depthwise_relu (ReLU)  (None, 7, 7, 576)   0           ['block_13_depthwise_BN[0][0]']  \n",
            "                                                                                                  \n",
            " block_13_project (Conv2D)      (None, 7, 7, 160)    92160       ['block_13_depthwise_relu[0][0]']\n",
            "                                                                                                  \n",
            " block_13_project_BN (BatchNorm  (None, 7, 7, 160)   640         ['block_13_project[0][0]']       \n",
            " alization)                                                                                       \n",
            "                                                                                                  \n",
            " block_14_expand (Conv2D)       (None, 7, 7, 960)    153600      ['block_13_project_BN[0][0]']    \n",
            "                                                                                                  \n",
            " block_14_expand_BN (BatchNorma  (None, 7, 7, 960)   3840        ['block_14_expand[0][0]']        \n",
            " lization)                                                                                        \n",
            "                                                                                                  \n",
            " block_14_expand_relu (ReLU)    (None, 7, 7, 960)    0           ['block_14_expand_BN[0][0]']     \n",
            "                                                                                                  \n",
            " block_14_depthwise (DepthwiseC  (None, 7, 7, 960)   8640        ['block_14_expand_relu[0][0]']   \n",
            " onv2D)                                                                                           \n",
            "                                                                                                  \n",
            " block_14_depthwise_BN (BatchNo  (None, 7, 7, 960)   3840        ['block_14_depthwise[0][0]']     \n",
            " rmalization)                                                                                     \n",
            "                                                                                                  \n",
            " block_14_depthwise_relu (ReLU)  (None, 7, 7, 960)   0           ['block_14_depthwise_BN[0][0]']  \n",
            "                                                                                                  \n",
            " block_14_project (Conv2D)      (None, 7, 7, 160)    153600      ['block_14_depthwise_relu[0][0]']\n",
            "                                                                                                  \n",
            " block_14_project_BN (BatchNorm  (None, 7, 7, 160)   640         ['block_14_project[0][0]']       \n",
            " alization)                                                                                       \n",
            "                                                                                                  \n",
            " block_14_add (Add)             (None, 7, 7, 160)    0           ['block_13_project_BN[0][0]',    \n",
            "                                                                  'block_14_project_BN[0][0]']    \n",
            "                                                                                                  \n",
            " block_15_expand (Conv2D)       (None, 7, 7, 960)    153600      ['block_14_add[0][0]']           \n",
            "                                                                                                  \n",
            " block_15_expand_BN (BatchNorma  (None, 7, 7, 960)   3840        ['block_15_expand[0][0]']        \n",
            " lization)                                                                                        \n",
            "                                                                                                  \n",
            " block_15_expand_relu (ReLU)    (None, 7, 7, 960)    0           ['block_15_expand_BN[0][0]']     \n",
            "                                                                                                  \n",
            " block_15_depthwise (DepthwiseC  (None, 7, 7, 960)   8640        ['block_15_expand_relu[0][0]']   \n",
            " onv2D)                                                                                           \n",
            "                                                                                                  \n",
            " block_15_depthwise_BN (BatchNo  (None, 7, 7, 960)   3840        ['block_15_depthwise[0][0]']     \n",
            " rmalization)                                                                                     \n",
            "                                                                                                  \n",
            " block_15_depthwise_relu (ReLU)  (None, 7, 7, 960)   0           ['block_15_depthwise_BN[0][0]']  \n",
            "                                                                                                  \n",
            " block_15_project (Conv2D)      (None, 7, 7, 160)    153600      ['block_15_depthwise_relu[0][0]']\n",
            "                                                                                                  \n",
            " block_15_project_BN (BatchNorm  (None, 7, 7, 160)   640         ['block_15_project[0][0]']       \n",
            " alization)                                                                                       \n",
            "                                                                                                  \n",
            " block_15_add (Add)             (None, 7, 7, 160)    0           ['block_14_add[0][0]',           \n",
            "                                                                  'block_15_project_BN[0][0]']    \n",
            "                                                                                                  \n",
            " block_16_expand (Conv2D)       (None, 7, 7, 960)    153600      ['block_15_add[0][0]']           \n",
            "                                                                                                  \n",
            " block_16_expand_BN (BatchNorma  (None, 7, 7, 960)   3840        ['block_16_expand[0][0]']        \n",
            " lization)                                                                                        \n",
            "                                                                                                  \n",
            " block_16_expand_relu (ReLU)    (None, 7, 7, 960)    0           ['block_16_expand_BN[0][0]']     \n",
            "                                                                                                  \n",
            " block_16_depthwise (DepthwiseC  (None, 7, 7, 960)   8640        ['block_16_expand_relu[0][0]']   \n",
            " onv2D)                                                                                           \n",
            "                                                                                                  \n",
            " block_16_depthwise_BN (BatchNo  (None, 7, 7, 960)   3840        ['block_16_depthwise[0][0]']     \n",
            " rmalization)                                                                                     \n",
            "                                                                                                  \n",
            " block_16_depthwise_relu (ReLU)  (None, 7, 7, 960)   0           ['block_16_depthwise_BN[0][0]']  \n",
            "                                                                                                  \n",
            " block_16_project (Conv2D)      (None, 7, 7, 320)    307200      ['block_16_depthwise_relu[0][0]']\n",
            "                                                                                                  \n",
            " block_16_project_BN (BatchNorm  (None, 7, 7, 320)   1280        ['block_16_project[0][0]']       \n",
            " alization)                                                                                       \n",
            "                                                                                                  \n",
            " Conv_1 (Conv2D)                (None, 7, 7, 1280)   409600      ['block_16_project_BN[0][0]']    \n",
            "                                                                                                  \n",
            " Conv_1_bn (BatchNormalization)  (None, 7, 7, 1280)  5120        ['Conv_1[0][0]']                 \n",
            "                                                                                                  \n",
            " out_relu (ReLU)                (None, 7, 7, 1280)   0           ['Conv_1_bn[0][0]']              \n",
            "                                                                                                  \n",
            "==================================================================================================\n",
            "Total params: 2,257,984\n",
            "Trainable params: 2,223,872\n",
            "Non-trainable params: 34,112\n",
            "__________________________________________________________________________________________________\n"
          ]
        }
      ]
    },
    {
      "cell_type": "code",
      "metadata": {
        "id": "TQLJW0nFDD-A"
      },
      "source": [
        "base_model.trainable = False"
      ],
      "execution_count": 34,
      "outputs": []
    },
    {
      "cell_type": "code",
      "metadata": {
        "id": "oBk371fEDD7q",
        "colab": {
          "base_uri": "https://localhost:8080/"
        },
        "outputId": "2cc67750-b33e-4868-aa6f-7ebaadc80cf1"
      },
      "source": [
        "base_model.summary()"
      ],
      "execution_count": 35,
      "outputs": [
        {
          "output_type": "stream",
          "name": "stdout",
          "text": [
            "Model: \"mobilenetv2_1.00_224\"\n",
            "__________________________________________________________________________________________________\n",
            " Layer (type)                   Output Shape         Param #     Connected to                     \n",
            "==================================================================================================\n",
            " input_2 (InputLayer)           [(None, 224, 224, 3  0           []                               \n",
            "                                )]                                                                \n",
            "                                                                                                  \n",
            " Conv1 (Conv2D)                 (None, 112, 112, 32  864         ['input_2[0][0]']                \n",
            "                                )                                                                 \n",
            "                                                                                                  \n",
            " bn_Conv1 (BatchNormalization)  (None, 112, 112, 32  128         ['Conv1[0][0]']                  \n",
            "                                )                                                                 \n",
            "                                                                                                  \n",
            " Conv1_relu (ReLU)              (None, 112, 112, 32  0           ['bn_Conv1[0][0]']               \n",
            "                                )                                                                 \n",
            "                                                                                                  \n",
            " expanded_conv_depthwise (Depth  (None, 112, 112, 32  288        ['Conv1_relu[0][0]']             \n",
            " wiseConv2D)                    )                                                                 \n",
            "                                                                                                  \n",
            " expanded_conv_depthwise_BN (Ba  (None, 112, 112, 32  128        ['expanded_conv_depthwise[0][0]']\n",
            " tchNormalization)              )                                                                 \n",
            "                                                                                                  \n",
            " expanded_conv_depthwise_relu (  (None, 112, 112, 32  0          ['expanded_conv_depthwise_BN[0][0\n",
            " ReLU)                          )                                ]']                              \n",
            "                                                                                                  \n",
            " expanded_conv_project (Conv2D)  (None, 112, 112, 16  512        ['expanded_conv_depthwise_relu[0]\n",
            "                                )                                [0]']                            \n",
            "                                                                                                  \n",
            " expanded_conv_project_BN (Batc  (None, 112, 112, 16  64         ['expanded_conv_project[0][0]']  \n",
            " hNormalization)                )                                                                 \n",
            "                                                                                                  \n",
            " block_1_expand (Conv2D)        (None, 112, 112, 96  1536        ['expanded_conv_project_BN[0][0]'\n",
            "                                )                                ]                                \n",
            "                                                                                                  \n",
            " block_1_expand_BN (BatchNormal  (None, 112, 112, 96  384        ['block_1_expand[0][0]']         \n",
            " ization)                       )                                                                 \n",
            "                                                                                                  \n",
            " block_1_expand_relu (ReLU)     (None, 112, 112, 96  0           ['block_1_expand_BN[0][0]']      \n",
            "                                )                                                                 \n",
            "                                                                                                  \n",
            " block_1_pad (ZeroPadding2D)    (None, 113, 113, 96  0           ['block_1_expand_relu[0][0]']    \n",
            "                                )                                                                 \n",
            "                                                                                                  \n",
            " block_1_depthwise (DepthwiseCo  (None, 56, 56, 96)  864         ['block_1_pad[0][0]']            \n",
            " nv2D)                                                                                            \n",
            "                                                                                                  \n",
            " block_1_depthwise_BN (BatchNor  (None, 56, 56, 96)  384         ['block_1_depthwise[0][0]']      \n",
            " malization)                                                                                      \n",
            "                                                                                                  \n",
            " block_1_depthwise_relu (ReLU)  (None, 56, 56, 96)   0           ['block_1_depthwise_BN[0][0]']   \n",
            "                                                                                                  \n",
            " block_1_project (Conv2D)       (None, 56, 56, 24)   2304        ['block_1_depthwise_relu[0][0]'] \n",
            "                                                                                                  \n",
            " block_1_project_BN (BatchNorma  (None, 56, 56, 24)  96          ['block_1_project[0][0]']        \n",
            " lization)                                                                                        \n",
            "                                                                                                  \n",
            " block_2_expand (Conv2D)        (None, 56, 56, 144)  3456        ['block_1_project_BN[0][0]']     \n",
            "                                                                                                  \n",
            " block_2_expand_BN (BatchNormal  (None, 56, 56, 144)  576        ['block_2_expand[0][0]']         \n",
            " ization)                                                                                         \n",
            "                                                                                                  \n",
            " block_2_expand_relu (ReLU)     (None, 56, 56, 144)  0           ['block_2_expand_BN[0][0]']      \n",
            "                                                                                                  \n",
            " block_2_depthwise (DepthwiseCo  (None, 56, 56, 144)  1296       ['block_2_expand_relu[0][0]']    \n",
            " nv2D)                                                                                            \n",
            "                                                                                                  \n",
            " block_2_depthwise_BN (BatchNor  (None, 56, 56, 144)  576        ['block_2_depthwise[0][0]']      \n",
            " malization)                                                                                      \n",
            "                                                                                                  \n",
            " block_2_depthwise_relu (ReLU)  (None, 56, 56, 144)  0           ['block_2_depthwise_BN[0][0]']   \n",
            "                                                                                                  \n",
            " block_2_project (Conv2D)       (None, 56, 56, 24)   3456        ['block_2_depthwise_relu[0][0]'] \n",
            "                                                                                                  \n",
            " block_2_project_BN (BatchNorma  (None, 56, 56, 24)  96          ['block_2_project[0][0]']        \n",
            " lization)                                                                                        \n",
            "                                                                                                  \n",
            " block_2_add (Add)              (None, 56, 56, 24)   0           ['block_1_project_BN[0][0]',     \n",
            "                                                                  'block_2_project_BN[0][0]']     \n",
            "                                                                                                  \n",
            " block_3_expand (Conv2D)        (None, 56, 56, 144)  3456        ['block_2_add[0][0]']            \n",
            "                                                                                                  \n",
            " block_3_expand_BN (BatchNormal  (None, 56, 56, 144)  576        ['block_3_expand[0][0]']         \n",
            " ization)                                                                                         \n",
            "                                                                                                  \n",
            " block_3_expand_relu (ReLU)     (None, 56, 56, 144)  0           ['block_3_expand_BN[0][0]']      \n",
            "                                                                                                  \n",
            " block_3_pad (ZeroPadding2D)    (None, 57, 57, 144)  0           ['block_3_expand_relu[0][0]']    \n",
            "                                                                                                  \n",
            " block_3_depthwise (DepthwiseCo  (None, 28, 28, 144)  1296       ['block_3_pad[0][0]']            \n",
            " nv2D)                                                                                            \n",
            "                                                                                                  \n",
            " block_3_depthwise_BN (BatchNor  (None, 28, 28, 144)  576        ['block_3_depthwise[0][0]']      \n",
            " malization)                                                                                      \n",
            "                                                                                                  \n",
            " block_3_depthwise_relu (ReLU)  (None, 28, 28, 144)  0           ['block_3_depthwise_BN[0][0]']   \n",
            "                                                                                                  \n",
            " block_3_project (Conv2D)       (None, 28, 28, 32)   4608        ['block_3_depthwise_relu[0][0]'] \n",
            "                                                                                                  \n",
            " block_3_project_BN (BatchNorma  (None, 28, 28, 32)  128         ['block_3_project[0][0]']        \n",
            " lization)                                                                                        \n",
            "                                                                                                  \n",
            " block_4_expand (Conv2D)        (None, 28, 28, 192)  6144        ['block_3_project_BN[0][0]']     \n",
            "                                                                                                  \n",
            " block_4_expand_BN (BatchNormal  (None, 28, 28, 192)  768        ['block_4_expand[0][0]']         \n",
            " ization)                                                                                         \n",
            "                                                                                                  \n",
            " block_4_expand_relu (ReLU)     (None, 28, 28, 192)  0           ['block_4_expand_BN[0][0]']      \n",
            "                                                                                                  \n",
            " block_4_depthwise (DepthwiseCo  (None, 28, 28, 192)  1728       ['block_4_expand_relu[0][0]']    \n",
            " nv2D)                                                                                            \n",
            "                                                                                                  \n",
            " block_4_depthwise_BN (BatchNor  (None, 28, 28, 192)  768        ['block_4_depthwise[0][0]']      \n",
            " malization)                                                                                      \n",
            "                                                                                                  \n",
            " block_4_depthwise_relu (ReLU)  (None, 28, 28, 192)  0           ['block_4_depthwise_BN[0][0]']   \n",
            "                                                                                                  \n",
            " block_4_project (Conv2D)       (None, 28, 28, 32)   6144        ['block_4_depthwise_relu[0][0]'] \n",
            "                                                                                                  \n",
            " block_4_project_BN (BatchNorma  (None, 28, 28, 32)  128         ['block_4_project[0][0]']        \n",
            " lization)                                                                                        \n",
            "                                                                                                  \n",
            " block_4_add (Add)              (None, 28, 28, 32)   0           ['block_3_project_BN[0][0]',     \n",
            "                                                                  'block_4_project_BN[0][0]']     \n",
            "                                                                                                  \n",
            " block_5_expand (Conv2D)        (None, 28, 28, 192)  6144        ['block_4_add[0][0]']            \n",
            "                                                                                                  \n",
            " block_5_expand_BN (BatchNormal  (None, 28, 28, 192)  768        ['block_5_expand[0][0]']         \n",
            " ization)                                                                                         \n",
            "                                                                                                  \n",
            " block_5_expand_relu (ReLU)     (None, 28, 28, 192)  0           ['block_5_expand_BN[0][0]']      \n",
            "                                                                                                  \n",
            " block_5_depthwise (DepthwiseCo  (None, 28, 28, 192)  1728       ['block_5_expand_relu[0][0]']    \n",
            " nv2D)                                                                                            \n",
            "                                                                                                  \n",
            " block_5_depthwise_BN (BatchNor  (None, 28, 28, 192)  768        ['block_5_depthwise[0][0]']      \n",
            " malization)                                                                                      \n",
            "                                                                                                  \n",
            " block_5_depthwise_relu (ReLU)  (None, 28, 28, 192)  0           ['block_5_depthwise_BN[0][0]']   \n",
            "                                                                                                  \n",
            " block_5_project (Conv2D)       (None, 28, 28, 32)   6144        ['block_5_depthwise_relu[0][0]'] \n",
            "                                                                                                  \n",
            " block_5_project_BN (BatchNorma  (None, 28, 28, 32)  128         ['block_5_project[0][0]']        \n",
            " lization)                                                                                        \n",
            "                                                                                                  \n",
            " block_5_add (Add)              (None, 28, 28, 32)   0           ['block_4_add[0][0]',            \n",
            "                                                                  'block_5_project_BN[0][0]']     \n",
            "                                                                                                  \n",
            " block_6_expand (Conv2D)        (None, 28, 28, 192)  6144        ['block_5_add[0][0]']            \n",
            "                                                                                                  \n",
            " block_6_expand_BN (BatchNormal  (None, 28, 28, 192)  768        ['block_6_expand[0][0]']         \n",
            " ization)                                                                                         \n",
            "                                                                                                  \n",
            " block_6_expand_relu (ReLU)     (None, 28, 28, 192)  0           ['block_6_expand_BN[0][0]']      \n",
            "                                                                                                  \n",
            " block_6_pad (ZeroPadding2D)    (None, 29, 29, 192)  0           ['block_6_expand_relu[0][0]']    \n",
            "                                                                                                  \n",
            " block_6_depthwise (DepthwiseCo  (None, 14, 14, 192)  1728       ['block_6_pad[0][0]']            \n",
            " nv2D)                                                                                            \n",
            "                                                                                                  \n",
            " block_6_depthwise_BN (BatchNor  (None, 14, 14, 192)  768        ['block_6_depthwise[0][0]']      \n",
            " malization)                                                                                      \n",
            "                                                                                                  \n",
            " block_6_depthwise_relu (ReLU)  (None, 14, 14, 192)  0           ['block_6_depthwise_BN[0][0]']   \n",
            "                                                                                                  \n",
            " block_6_project (Conv2D)       (None, 14, 14, 64)   12288       ['block_6_depthwise_relu[0][0]'] \n",
            "                                                                                                  \n",
            " block_6_project_BN (BatchNorma  (None, 14, 14, 64)  256         ['block_6_project[0][0]']        \n",
            " lization)                                                                                        \n",
            "                                                                                                  \n",
            " block_7_expand (Conv2D)        (None, 14, 14, 384)  24576       ['block_6_project_BN[0][0]']     \n",
            "                                                                                                  \n",
            " block_7_expand_BN (BatchNormal  (None, 14, 14, 384)  1536       ['block_7_expand[0][0]']         \n",
            " ization)                                                                                         \n",
            "                                                                                                  \n",
            " block_7_expand_relu (ReLU)     (None, 14, 14, 384)  0           ['block_7_expand_BN[0][0]']      \n",
            "                                                                                                  \n",
            " block_7_depthwise (DepthwiseCo  (None, 14, 14, 384)  3456       ['block_7_expand_relu[0][0]']    \n",
            " nv2D)                                                                                            \n",
            "                                                                                                  \n",
            " block_7_depthwise_BN (BatchNor  (None, 14, 14, 384)  1536       ['block_7_depthwise[0][0]']      \n",
            " malization)                                                                                      \n",
            "                                                                                                  \n",
            " block_7_depthwise_relu (ReLU)  (None, 14, 14, 384)  0           ['block_7_depthwise_BN[0][0]']   \n",
            "                                                                                                  \n",
            " block_7_project (Conv2D)       (None, 14, 14, 64)   24576       ['block_7_depthwise_relu[0][0]'] \n",
            "                                                                                                  \n",
            " block_7_project_BN (BatchNorma  (None, 14, 14, 64)  256         ['block_7_project[0][0]']        \n",
            " lization)                                                                                        \n",
            "                                                                                                  \n",
            " block_7_add (Add)              (None, 14, 14, 64)   0           ['block_6_project_BN[0][0]',     \n",
            "                                                                  'block_7_project_BN[0][0]']     \n",
            "                                                                                                  \n",
            " block_8_expand (Conv2D)        (None, 14, 14, 384)  24576       ['block_7_add[0][0]']            \n",
            "                                                                                                  \n",
            " block_8_expand_BN (BatchNormal  (None, 14, 14, 384)  1536       ['block_8_expand[0][0]']         \n",
            " ization)                                                                                         \n",
            "                                                                                                  \n",
            " block_8_expand_relu (ReLU)     (None, 14, 14, 384)  0           ['block_8_expand_BN[0][0]']      \n",
            "                                                                                                  \n",
            " block_8_depthwise (DepthwiseCo  (None, 14, 14, 384)  3456       ['block_8_expand_relu[0][0]']    \n",
            " nv2D)                                                                                            \n",
            "                                                                                                  \n",
            " block_8_depthwise_BN (BatchNor  (None, 14, 14, 384)  1536       ['block_8_depthwise[0][0]']      \n",
            " malization)                                                                                      \n",
            "                                                                                                  \n",
            " block_8_depthwise_relu (ReLU)  (None, 14, 14, 384)  0           ['block_8_depthwise_BN[0][0]']   \n",
            "                                                                                                  \n",
            " block_8_project (Conv2D)       (None, 14, 14, 64)   24576       ['block_8_depthwise_relu[0][0]'] \n",
            "                                                                                                  \n",
            " block_8_project_BN (BatchNorma  (None, 14, 14, 64)  256         ['block_8_project[0][0]']        \n",
            " lization)                                                                                        \n",
            "                                                                                                  \n",
            " block_8_add (Add)              (None, 14, 14, 64)   0           ['block_7_add[0][0]',            \n",
            "                                                                  'block_8_project_BN[0][0]']     \n",
            "                                                                                                  \n",
            " block_9_expand (Conv2D)        (None, 14, 14, 384)  24576       ['block_8_add[0][0]']            \n",
            "                                                                                                  \n",
            " block_9_expand_BN (BatchNormal  (None, 14, 14, 384)  1536       ['block_9_expand[0][0]']         \n",
            " ization)                                                                                         \n",
            "                                                                                                  \n",
            " block_9_expand_relu (ReLU)     (None, 14, 14, 384)  0           ['block_9_expand_BN[0][0]']      \n",
            "                                                                                                  \n",
            " block_9_depthwise (DepthwiseCo  (None, 14, 14, 384)  3456       ['block_9_expand_relu[0][0]']    \n",
            " nv2D)                                                                                            \n",
            "                                                                                                  \n",
            " block_9_depthwise_BN (BatchNor  (None, 14, 14, 384)  1536       ['block_9_depthwise[0][0]']      \n",
            " malization)                                                                                      \n",
            "                                                                                                  \n",
            " block_9_depthwise_relu (ReLU)  (None, 14, 14, 384)  0           ['block_9_depthwise_BN[0][0]']   \n",
            "                                                                                                  \n",
            " block_9_project (Conv2D)       (None, 14, 14, 64)   24576       ['block_9_depthwise_relu[0][0]'] \n",
            "                                                                                                  \n",
            " block_9_project_BN (BatchNorma  (None, 14, 14, 64)  256         ['block_9_project[0][0]']        \n",
            " lization)                                                                                        \n",
            "                                                                                                  \n",
            " block_9_add (Add)              (None, 14, 14, 64)   0           ['block_8_add[0][0]',            \n",
            "                                                                  'block_9_project_BN[0][0]']     \n",
            "                                                                                                  \n",
            " block_10_expand (Conv2D)       (None, 14, 14, 384)  24576       ['block_9_add[0][0]']            \n",
            "                                                                                                  \n",
            " block_10_expand_BN (BatchNorma  (None, 14, 14, 384)  1536       ['block_10_expand[0][0]']        \n",
            " lization)                                                                                        \n",
            "                                                                                                  \n",
            " block_10_expand_relu (ReLU)    (None, 14, 14, 384)  0           ['block_10_expand_BN[0][0]']     \n",
            "                                                                                                  \n",
            " block_10_depthwise (DepthwiseC  (None, 14, 14, 384)  3456       ['block_10_expand_relu[0][0]']   \n",
            " onv2D)                                                                                           \n",
            "                                                                                                  \n",
            " block_10_depthwise_BN (BatchNo  (None, 14, 14, 384)  1536       ['block_10_depthwise[0][0]']     \n",
            " rmalization)                                                                                     \n",
            "                                                                                                  \n",
            " block_10_depthwise_relu (ReLU)  (None, 14, 14, 384)  0          ['block_10_depthwise_BN[0][0]']  \n",
            "                                                                                                  \n",
            " block_10_project (Conv2D)      (None, 14, 14, 96)   36864       ['block_10_depthwise_relu[0][0]']\n",
            "                                                                                                  \n",
            " block_10_project_BN (BatchNorm  (None, 14, 14, 96)  384         ['block_10_project[0][0]']       \n",
            " alization)                                                                                       \n",
            "                                                                                                  \n",
            " block_11_expand (Conv2D)       (None, 14, 14, 576)  55296       ['block_10_project_BN[0][0]']    \n",
            "                                                                                                  \n",
            " block_11_expand_BN (BatchNorma  (None, 14, 14, 576)  2304       ['block_11_expand[0][0]']        \n",
            " lization)                                                                                        \n",
            "                                                                                                  \n",
            " block_11_expand_relu (ReLU)    (None, 14, 14, 576)  0           ['block_11_expand_BN[0][0]']     \n",
            "                                                                                                  \n",
            " block_11_depthwise (DepthwiseC  (None, 14, 14, 576)  5184       ['block_11_expand_relu[0][0]']   \n",
            " onv2D)                                                                                           \n",
            "                                                                                                  \n",
            " block_11_depthwise_BN (BatchNo  (None, 14, 14, 576)  2304       ['block_11_depthwise[0][0]']     \n",
            " rmalization)                                                                                     \n",
            "                                                                                                  \n",
            " block_11_depthwise_relu (ReLU)  (None, 14, 14, 576)  0          ['block_11_depthwise_BN[0][0]']  \n",
            "                                                                                                  \n",
            " block_11_project (Conv2D)      (None, 14, 14, 96)   55296       ['block_11_depthwise_relu[0][0]']\n",
            "                                                                                                  \n",
            " block_11_project_BN (BatchNorm  (None, 14, 14, 96)  384         ['block_11_project[0][0]']       \n",
            " alization)                                                                                       \n",
            "                                                                                                  \n",
            " block_11_add (Add)             (None, 14, 14, 96)   0           ['block_10_project_BN[0][0]',    \n",
            "                                                                  'block_11_project_BN[0][0]']    \n",
            "                                                                                                  \n",
            " block_12_expand (Conv2D)       (None, 14, 14, 576)  55296       ['block_11_add[0][0]']           \n",
            "                                                                                                  \n",
            " block_12_expand_BN (BatchNorma  (None, 14, 14, 576)  2304       ['block_12_expand[0][0]']        \n",
            " lization)                                                                                        \n",
            "                                                                                                  \n",
            " block_12_expand_relu (ReLU)    (None, 14, 14, 576)  0           ['block_12_expand_BN[0][0]']     \n",
            "                                                                                                  \n",
            " block_12_depthwise (DepthwiseC  (None, 14, 14, 576)  5184       ['block_12_expand_relu[0][0]']   \n",
            " onv2D)                                                                                           \n",
            "                                                                                                  \n",
            " block_12_depthwise_BN (BatchNo  (None, 14, 14, 576)  2304       ['block_12_depthwise[0][0]']     \n",
            " rmalization)                                                                                     \n",
            "                                                                                                  \n",
            " block_12_depthwise_relu (ReLU)  (None, 14, 14, 576)  0          ['block_12_depthwise_BN[0][0]']  \n",
            "                                                                                                  \n",
            " block_12_project (Conv2D)      (None, 14, 14, 96)   55296       ['block_12_depthwise_relu[0][0]']\n",
            "                                                                                                  \n",
            " block_12_project_BN (BatchNorm  (None, 14, 14, 96)  384         ['block_12_project[0][0]']       \n",
            " alization)                                                                                       \n",
            "                                                                                                  \n",
            " block_12_add (Add)             (None, 14, 14, 96)   0           ['block_11_add[0][0]',           \n",
            "                                                                  'block_12_project_BN[0][0]']    \n",
            "                                                                                                  \n",
            " block_13_expand (Conv2D)       (None, 14, 14, 576)  55296       ['block_12_add[0][0]']           \n",
            "                                                                                                  \n",
            " block_13_expand_BN (BatchNorma  (None, 14, 14, 576)  2304       ['block_13_expand[0][0]']        \n",
            " lization)                                                                                        \n",
            "                                                                                                  \n",
            " block_13_expand_relu (ReLU)    (None, 14, 14, 576)  0           ['block_13_expand_BN[0][0]']     \n",
            "                                                                                                  \n",
            " block_13_pad (ZeroPadding2D)   (None, 15, 15, 576)  0           ['block_13_expand_relu[0][0]']   \n",
            "                                                                                                  \n",
            " block_13_depthwise (DepthwiseC  (None, 7, 7, 576)   5184        ['block_13_pad[0][0]']           \n",
            " onv2D)                                                                                           \n",
            "                                                                                                  \n",
            " block_13_depthwise_BN (BatchNo  (None, 7, 7, 576)   2304        ['block_13_depthwise[0][0]']     \n",
            " rmalization)                                                                                     \n",
            "                                                                                                  \n",
            " block_13_depthwise_relu (ReLU)  (None, 7, 7, 576)   0           ['block_13_depthwise_BN[0][0]']  \n",
            "                                                                                                  \n",
            " block_13_project (Conv2D)      (None, 7, 7, 160)    92160       ['block_13_depthwise_relu[0][0]']\n",
            "                                                                                                  \n",
            " block_13_project_BN (BatchNorm  (None, 7, 7, 160)   640         ['block_13_project[0][0]']       \n",
            " alization)                                                                                       \n",
            "                                                                                                  \n",
            " block_14_expand (Conv2D)       (None, 7, 7, 960)    153600      ['block_13_project_BN[0][0]']    \n",
            "                                                                                                  \n",
            " block_14_expand_BN (BatchNorma  (None, 7, 7, 960)   3840        ['block_14_expand[0][0]']        \n",
            " lization)                                                                                        \n",
            "                                                                                                  \n",
            " block_14_expand_relu (ReLU)    (None, 7, 7, 960)    0           ['block_14_expand_BN[0][0]']     \n",
            "                                                                                                  \n",
            " block_14_depthwise (DepthwiseC  (None, 7, 7, 960)   8640        ['block_14_expand_relu[0][0]']   \n",
            " onv2D)                                                                                           \n",
            "                                                                                                  \n",
            " block_14_depthwise_BN (BatchNo  (None, 7, 7, 960)   3840        ['block_14_depthwise[0][0]']     \n",
            " rmalization)                                                                                     \n",
            "                                                                                                  \n",
            " block_14_depthwise_relu (ReLU)  (None, 7, 7, 960)   0           ['block_14_depthwise_BN[0][0]']  \n",
            "                                                                                                  \n",
            " block_14_project (Conv2D)      (None, 7, 7, 160)    153600      ['block_14_depthwise_relu[0][0]']\n",
            "                                                                                                  \n",
            " block_14_project_BN (BatchNorm  (None, 7, 7, 160)   640         ['block_14_project[0][0]']       \n",
            " alization)                                                                                       \n",
            "                                                                                                  \n",
            " block_14_add (Add)             (None, 7, 7, 160)    0           ['block_13_project_BN[0][0]',    \n",
            "                                                                  'block_14_project_BN[0][0]']    \n",
            "                                                                                                  \n",
            " block_15_expand (Conv2D)       (None, 7, 7, 960)    153600      ['block_14_add[0][0]']           \n",
            "                                                                                                  \n",
            " block_15_expand_BN (BatchNorma  (None, 7, 7, 960)   3840        ['block_15_expand[0][0]']        \n",
            " lization)                                                                                        \n",
            "                                                                                                  \n",
            " block_15_expand_relu (ReLU)    (None, 7, 7, 960)    0           ['block_15_expand_BN[0][0]']     \n",
            "                                                                                                  \n",
            " block_15_depthwise (DepthwiseC  (None, 7, 7, 960)   8640        ['block_15_expand_relu[0][0]']   \n",
            " onv2D)                                                                                           \n",
            "                                                                                                  \n",
            " block_15_depthwise_BN (BatchNo  (None, 7, 7, 960)   3840        ['block_15_depthwise[0][0]']     \n",
            " rmalization)                                                                                     \n",
            "                                                                                                  \n",
            " block_15_depthwise_relu (ReLU)  (None, 7, 7, 960)   0           ['block_15_depthwise_BN[0][0]']  \n",
            "                                                                                                  \n",
            " block_15_project (Conv2D)      (None, 7, 7, 160)    153600      ['block_15_depthwise_relu[0][0]']\n",
            "                                                                                                  \n",
            " block_15_project_BN (BatchNorm  (None, 7, 7, 160)   640         ['block_15_project[0][0]']       \n",
            " alization)                                                                                       \n",
            "                                                                                                  \n",
            " block_15_add (Add)             (None, 7, 7, 160)    0           ['block_14_add[0][0]',           \n",
            "                                                                  'block_15_project_BN[0][0]']    \n",
            "                                                                                                  \n",
            " block_16_expand (Conv2D)       (None, 7, 7, 960)    153600      ['block_15_add[0][0]']           \n",
            "                                                                                                  \n",
            " block_16_expand_BN (BatchNorma  (None, 7, 7, 960)   3840        ['block_16_expand[0][0]']        \n",
            " lization)                                                                                        \n",
            "                                                                                                  \n",
            " block_16_expand_relu (ReLU)    (None, 7, 7, 960)    0           ['block_16_expand_BN[0][0]']     \n",
            "                                                                                                  \n",
            " block_16_depthwise (DepthwiseC  (None, 7, 7, 960)   8640        ['block_16_expand_relu[0][0]']   \n",
            " onv2D)                                                                                           \n",
            "                                                                                                  \n",
            " block_16_depthwise_BN (BatchNo  (None, 7, 7, 960)   3840        ['block_16_depthwise[0][0]']     \n",
            " rmalization)                                                                                     \n",
            "                                                                                                  \n",
            " block_16_depthwise_relu (ReLU)  (None, 7, 7, 960)   0           ['block_16_depthwise_BN[0][0]']  \n",
            "                                                                                                  \n",
            " block_16_project (Conv2D)      (None, 7, 7, 320)    307200      ['block_16_depthwise_relu[0][0]']\n",
            "                                                                                                  \n",
            " block_16_project_BN (BatchNorm  (None, 7, 7, 320)   1280        ['block_16_project[0][0]']       \n",
            " alization)                                                                                       \n",
            "                                                                                                  \n",
            " Conv_1 (Conv2D)                (None, 7, 7, 1280)   409600      ['block_16_project_BN[0][0]']    \n",
            "                                                                                                  \n",
            " Conv_1_bn (BatchNormalization)  (None, 7, 7, 1280)  5120        ['Conv_1[0][0]']                 \n",
            "                                                                                                  \n",
            " out_relu (ReLU)                (None, 7, 7, 1280)   0           ['Conv_1_bn[0][0]']              \n",
            "                                                                                                  \n",
            "==================================================================================================\n",
            "Total params: 2,257,984\n",
            "Trainable params: 0\n",
            "Non-trainable params: 2,257,984\n",
            "__________________________________________________________________________________________________\n"
          ]
        }
      ]
    },
    {
      "cell_type": "code",
      "metadata": {
        "id": "_Z3phVTmDD4Q"
      },
      "source": [
        "head_model = base_model.output"
      ],
      "execution_count": 37,
      "outputs": []
    },
    {
      "cell_type": "code",
      "metadata": {
        "id": "Q5oWf6sLDD1P"
      },
      "source": [
        "head_model = AveragePooling2D( 4,  4)(head_model)"
      ],
      "execution_count": 38,
      "outputs": []
    },
    {
      "cell_type": "code",
      "source": [
        "head_model = Flatten()(head_model)"
      ],
      "metadata": {
        "id": "_yYPoPzCLwe-"
      },
      "execution_count": 39,
      "outputs": []
    },
    {
      "cell_type": "code",
      "source": [
        "head_model = Dense(128, 'relu')(head_model)"
      ],
      "metadata": {
        "id": "hX51DgGVLwae"
      },
      "execution_count": 40,
      "outputs": []
    },
    {
      "cell_type": "code",
      "source": [
        "head_model = Dropout(0.4)(head_model)"
      ],
      "metadata": {
        "id": "3r8dvWBbLwVv"
      },
      "execution_count": 41,
      "outputs": []
    },
    {
      "cell_type": "code",
      "metadata": {
        "id": "u80VMCnWDDyA"
      },
      "source": [
        "head_model = Dense(64, 'relu')(head_model)"
      ],
      "execution_count": 42,
      "outputs": []
    },
    {
      "cell_type": "code",
      "metadata": {
        "id": "CYA25_xjDDuo"
      },
      "source": [
        "head_model = Dense(7, 'softmax')(head_model)"
      ],
      "execution_count": 43,
      "outputs": []
    },
    {
      "cell_type": "code",
      "source": [
        "model = Model(inputs = base_model.input,  outputs = head_model )"
      ],
      "metadata": {
        "id": "d8cHs29DNMvX"
      },
      "execution_count": 44,
      "outputs": []
    },
    {
      "cell_type": "code",
      "source": [
        ""
      ],
      "metadata": {
        "id": "XN5yWTTfNMdt"
      },
      "execution_count": null,
      "outputs": []
    },
    {
      "cell_type": "markdown",
      "metadata": {
        "id": "Jlc2mz-3DJyY"
      },
      "source": [
        "###  콜백 만들기 : 가장 좋은 모델을 자동 저장하도록 함. 로그도 저장하도록 함."
      ]
    },
    {
      "cell_type": "code",
      "source": [
        "# 파이썬으로 디렉토리 만드는 코드 작성\n",
        "if not os.path.exists(PROJECT_PATH + '/checkpoints/' + model_type + '/') :\n",
        "  os.makedirs(PROJECT_PATH + '/checkpoints/' + model_type + '/')\n",
        "\n",
        "if not os.path.exists(PROJECT_PATH + '/log/' + model_type + '/') :\n",
        "  os.makedirs(PROJECT_PATH + '/log/' + model_type + '/')"
      ],
      "metadata": {
        "id": "yjOBuhULNwY9"
      },
      "execution_count": 47,
      "outputs": []
    },
    {
      "cell_type": "code",
      "source": [
        ""
      ],
      "metadata": {
        "id": "XsCjSSM4PGQE"
      },
      "execution_count": null,
      "outputs": []
    },
    {
      "cell_type": "code",
      "metadata": {
        "id": "qQttyBe5DV4k"
      },
      "source": [
        "from tensorflow.keras.callbacks import ModelCheckpoint"
      ],
      "execution_count": 45,
      "outputs": []
    },
    {
      "cell_type": "code",
      "source": [
        "CHECKPOINT_PATH"
      ],
      "metadata": {
        "colab": {
          "base_uri": "https://localhost:8080/",
          "height": 36
        },
        "id": "aHDQWHK2PRFJ",
        "outputId": "feca8d82-08d2-4b52-f228-96159ef146ef"
      },
      "execution_count": 48,
      "outputs": [
        {
          "output_type": "execute_result",
          "data": {
            "text/plain": [
              "'./checkpoints/mobilenetv2/by-type-mobilenetv2-block-1-1.h5'"
            ],
            "application/vnd.google.colaboratory.intrinsic+json": {
              "type": "string"
            }
          },
          "metadata": {},
          "execution_count": 48
        }
      ]
    },
    {
      "cell_type": "code",
      "source": [
        "cp = ModelCheckpoint(CHECKPOINT_PATH, monitor='val_accuracy', save_best_only=True, verbose=1)"
      ],
      "metadata": {
        "id": "Osa7tEneNwUu"
      },
      "execution_count": 49,
      "outputs": []
    },
    {
      "cell_type": "code",
      "source": [
        ""
      ],
      "metadata": {
        "id": "-1CJZDwMNwQm"
      },
      "execution_count": null,
      "outputs": []
    },
    {
      "cell_type": "code",
      "source": [
        "# 에포크가 끝날때 나오는 정보를, 파일로 저장할때 사용 \n",
        "from tensorflow.keras.callbacks import CSVLogger"
      ],
      "metadata": {
        "id": "whWc7kYJQQrV"
      },
      "execution_count": 51,
      "outputs": []
    },
    {
      "cell_type": "code",
      "source": [
        "LOGFILE_PATH"
      ],
      "metadata": {
        "colab": {
          "base_uri": "https://localhost:8080/",
          "height": 36
        },
        "id": "u69CR_WaQqbV",
        "outputId": "94470539-a63f-47d6-b0ea-a24a1af12c12"
      },
      "execution_count": 52,
      "outputs": [
        {
          "output_type": "execute_result",
          "data": {
            "text/plain": [
              "'./log/mobilenetv2/mobilenetv2-by-type-training-logblock-1-1.csv'"
            ],
            "application/vnd.google.colaboratory.intrinsic+json": {
              "type": "string"
            }
          },
          "metadata": {},
          "execution_count": 52
        }
      ]
    },
    {
      "cell_type": "code",
      "metadata": {
        "id": "rp9walpNDVvS"
      },
      "source": [
        "csv_logger = CSVLogger(LOGFILE_PATH, append=True )"
      ],
      "execution_count": 53,
      "outputs": []
    },
    {
      "cell_type": "code",
      "source": [
        ""
      ],
      "metadata": {
        "id": "4VAToUvNQZlE"
      },
      "execution_count": null,
      "outputs": []
    },
    {
      "cell_type": "markdown",
      "metadata": {
        "id": "85JqdN5lDWbq"
      },
      "source": [
        "## 컴파일과 학습 : 에포크는 50"
      ]
    },
    {
      "cell_type": "code",
      "source": [
        "y_train"
      ],
      "metadata": {
        "colab": {
          "base_uri": "https://localhost:8080/"
        },
        "id": "_hROfr-bRJk1",
        "outputId": "284b66cc-e17e-48e9-efb5-567e565e8384"
      },
      "execution_count": 54,
      "outputs": [
        {
          "output_type": "execute_result",
          "data": {
            "text/plain": [
              "array([[0, 0, 0, ..., 0, 1, 0],\n",
              "       [0, 0, 0, ..., 0, 1, 0],\n",
              "       [0, 0, 0, ..., 1, 0, 0],\n",
              "       ...,\n",
              "       [1, 0, 0, ..., 0, 0, 0],\n",
              "       [0, 1, 0, ..., 0, 0, 0],\n",
              "       [1, 0, 0, ..., 0, 0, 0]])"
            ]
          },
          "metadata": {},
          "execution_count": 54
        }
      ]
    },
    {
      "cell_type": "code",
      "metadata": {
        "id": "UDW_iGy2DWJr"
      },
      "source": [
        "model.compile(Adam(0.0001), 'categorical_crossentropy', ['accuracy'] )"
      ],
      "execution_count": 55,
      "outputs": []
    },
    {
      "cell_type": "code",
      "metadata": {
        "id": "I3hIC6NRDbyd"
      },
      "source": [
        "# 학습 이미지 증강을 위해서 ImageDataGenerator 을 사용"
      ],
      "execution_count": 56,
      "outputs": []
    },
    {
      "cell_type": "code",
      "source": [
        "X_train.max()"
      ],
      "metadata": {
        "colab": {
          "base_uri": "https://localhost:8080/"
        },
        "id": "lEQ9nOvcRk5t",
        "outputId": "8a9ab0b3-3d03-46c3-d757-5d23085feeb6"
      },
      "execution_count": 57,
      "outputs": [
        {
          "output_type": "execute_result",
          "data": {
            "text/plain": [
              "1.0"
            ]
          },
          "metadata": {},
          "execution_count": 57
        }
      ]
    },
    {
      "cell_type": "code",
      "metadata": {
        "id": "zrTNc7wbDbu9"
      },
      "source": [
        "train_datagen = ImageDataGenerator(rotation_range=20, horizontal_flip=True)"
      ],
      "execution_count": 58,
      "outputs": []
    },
    {
      "cell_type": "code",
      "metadata": {
        "id": "pWOcYNlADbrQ"
      },
      "source": [
        "train_generator = train_datagen.flow(X_train, y_train, batch_size=64)"
      ],
      "execution_count": 59,
      "outputs": []
    },
    {
      "cell_type": "code",
      "source": [
        ""
      ],
      "metadata": {
        "id": "Bjn7zEsGRzU9"
      },
      "execution_count": null,
      "outputs": []
    },
    {
      "cell_type": "code",
      "source": [
        "from gc import callbacks\n",
        "epoch_history = model.fit(train_generator , epochs = 40 , validation_data=(X_val, y_val) ,\n",
        "                          callbacks = [cp , csv_logger], steps_per_epoch = 10)"
      ],
      "metadata": {
        "colab": {
          "base_uri": "https://localhost:8080/"
        },
        "id": "UhNNMXrzSFl1",
        "outputId": "8b12cd7e-af90-4ac5-b5d3-51e128f1248d"
      },
      "execution_count": 60,
      "outputs": [
        {
          "output_type": "stream",
          "name": "stdout",
          "text": [
            "Epoch 1/40\n",
            "10/10 [==============================] - ETA: 0s - loss: 2.1616 - accuracy: 0.1642\n",
            "Epoch 1: val_accuracy improved from -inf to 0.42667, saving model to ./checkpoints/mobilenetv2/by-type-mobilenetv2-block-1-1.h5\n",
            "10/10 [==============================] - 21s 760ms/step - loss: 2.1616 - accuracy: 0.1642 - val_loss: 1.7125 - val_accuracy: 0.4267\n",
            "Epoch 2/40\n",
            "10/10 [==============================] - ETA: 0s - loss: 1.7438 - accuracy: 0.2852\n",
            "Epoch 2: val_accuracy improved from 0.42667 to 0.50667, saving model to ./checkpoints/mobilenetv2/by-type-mobilenetv2-block-1-1.h5\n",
            "10/10 [==============================] - 6s 682ms/step - loss: 1.7438 - accuracy: 0.2852 - val_loss: 1.4204 - val_accuracy: 0.5067\n",
            "Epoch 3/40\n",
            "10/10 [==============================] - ETA: 0s - loss: 1.4967 - accuracy: 0.4444\n",
            "Epoch 3: val_accuracy improved from 0.50667 to 0.62667, saving model to ./checkpoints/mobilenetv2/by-type-mobilenetv2-block-1-1.h5\n",
            "10/10 [==============================] - 7s 653ms/step - loss: 1.4967 - accuracy: 0.4444 - val_loss: 1.1990 - val_accuracy: 0.6267\n",
            "Epoch 4/40\n",
            "10/10 [==============================] - ETA: 0s - loss: 1.3387 - accuracy: 0.4892\n",
            "Epoch 4: val_accuracy improved from 0.62667 to 0.73333, saving model to ./checkpoints/mobilenetv2/by-type-mobilenetv2-block-1-1.h5\n",
            "10/10 [==============================] - 7s 723ms/step - loss: 1.3387 - accuracy: 0.4892 - val_loss: 1.0130 - val_accuracy: 0.7333\n",
            "Epoch 5/40\n",
            "10/10 [==============================] - ETA: 0s - loss: 1.1500 - accuracy: 0.5854\n",
            "Epoch 5: val_accuracy improved from 0.73333 to 0.81333, saving model to ./checkpoints/mobilenetv2/by-type-mobilenetv2-block-1-1.h5\n",
            "10/10 [==============================] - 6s 642ms/step - loss: 1.1500 - accuracy: 0.5854 - val_loss: 0.8585 - val_accuracy: 0.8133\n",
            "Epoch 6/40\n",
            "10/10 [==============================] - ETA: 0s - loss: 1.0069 - accuracy: 0.6567\n",
            "Epoch 6: val_accuracy did not improve from 0.81333\n",
            "10/10 [==============================] - 6s 599ms/step - loss: 1.0069 - accuracy: 0.6567 - val_loss: 0.7293 - val_accuracy: 0.8133\n",
            "Epoch 7/40\n",
            "10/10 [==============================] - ETA: 0s - loss: 0.9505 - accuracy: 0.6617\n",
            "Epoch 7: val_accuracy improved from 0.81333 to 0.89333, saving model to ./checkpoints/mobilenetv2/by-type-mobilenetv2-block-1-1.h5\n",
            "10/10 [==============================] - 7s 668ms/step - loss: 0.9505 - accuracy: 0.6617 - val_loss: 0.6210 - val_accuracy: 0.8933\n",
            "Epoch 8/40\n",
            "10/10 [==============================] - ETA: 0s - loss: 0.8383 - accuracy: 0.6998\n",
            "Epoch 8: val_accuracy improved from 0.89333 to 0.90667, saving model to ./checkpoints/mobilenetv2/by-type-mobilenetv2-block-1-1.h5\n",
            "10/10 [==============================] - 6s 642ms/step - loss: 0.8383 - accuracy: 0.6998 - val_loss: 0.5408 - val_accuracy: 0.9067\n",
            "Epoch 9/40\n",
            "10/10 [==============================] - ETA: 0s - loss: 0.7382 - accuracy: 0.7546\n",
            "Epoch 9: val_accuracy improved from 0.90667 to 0.93333, saving model to ./checkpoints/mobilenetv2/by-type-mobilenetv2-block-1-1.h5\n",
            "10/10 [==============================] - 6s 635ms/step - loss: 0.7382 - accuracy: 0.7546 - val_loss: 0.4772 - val_accuracy: 0.9333\n",
            "Epoch 10/40\n",
            "10/10 [==============================] - ETA: 0s - loss: 0.7225 - accuracy: 0.7446\n",
            "Epoch 10: val_accuracy improved from 0.93333 to 0.94667, saving model to ./checkpoints/mobilenetv2/by-type-mobilenetv2-block-1-1.h5\n",
            "10/10 [==============================] - 6s 638ms/step - loss: 0.7225 - accuracy: 0.7446 - val_loss: 0.4233 - val_accuracy: 0.9467\n",
            "Epoch 11/40\n",
            "10/10 [==============================] - ETA: 0s - loss: 0.6309 - accuracy: 0.7927\n",
            "Epoch 11: val_accuracy did not improve from 0.94667\n",
            "10/10 [==============================] - 6s 595ms/step - loss: 0.6309 - accuracy: 0.7927 - val_loss: 0.3827 - val_accuracy: 0.9467\n",
            "Epoch 12/40\n",
            "10/10 [==============================] - ETA: 0s - loss: 0.5997 - accuracy: 0.7977\n",
            "Epoch 12: val_accuracy did not improve from 0.94667\n",
            "10/10 [==============================] - 6s 593ms/step - loss: 0.5997 - accuracy: 0.7977 - val_loss: 0.3498 - val_accuracy: 0.9467\n",
            "Epoch 13/40\n",
            "10/10 [==============================] - ETA: 0s - loss: 0.5238 - accuracy: 0.8176\n",
            "Epoch 13: val_accuracy did not improve from 0.94667\n",
            "10/10 [==============================] - 6s 594ms/step - loss: 0.5238 - accuracy: 0.8176 - val_loss: 0.3234 - val_accuracy: 0.9200\n",
            "Epoch 14/40\n",
            "10/10 [==============================] - ETA: 0s - loss: 0.5063 - accuracy: 0.8308\n",
            "Epoch 14: val_accuracy did not improve from 0.94667\n",
            "10/10 [==============================] - 6s 633ms/step - loss: 0.5063 - accuracy: 0.8308 - val_loss: 0.2988 - val_accuracy: 0.9200\n",
            "Epoch 15/40\n",
            "10/10 [==============================] - ETA: 0s - loss: 0.4894 - accuracy: 0.8159\n",
            "Epoch 15: val_accuracy did not improve from 0.94667\n",
            "10/10 [==============================] - 6s 593ms/step - loss: 0.4894 - accuracy: 0.8159 - val_loss: 0.2757 - val_accuracy: 0.9333\n",
            "Epoch 16/40\n",
            "10/10 [==============================] - ETA: 0s - loss: 0.4525 - accuracy: 0.8275\n",
            "Epoch 16: val_accuracy did not improve from 0.94667\n",
            "10/10 [==============================] - 6s 589ms/step - loss: 0.4525 - accuracy: 0.8275 - val_loss: 0.2597 - val_accuracy: 0.9333\n",
            "Epoch 17/40\n",
            "10/10 [==============================] - ETA: 0s - loss: 0.4400 - accuracy: 0.8574\n",
            "Epoch 17: val_accuracy did not improve from 0.94667\n",
            "10/10 [==============================] - 6s 592ms/step - loss: 0.4400 - accuracy: 0.8574 - val_loss: 0.2474 - val_accuracy: 0.9333\n",
            "Epoch 18/40\n",
            "10/10 [==============================] - ETA: 0s - loss: 0.4183 - accuracy: 0.8640\n",
            "Epoch 18: val_accuracy did not improve from 0.94667\n",
            "10/10 [==============================] - 6s 595ms/step - loss: 0.4183 - accuracy: 0.8640 - val_loss: 0.2330 - val_accuracy: 0.9467\n",
            "Epoch 19/40\n",
            "10/10 [==============================] - ETA: 0s - loss: 0.4019 - accuracy: 0.8706\n",
            "Epoch 19: val_accuracy did not improve from 0.94667\n",
            "10/10 [==============================] - 6s 591ms/step - loss: 0.4019 - accuracy: 0.8706 - val_loss: 0.2285 - val_accuracy: 0.9333\n",
            "Epoch 20/40\n",
            "10/10 [==============================] - ETA: 0s - loss: 0.3802 - accuracy: 0.8640\n",
            "Epoch 20: val_accuracy did not improve from 0.94667\n",
            "10/10 [==============================] - 6s 593ms/step - loss: 0.3802 - accuracy: 0.8640 - val_loss: 0.2186 - val_accuracy: 0.9333\n",
            "Epoch 21/40\n",
            "10/10 [==============================] - ETA: 0s - loss: 0.4109 - accuracy: 0.8541\n",
            "Epoch 21: val_accuracy did not improve from 0.94667\n",
            "10/10 [==============================] - 6s 595ms/step - loss: 0.4109 - accuracy: 0.8541 - val_loss: 0.2059 - val_accuracy: 0.9467\n",
            "Epoch 22/40\n",
            "10/10 [==============================] - ETA: 0s - loss: 0.3703 - accuracy: 0.8756\n",
            "Epoch 22: val_accuracy did not improve from 0.94667\n",
            "10/10 [==============================] - 6s 591ms/step - loss: 0.3703 - accuracy: 0.8756 - val_loss: 0.1968 - val_accuracy: 0.9333\n",
            "Epoch 23/40\n",
            "10/10 [==============================] - ETA: 0s - loss: 0.3364 - accuracy: 0.8789\n",
            "Epoch 23: val_accuracy improved from 0.94667 to 0.96000, saving model to ./checkpoints/mobilenetv2/by-type-mobilenetv2-block-1-1.h5\n",
            "10/10 [==============================] - 7s 666ms/step - loss: 0.3364 - accuracy: 0.8789 - val_loss: 0.1887 - val_accuracy: 0.9600\n",
            "Epoch 24/40\n",
            "10/10 [==============================] - ETA: 0s - loss: 0.3557 - accuracy: 0.8723\n",
            "Epoch 24: val_accuracy did not improve from 0.96000\n",
            "10/10 [==============================] - 6s 594ms/step - loss: 0.3557 - accuracy: 0.8723 - val_loss: 0.1859 - val_accuracy: 0.9467\n",
            "Epoch 25/40\n",
            "10/10 [==============================] - ETA: 0s - loss: 0.3436 - accuracy: 0.8706\n",
            "Epoch 25: val_accuracy did not improve from 0.96000\n",
            "10/10 [==============================] - 6s 594ms/step - loss: 0.3436 - accuracy: 0.8706 - val_loss: 0.1789 - val_accuracy: 0.9600\n",
            "Epoch 26/40\n",
            "10/10 [==============================] - ETA: 0s - loss: 0.2956 - accuracy: 0.8872\n",
            "Epoch 26: val_accuracy did not improve from 0.96000\n",
            "10/10 [==============================] - 6s 591ms/step - loss: 0.2956 - accuracy: 0.8872 - val_loss: 0.1801 - val_accuracy: 0.9333\n",
            "Epoch 27/40\n",
            "10/10 [==============================] - ETA: 0s - loss: 0.3312 - accuracy: 0.8839\n",
            "Epoch 27: val_accuracy did not improve from 0.96000\n",
            "10/10 [==============================] - 6s 593ms/step - loss: 0.3312 - accuracy: 0.8839 - val_loss: 0.1704 - val_accuracy: 0.9600\n",
            "Epoch 28/40\n",
            "10/10 [==============================] - ETA: 0s - loss: 0.2950 - accuracy: 0.8972\n",
            "Epoch 28: val_accuracy did not improve from 0.96000\n",
            "10/10 [==============================] - 6s 590ms/step - loss: 0.2950 - accuracy: 0.8972 - val_loss: 0.1652 - val_accuracy: 0.9600\n",
            "Epoch 29/40\n",
            "10/10 [==============================] - ETA: 0s - loss: 0.2931 - accuracy: 0.9088\n",
            "Epoch 29: val_accuracy did not improve from 0.96000\n",
            "10/10 [==============================] - 6s 592ms/step - loss: 0.2931 - accuracy: 0.9088 - val_loss: 0.1702 - val_accuracy: 0.9200\n",
            "Epoch 30/40\n",
            "10/10 [==============================] - ETA: 0s - loss: 0.2713 - accuracy: 0.9171\n",
            "Epoch 30: val_accuracy did not improve from 0.96000\n",
            "10/10 [==============================] - 6s 594ms/step - loss: 0.2713 - accuracy: 0.9171 - val_loss: 0.1557 - val_accuracy: 0.9467\n",
            "Epoch 31/40\n",
            "10/10 [==============================] - ETA: 0s - loss: 0.2813 - accuracy: 0.9038\n",
            "Epoch 31: val_accuracy did not improve from 0.96000\n",
            "10/10 [==============================] - 6s 594ms/step - loss: 0.2813 - accuracy: 0.9038 - val_loss: 0.1519 - val_accuracy: 0.9600\n",
            "Epoch 32/40\n",
            "10/10 [==============================] - ETA: 0s - loss: 0.2906 - accuracy: 0.8922\n",
            "Epoch 32: val_accuracy did not improve from 0.96000\n",
            "10/10 [==============================] - 6s 595ms/step - loss: 0.2906 - accuracy: 0.8922 - val_loss: 0.1491 - val_accuracy: 0.9467\n",
            "Epoch 33/40\n",
            "10/10 [==============================] - ETA: 0s - loss: 0.2588 - accuracy: 0.9204\n",
            "Epoch 33: val_accuracy did not improve from 0.96000\n",
            "10/10 [==============================] - 6s 596ms/step - loss: 0.2588 - accuracy: 0.9204 - val_loss: 0.1404 - val_accuracy: 0.9600\n",
            "Epoch 34/40\n",
            "10/10 [==============================] - ETA: 0s - loss: 0.2452 - accuracy: 0.9204\n",
            "Epoch 34: val_accuracy did not improve from 0.96000\n",
            "10/10 [==============================] - 6s 598ms/step - loss: 0.2452 - accuracy: 0.9204 - val_loss: 0.1405 - val_accuracy: 0.9467\n",
            "Epoch 35/40\n",
            "10/10 [==============================] - ETA: 0s - loss: 0.2719 - accuracy: 0.9104\n",
            "Epoch 35: val_accuracy did not improve from 0.96000\n",
            "10/10 [==============================] - 6s 595ms/step - loss: 0.2719 - accuracy: 0.9104 - val_loss: 0.1367 - val_accuracy: 0.9467\n",
            "Epoch 36/40\n",
            "10/10 [==============================] - ETA: 0s - loss: 0.2293 - accuracy: 0.9337\n",
            "Epoch 36: val_accuracy did not improve from 0.96000\n",
            "10/10 [==============================] - 6s 591ms/step - loss: 0.2293 - accuracy: 0.9337 - val_loss: 0.1359 - val_accuracy: 0.9467\n",
            "Epoch 37/40\n",
            "10/10 [==============================] - ETA: 0s - loss: 0.2584 - accuracy: 0.9138\n",
            "Epoch 37: val_accuracy did not improve from 0.96000\n",
            "10/10 [==============================] - 6s 600ms/step - loss: 0.2584 - accuracy: 0.9138 - val_loss: 0.1376 - val_accuracy: 0.9467\n",
            "Epoch 38/40\n",
            "10/10 [==============================] - ETA: 0s - loss: 0.2275 - accuracy: 0.9237\n",
            "Epoch 38: val_accuracy did not improve from 0.96000\n",
            "10/10 [==============================] - 6s 596ms/step - loss: 0.2275 - accuracy: 0.9237 - val_loss: 0.1333 - val_accuracy: 0.9600\n",
            "Epoch 39/40\n",
            "10/10 [==============================] - ETA: 0s - loss: 0.2205 - accuracy: 0.9254\n",
            "Epoch 39: val_accuracy did not improve from 0.96000\n",
            "10/10 [==============================] - 6s 596ms/step - loss: 0.2205 - accuracy: 0.9254 - val_loss: 0.1322 - val_accuracy: 0.9467\n",
            "Epoch 40/40\n",
            "10/10 [==============================] - ETA: 0s - loss: 0.2359 - accuracy: 0.9386\n",
            "Epoch 40: val_accuracy did not improve from 0.96000\n",
            "10/10 [==============================] - 6s 588ms/step - loss: 0.2359 - accuracy: 0.9386 - val_loss: 0.1291 - val_accuracy: 0.9600\n"
          ]
        }
      ]
    },
    {
      "cell_type": "code",
      "source": [
        "X_train.shape"
      ],
      "metadata": {
        "colab": {
          "base_uri": "https://localhost:8080/"
        },
        "id": "yu2R2MkQSE39",
        "outputId": "00b3a035-73e6-49a8-cf3b-b509fe39002a"
      },
      "execution_count": 63,
      "outputs": [
        {
          "output_type": "execute_result",
          "data": {
            "text/plain": [
              "(603, 224, 224, 3)"
            ]
          },
          "metadata": {},
          "execution_count": 63
        }
      ]
    },
    {
      "cell_type": "code",
      "metadata": {
        "id": "D5mEs8zODboJ",
        "colab": {
          "base_uri": "https://localhost:8080/"
        },
        "outputId": "e12f1286-ec69-4b35-bc6c-a8161ff58bf2"
      },
      "source": [
        "model.evaluate(X_test, y_test)"
      ],
      "execution_count": 62,
      "outputs": [
        {
          "output_type": "stream",
          "name": "stdout",
          "text": [
            "3/3 [==============================] - 0s 200ms/step - loss: 0.1562 - accuracy: 0.9737\n"
          ]
        },
        {
          "output_type": "execute_result",
          "data": {
            "text/plain": [
              "[0.1561751663684845, 0.9736841917037964]"
            ]
          },
          "metadata": {},
          "execution_count": 62
        }
      ]
    },
    {
      "cell_type": "markdown",
      "metadata": {
        "id": "P3TZWy8uek85"
      },
      "source": [
        "# 트레이닝 및 밸리데이션의 정확도와 로스를 차트로 보기"
      ]
    },
    {
      "cell_type": "code",
      "metadata": {
        "id": "VcFZU70xDkqv",
        "colab": {
          "base_uri": "https://localhost:8080/",
          "height": 265
        },
        "outputId": "77947537-c33b-40f1-e4e0-b30ce6433f76"
      },
      "source": [
        "plt.plot(epoch_history.history['accuracy'])\n",
        "plt.plot(epoch_history.history['val_accuracy'])\n",
        "plt.legend(['train', 'val'])\n",
        "plt.show()"
      ],
      "execution_count": 67,
      "outputs": [
        {
          "output_type": "display_data",
          "data": {
            "text/plain": [
              "<Figure size 432x288 with 1 Axes>"
            ],
            "image/png": "[encoded data removed]"
          },
          "metadata": {
            "needs_background": "light"
          }
        }
      ]
    },
    {
      "cell_type": "code",
      "metadata": {
        "id": "sES0vifvDkoE"
      },
      "source": [
        "### fine tuning 한다."
      ],
      "execution_count": 68,
      "outputs": []
    },
    {
      "cell_type": "code",
      "metadata": {
        "id": "N5x5mxw7DkkT"
      },
      "source": [
        ""
      ],
      "execution_count": null,
      "outputs": []
    },
    {
      "cell_type": "code",
      "source": [
        ""
      ],
      "metadata": {
        "id": "zQh5NStVVDd1"
      },
      "execution_count": null,
      "outputs": []
    },
    {
      "cell_type": "code",
      "metadata": {
        "id": "-gdqTKxQDkhW"
      },
      "source": [
        ""
      ],
      "execution_count": null,
      "outputs": []
    },
    {
      "cell_type": "code",
      "metadata": {
        "id": "kljhfizN53xy"
      },
      "source": [
        ""
      ],
      "execution_count": null,
      "outputs": []
    },
    {
      "cell_type": "markdown",
      "metadata": {
        "id": "FyKM0fyL-HFf"
      },
      "source": [
        "# 모델 평가"
      ]
    },
    {
      "cell_type": "code",
      "metadata": {
        "id": "TxZRYNVtDvcW"
      },
      "source": [
        ""
      ],
      "execution_count": null,
      "outputs": []
    },
    {
      "cell_type": "code",
      "metadata": {
        "id": "Gr1ShFk7DvZe"
      },
      "source": [
        ""
      ],
      "execution_count": null,
      "outputs": []
    },
    {
      "cell_type": "code",
      "metadata": {
        "id": "GfJ5zfTVDvWb"
      },
      "source": [
        ""
      ],
      "execution_count": null,
      "outputs": []
    },
    {
      "cell_type": "code",
      "metadata": {
        "id": "OKXAHgAuDvTf"
      },
      "source": [
        ""
      ],
      "execution_count": null,
      "outputs": []
    },
    {
      "cell_type": "code",
      "metadata": {
        "id": "cMpJ9aXRDvQf"
      },
      "source": [
        ""
      ],
      "execution_count": null,
      "outputs": []
    },
    {
      "cell_type": "code",
      "metadata": {
        "id": "NPZqL2fzDvNl"
      },
      "source": [
        ""
      ],
      "execution_count": null,
      "outputs": []
    },
    {
      "cell_type": "code",
      "metadata": {
        "id": "vpvwXqt4DvKh"
      },
      "source": [
        ""
      ],
      "execution_count": null,
      "outputs": []
    },
    {
      "cell_type": "code",
      "metadata": {
        "id": "VtiX_pL1DvHW"
      },
      "source": [
        ""
      ],
      "execution_count": null,
      "outputs": []
    },
    {
      "cell_type": "code",
      "metadata": {
        "id": "ITb1ljdb-GYr"
      },
      "source": [
        ""
      ],
      "execution_count": null,
      "outputs": []
    }
  ]
}