{
  "cells": [
    {
      "cell_type": "code",
      "source": [
        "# 자연어 처리\n",
        "# 음성인식\n",
        "# 시각인식 "
      ],
      "metadata": {
        "id": "SZU3-QbMHbtt"
      },
      "execution_count": null,
      "outputs": []
    },
    {
      "cell_type": "code",
      "source": [
        ""
      ],
      "metadata": {
        "id": "4vlIz8PzHbh8"
      },
      "execution_count": null,
      "outputs": []
    },
    {
      "cell_type": "markdown",
      "metadata": {
        "id": "qnyTxjK_GbOD"
      },
      "source": [
        "# A Computer Vision Example\n",
        "\n",
        "[10개로 분류된 패션 이미지](https://github.com/zalandoresearch/fashion-mnist#labels)를 분류하는 딥러닝"
      ]
    },
    {
      "cell_type": "markdown",
      "metadata": {
        "id": "H41FYgtlHPjW"
      },
      "source": [
        "## Start Coding\n"
      ]
    },
    {
      "cell_type": "code",
      "execution_count": null,
      "metadata": {
        "id": "q3KzJyjv3rnA"
      },
      "outputs": [],
      "source": [
        "import tensorflow as tf\n",
        "print(tf.__version__)"
      ]
    },
    {
      "cell_type": "markdown",
      "metadata": {
        "id": "n_n1U5do3u_F"
      },
      "source": [
        "Fashion MNIST 데이터는 tf.keras datasets API에 들어있다. "
      ]
    },
    {
      "cell_type": "code",
      "execution_count": null,
      "metadata": {
        "id": "f00cDS3l8C4s"
      },
      "outputs": [],
      "source": [
        "mnist = tf.keras.datasets.fashion_mnist"
      ]
    },
    {
      "cell_type": "markdown",
      "metadata": {
        "id": "GuoLQQBT4E-_"
      },
      "source": [
        "트레이닝과 테스트셋 가져온다."
      ]
    },
    {
      "cell_type": "code",
      "execution_count": null,
      "metadata": {
        "id": "ZTtWXepY8C4u"
      },
      "outputs": [],
      "source": [
        "(training_images, training_labels),(test_images, test_labels) = mnist.load_data()"
      ]
    },
    {
      "cell_type": "code",
      "execution_count": null,
      "metadata": {
        "id": "xzT0J5so8C4v"
      },
      "outputs": [],
      "source": [
        "training_images.shape"
      ]
    },
    {
      "cell_type": "code",
      "source": [
        "training_labels"
      ],
      "metadata": {
        "id": "wWgmLaI3NYnq"
      },
      "execution_count": null,
      "outputs": []
    },
    {
      "cell_type": "code",
      "source": [
        "training_labels.shape"
      ],
      "metadata": {
        "id": "8q8ikR-XNoYt"
      },
      "execution_count": null,
      "outputs": []
    },
    {
      "cell_type": "code",
      "source": [
        "test_images.shape"
      ],
      "metadata": {
        "id": "4ZX8Q0R8PRsJ"
      },
      "execution_count": null,
      "outputs": []
    },
    {
      "cell_type": "code",
      "source": [
        "test_labels"
      ],
      "metadata": {
        "id": "V7taIYh2PRi6"
      },
      "execution_count": null,
      "outputs": []
    },
    {
      "cell_type": "markdown",
      "metadata": {
        "id": "rw395ROx4f5Q"
      },
      "source": [
        "이미지는 숫자로 되어있다. 0부터 255까지의 숫자로 되어있다. "
      ]
    },
    {
      "cell_type": "code",
      "source": [
        "training_images"
      ],
      "metadata": {
        "id": "RGywIkqgPqDB"
      },
      "execution_count": null,
      "outputs": []
    },
    {
      "cell_type": "code",
      "source": [
        "training_images.shape"
      ],
      "metadata": {
        "id": "l8PjGiNTPp1r"
      },
      "execution_count": null,
      "outputs": []
    },
    {
      "cell_type": "code",
      "source": [
        "training_images[0]"
      ],
      "metadata": {
        "id": "GvszG_UFPpxq"
      },
      "execution_count": null,
      "outputs": []
    },
    {
      "cell_type": "code",
      "execution_count": null,
      "metadata": {
        "id": "SW1Mo1pF8C4w"
      },
      "outputs": [],
      "source": [
        "import matplotlib.pyplot as plt"
      ]
    },
    {
      "cell_type": "code",
      "source": [
        "plt.imshow( training_images[100] , cmap='gray' )\n",
        "plt.show()"
      ],
      "metadata": {
        "id": "5wQqYcLwQXuL"
      },
      "execution_count": null,
      "outputs": []
    },
    {
      "cell_type": "code",
      "source": [
        "training_labels[100]"
      ],
      "metadata": {
        "id": "GHO3Ex4ZQWMz"
      },
      "execution_count": null,
      "outputs": []
    },
    {
      "cell_type": "code",
      "source": [
        "training_images[100]"
      ],
      "metadata": {
        "id": "u7XqkAc2QWEM"
      },
      "execution_count": null,
      "outputs": []
    },
    {
      "cell_type": "markdown",
      "metadata": {
        "id": "3cbrdH225_nH"
      },
      "source": [
        "학습이 잘 되도록 0과 1사이의 값으로 노말라이징(normalizing) 한다."
      ]
    },
    {
      "cell_type": "code",
      "execution_count": null,
      "metadata": {
        "id": "vg0znK9r8C4y"
      },
      "outputs": [],
      "source": [
        "training_images = training_images / 255.0"
      ]
    },
    {
      "cell_type": "code",
      "execution_count": null,
      "metadata": {
        "id": "sIiIh1N48C4y"
      },
      "outputs": [],
      "source": [
        "test_images = test_images / 255.0"
      ]
    },
    {
      "cell_type": "code",
      "source": [
        ""
      ],
      "metadata": {
        "id": "hIdV2BiFSNzy"
      },
      "execution_count": null,
      "outputs": []
    },
    {
      "cell_type": "code",
      "source": [
        "training_images.max()"
      ],
      "metadata": {
        "id": "x89Q8noSSSKq"
      },
      "execution_count": null,
      "outputs": []
    },
    {
      "cell_type": "code",
      "source": [
        "training_images.min()"
      ],
      "metadata": {
        "id": "xvWTxo7iSNt6"
      },
      "execution_count": null,
      "outputs": []
    },
    {
      "cell_type": "code",
      "source": [
        "training_images[0]"
      ],
      "metadata": {
        "id": "T2w-TCXISWup"
      },
      "execution_count": null,
      "outputs": []
    },
    {
      "cell_type": "markdown",
      "metadata": {
        "id": "3DkO0As46lRn"
      },
      "source": [
        "이미지의 가로 세로를 전부 일렬로 만드는 작업이 flatten 이다.\n",
        "\n",
        "모델을 만들어 보자."
      ]
    },
    {
      "cell_type": "code",
      "source": [
        "28 *28"
      ],
      "metadata": {
        "id": "Lx6X2AV2jx_9"
      },
      "execution_count": null,
      "outputs": []
    },
    {
      "cell_type": "code",
      "source": [
        "training_images[0].shape"
      ],
      "metadata": {
        "id": "fqmWpDIQj2KL"
      },
      "execution_count": null,
      "outputs": []
    },
    {
      "cell_type": "code",
      "execution_count": null,
      "metadata": {
        "id": "M-pbyHFr8C4z"
      },
      "outputs": [],
      "source": [
        "model = tf.keras.models.Sequential()"
      ]
    },
    {
      "cell_type": "code",
      "execution_count": null,
      "metadata": {
        "id": "w3-WKGYp8C4z"
      },
      "outputs": [],
      "source": [
        "model.add( tf.keras.layers.Flatten()  )"
      ]
    },
    {
      "cell_type": "code",
      "source": [
        "model.add( tf.keras.layers.Dense(128, 'relu'))"
      ],
      "metadata": {
        "id": "639dFWOWi-WN"
      },
      "execution_count": null,
      "outputs": []
    },
    {
      "cell_type": "code",
      "source": [
        "model.add( tf.keras.layers.Dense(10, 'softmax'))"
      ],
      "metadata": {
        "id": "VcRgwX00i-B7"
      },
      "execution_count": null,
      "outputs": []
    },
    {
      "cell_type": "markdown",
      "metadata": {
        "id": "-lUcWaiX7MFj"
      },
      "source": [
        "**Sequential**: SEQUENCE layers 로 모델링\n",
        "\n",
        "**Flatten**: 2차원, 3차원을 1차원으로 만드는것\n",
        "\n",
        "**Dense**: 뉴런을 레이어에 붙인다.\n",
        "\n",
        "각 레이어는 **activation function** 이 필요하다. \n",
        "\n",
        "**Relu**  액티베이션 함수 참고 https://docs.google.com/presentation/d/1DCOW7Lum2rnoPU7gxpznimrXV0DOJFc-YkkJt3jZC0U/edit#slide=id.ga8aac09587_0_2\n",
        "\n",
        "**Softmax** 여러개의 값 중에서 가장 큰 값을 선택. [0.1, 0.1, 0.05, 0.1, 9.5, 0.1, 0.05, 0.05, 0.05], 여기서 가장 큰 값을 1로 만들고 나머지는 0으로 만들어준다. [0,0,0,0,1,0,0,0,0] \n"
      ]
    },
    {
      "cell_type": "markdown",
      "metadata": {
        "id": "c8vbMCqb9Mh6"
      },
      "source": [
        "optimizer and loss function 으로 컴파일 한 후에  **model.fit** 함수로 학습한다.. "
      ]
    },
    {
      "cell_type": "code",
      "source": [
        "# 2개 분류의 문제일때는, 로스 펑션을 binary_crossentropy 사용 \n",
        "# 3개 이상의 분류의 문제일때는?  2가지 경우가 있다!\n",
        "# 첫번째 경우, y의 값이 레이블 인코딩으로 되어있는 경우 : sparse_categorical_crossentropy 사용\n",
        "# 두번째 경우, y의 값이 원핫 인코딩으로 되어있는 경우 : categorical_crossentropy  사용\n"
      ],
      "metadata": {
        "id": "0s6Ul95Am4CM"
      },
      "execution_count": null,
      "outputs": []
    },
    {
      "cell_type": "code",
      "source": [
        "training_labels"
      ],
      "metadata": {
        "id": "_g4BLW2Qnizj"
      },
      "execution_count": null,
      "outputs": []
    },
    {
      "cell_type": "code",
      "source": [
        "test_labels"
      ],
      "metadata": {
        "id": "nJDYUahGnpq6"
      },
      "execution_count": null,
      "outputs": []
    },
    {
      "cell_type": "code",
      "execution_count": null,
      "metadata": {
        "id": "GDBWXmyA8C42"
      },
      "outputs": [],
      "source": [
        "model.compile('adam', loss='sparse_categorical_crossentropy', metrics=['accuracy'])"
      ]
    },
    {
      "cell_type": "code",
      "execution_count": null,
      "metadata": {
        "id": "T5pXn5zr8C42"
      },
      "outputs": [],
      "source": [
        "model.fit(training_images, training_labels, epochs = 5)"
      ]
    },
    {
      "cell_type": "code",
      "execution_count": null,
      "metadata": {
        "id": "OD7gofRm8C43"
      },
      "outputs": [],
      "source": [
        ""
      ]
    },
    {
      "cell_type": "markdown",
      "metadata": {
        "id": "-JJMsvSB-1UY"
      },
      "source": [
        "accuracy 가 약 90% 라는 뜻. 5 epochs 라 금방 끝났다.\n",
        "\n",
        "학습에 사용하지 않는, 테스트 데이터를 통해서, 얼마나 정확도되 나오는지 확인해 본다."
      ]
    },
    {
      "cell_type": "code",
      "execution_count": null,
      "metadata": {
        "id": "uH6kjBnw8C45"
      },
      "outputs": [],
      "source": [
        "model.evaluate(test_images, test_labels)"
      ]
    },
    {
      "cell_type": "code",
      "source": [
        "## 컨퓨전 매트릭스를 이용해서 확인해 보면, 어떤것을 컴퓨터가 많이 헷갈려 하는지 파악 가능"
      ],
      "metadata": {
        "id": "x_SRf2gPuInD"
      },
      "execution_count": null,
      "outputs": []
    },
    {
      "cell_type": "code",
      "source": [
        "from sklearn.metrics import confusion_matrix"
      ],
      "metadata": {
        "id": "JlR4BYGPuIfD"
      },
      "execution_count": null,
      "outputs": []
    },
    {
      "cell_type": "code",
      "source": [
        "y_pred = model.predict(test_images)"
      ],
      "metadata": {
        "id": "-sIJaEDnuRZz"
      },
      "execution_count": null,
      "outputs": []
    },
    {
      "cell_type": "code",
      "source": [
        "y_pred.shape"
      ],
      "metadata": {
        "id": "_JQRjrO3vxk7"
      },
      "execution_count": null,
      "outputs": []
    },
    {
      "cell_type": "code",
      "source": [
        "y_pred"
      ],
      "metadata": {
        "id": "BecZ5A3yug5C"
      },
      "execution_count": null,
      "outputs": []
    },
    {
      "cell_type": "code",
      "source": [
        "y_pred[0]"
      ],
      "metadata": {
        "id": "_UqFmF2pv8By"
      },
      "execution_count": null,
      "outputs": []
    },
    {
      "cell_type": "code",
      "source": [
        "y_pred[0].sum()"
      ],
      "metadata": {
        "id": "uhoSlEcGv74b"
      },
      "execution_count": null,
      "outputs": []
    },
    {
      "cell_type": "code",
      "source": [
        "y_pred[0].max()"
      ],
      "metadata": {
        "id": "EwJmmX8mw6G7"
      },
      "execution_count": null,
      "outputs": []
    },
    {
      "cell_type": "code",
      "source": [
        "y_pred[0].argmax()"
      ],
      "metadata": {
        "id": "JeflPUBcw_RL"
      },
      "execution_count": null,
      "outputs": []
    },
    {
      "cell_type": "code",
      "source": [
        ""
      ],
      "metadata": {
        "id": "8L6lFUoVwdyL"
      },
      "execution_count": null,
      "outputs": []
    },
    {
      "cell_type": "code",
      "execution_count": null,
      "metadata": {
        "id": "bxdo-zkY8C45"
      },
      "outputs": [],
      "source": [
        "test_images.shape"
      ]
    },
    {
      "cell_type": "code",
      "source": [
        "plt.imshow( test_images[100] , cmap = 'gray')\n",
        "plt.show()"
      ],
      "metadata": {
        "id": "y8-UQOMAusGb"
      },
      "execution_count": null,
      "outputs": []
    },
    {
      "cell_type": "code",
      "source": [
        "test_labels[100]"
      ],
      "metadata": {
        "id": "xG9ZlIXhur-n"
      },
      "execution_count": null,
      "outputs": []
    },
    {
      "cell_type": "code",
      "source": [
        "y_pred[100].argmax()"
      ],
      "metadata": {
        "id": "NvVg5OIdur2r"
      },
      "execution_count": null,
      "outputs": []
    },
    {
      "cell_type": "code",
      "source": [
        "y_pred = y_pred.argmax(axis = 1)"
      ],
      "metadata": {
        "id": "md6YDOpax-Xq"
      },
      "execution_count": null,
      "outputs": []
    },
    {
      "cell_type": "code",
      "source": [
        "y_pred"
      ],
      "metadata": {
        "id": "-22jEO-pyXeS"
      },
      "execution_count": null,
      "outputs": []
    },
    {
      "cell_type": "code",
      "source": [
        "test_labels"
      ],
      "metadata": {
        "id": "ZhErz5qsycQj"
      },
      "execution_count": null,
      "outputs": []
    },
    {
      "cell_type": "code",
      "source": [
        "cm = confusion_matrix(test_labels, y_pred)"
      ],
      "metadata": {
        "id": "SXAPqSlvxple"
      },
      "execution_count": null,
      "outputs": []
    },
    {
      "cell_type": "code",
      "source": [
        "cm"
      ],
      "metadata": {
        "id": "FDe_dC4JxpeE"
      },
      "execution_count": null,
      "outputs": []
    },
    {
      "cell_type": "code",
      "source": [
        "import seaborn as sb"
      ],
      "metadata": {
        "id": "UcDTR_8auryr"
      },
      "execution_count": null,
      "outputs": []
    },
    {
      "cell_type": "code",
      "execution_count": null,
      "metadata": {
        "id": "MVhzqExH8C46"
      },
      "outputs": [],
      "source": [
        "sb.heatmap(cm, annot=True, fmt='.0f', cmap = 'RdPu')\n",
        "plt.show()"
      ]
    },
    {
      "cell_type": "code",
      "source": [
        ""
      ],
      "metadata": {
        "id": "rzJtaPCpy0La"
      },
      "execution_count": null,
      "outputs": []
    },
    {
      "cell_type": "markdown",
      "metadata": {
        "id": "htldZNWcIPSN"
      },
      "source": [
        "# Exploration Exercises"
      ]
    },
    {
      "cell_type": "markdown",
      "metadata": {
        "id": "rquQqIx4AaGR"
      },
      "source": [
        "### Exercise 1:\n",
        "\n",
        "테스트 이미지를 예측한 후, 첫번째 이미지에 대해서 예측한 결과를 출력한다. "
      ]
    },
    {
      "cell_type": "code",
      "execution_count": null,
      "metadata": {
        "id": "P1ICGH5u8C46"
      },
      "outputs": [],
      "source": [
        "y_pred = model.predict(test_images)"
      ]
    },
    {
      "cell_type": "code",
      "execution_count": null,
      "metadata": {
        "id": "PiWtIARl8C47"
      },
      "outputs": [],
      "source": [
        "y_pred[0]"
      ]
    },
    {
      "cell_type": "code",
      "source": [
        ""
      ],
      "metadata": {
        "id": "v6hCz0WO0aGV"
      },
      "execution_count": null,
      "outputs": []
    },
    {
      "cell_type": "markdown",
      "metadata": {
        "id": "uUs7eqr7uSvs"
      },
      "source": [
        "### 예측한 결과가 리스트로 나온다. 리스트는 무엇을 나타내는가 ?\n",
        "\n",
        "\n",
        "   It's the probability that this item is each of the 10 classes\n"
      ]
    },
    {
      "cell_type": "code",
      "execution_count": null,
      "metadata": {
        "id": "l4dWUdxa8C47"
      },
      "outputs": [],
      "source": [
        "# 우리가 모델링한 ANN의 아웃풋 레이어의 소프트맥스 값!!!"
      ]
    },
    {
      "cell_type": "code",
      "execution_count": null,
      "metadata": {
        "id": "sc_P29az8C47"
      },
      "outputs": [],
      "source": [
        ""
      ]
    },
    {
      "cell_type": "markdown",
      "metadata": {
        "id": "MdzqbQhRArzm"
      },
      "source": [
        "첫번째 이미지의 실제값을 출력한다."
      ]
    },
    {
      "cell_type": "code",
      "execution_count": null,
      "metadata": {
        "id": "Gk4JOLLM8C47"
      },
      "outputs": [],
      "source": [
        "test_labels[0]"
      ]
    },
    {
      "cell_type": "code",
      "execution_count": null,
      "metadata": {
        "id": "IBbGgxEG0WDn"
      },
      "outputs": [],
      "source": [
        ""
      ]
    },
    {
      "cell_type": "markdown",
      "metadata": {
        "id": "CD4kC6TBu-69"
      },
      "source": [
        "### 이 예측결과가 앵클부츠인지는, 예측결과로 나온 리스트를 보고 어떻게 알 수 있는가?\n",
        "\n",
        "\n",
        "\n",
        "10번째 값이 가장 크니까, 레이블은 0부터라, 9 이다."
      ]
    },
    {
      "cell_type": "code",
      "source": [
        "y_pred[0].argmax()"
      ],
      "metadata": {
        "id": "zE_6oUdp0z5L"
      },
      "execution_count": null,
      "outputs": []
    },
    {
      "cell_type": "code",
      "source": [
        ""
      ],
      "metadata": {
        "id": "IQQxruG_07rF"
      },
      "execution_count": null,
      "outputs": []
    },
    {
      "cell_type": "markdown",
      "metadata": {
        "id": "OgQSIfDSOWv6"
      },
      "source": [
        "## Exercise 2: \n",
        "128를 1024개의 뉴런으로 바꿔서 실행해보자 \n"
      ]
    },
    {
      "cell_type": "code",
      "execution_count": null,
      "metadata": {
        "id": "wcEebN8O8C49"
      },
      "outputs": [],
      "source": [
        "def build_model() :\n",
        "  model = tf.keras.models.Sequential()\n",
        "  model.add( tf.keras.layers.Flatten()  )\n",
        "  model.add( tf.keras.layers.Dense(1024, 'relu'))\n",
        "  model.add( tf.keras.layers.Dense(10, 'softmax'))\n",
        "  model.compile('adam', loss='sparse_categorical_crossentropy', metrics=['accuracy'])\n",
        "  return model"
      ]
    },
    {
      "cell_type": "code",
      "execution_count": null,
      "metadata": {
        "id": "mZMhGMne8C49"
      },
      "outputs": [],
      "source": [
        "model = build_model()"
      ]
    },
    {
      "cell_type": "code",
      "execution_count": null,
      "metadata": {
        "id": "TaL079PM8C49"
      },
      "outputs": [],
      "source": [
        "model.fit(training_images, training_labels, epochs = 5)"
      ]
    },
    {
      "cell_type": "code",
      "execution_count": null,
      "metadata": {
        "id": "fGGqu46R8C49"
      },
      "outputs": [],
      "source": [
        "model.evaluate(test_images, test_labels)"
      ]
    },
    {
      "cell_type": "code",
      "execution_count": null,
      "metadata": {
        "id": "ZmDb6qp18C49"
      },
      "outputs": [],
      "source": [
        ""
      ]
    },
    {
      "cell_type": "markdown",
      "metadata": {
        "id": "bOOEnHZFv5cS"
      },
      "source": [
        "### Question 1. 1024 개로 뉴런을 늘리면 어떤 일이 일어나는가?\n",
        "\n",
        "\n"
      ]
    },
    {
      "cell_type": "code",
      "execution_count": null,
      "metadata": {
        "id": "Tyx7vSE98C49"
      },
      "outputs": [],
      "source": [
        "# 뉴런의 갯수를 확 늘렸는데, 성능은 그다지 좋아지지 않았다."
      ]
    },
    {
      "cell_type": "code",
      "execution_count": null,
      "metadata": {
        "id": "PCPEq7zU8C4-"
      },
      "outputs": [],
      "source": [
        ""
      ]
    },
    {
      "cell_type": "code",
      "execution_count": null,
      "metadata": {
        "id": "xlI6umTn8C4-"
      },
      "outputs": [],
      "source": [
        ""
      ]
    },
    {
      "cell_type": "markdown",
      "metadata": {
        "id": "WtWxK16hQxLN"
      },
      "source": [
        "## Exercise 3: \n",
        "\n",
        "Flatten() layer를 지우면 어떻게 되는가?\n",
        "\n"
      ]
    },
    {
      "cell_type": "code",
      "execution_count": null,
      "metadata": {
        "id": "ZRXlxo-p8C4_"
      },
      "outputs": [],
      "source": [
        "def build_model() :\n",
        "  model = tf.keras.models.Sequential()\n",
        "  model.add( tf.keras.layers.Dense(1024, 'relu'))\n",
        "  model.add( tf.keras.layers.Dense(10, 'softmax'))\n",
        "  model.compile('adam', loss='sparse_categorical_crossentropy', metrics=['accuracy'])\n",
        "  return model"
      ]
    },
    {
      "cell_type": "code",
      "execution_count": null,
      "metadata": {
        "id": "qqYs3cxD8C4_"
      },
      "outputs": [],
      "source": [
        "model = build_model()"
      ]
    },
    {
      "cell_type": "code",
      "execution_count": null,
      "metadata": {
        "id": "tHdt4Tjy8C4_"
      },
      "outputs": [],
      "source": [
        "model.fit(training_images, training_labels, epochs = 5)"
      ]
    },
    {
      "cell_type": "code",
      "source": [
        ""
      ],
      "metadata": {
        "id": "e2i48FxQ7-wk"
      },
      "execution_count": null,
      "outputs": []
    },
    {
      "cell_type": "markdown",
      "metadata": {
        "id": "VqoCR-ieSGDg"
      },
      "source": [
        "## Exercise 4: \n",
        "\n",
        "마지막 레이어를 10개가 아니라, 5개로 바꾸면 어떻게 되는가? "
      ]
    },
    {
      "cell_type": "code",
      "execution_count": null,
      "metadata": {
        "id": "4_ocsAt58WUU"
      },
      "outputs": [],
      "source": [
        "def build_model() :\n",
        "  model = tf.keras.models.Sequential()\n",
        "  model.add( tf.keras.layers.Flatten()  )\n",
        "  model.add( tf.keras.layers.Dense(1024, 'relu'))\n",
        "  model.add( tf.keras.layers.Dense(5, 'softmax'))\n",
        "  model.compile('adam', loss='sparse_categorical_crossentropy', metrics=['accuracy'])\n",
        "  return model"
      ]
    },
    {
      "cell_type": "code",
      "execution_count": null,
      "metadata": {
        "id": "e0Gpm5E_8WUV"
      },
      "outputs": [],
      "source": [
        "model = build_model()"
      ]
    },
    {
      "cell_type": "code",
      "execution_count": null,
      "metadata": {
        "id": "GulWFYuw8WUV"
      },
      "outputs": [],
      "source": [
        "model.fit(training_images, training_labels, epochs = 5)"
      ]
    },
    {
      "cell_type": "code",
      "execution_count": null,
      "metadata": {
        "id": "aoWDeOKr8C5A"
      },
      "outputs": [],
      "source": [
        ""
      ]
    },
    {
      "cell_type": "code",
      "execution_count": null,
      "metadata": {
        "id": "FoOWUDhX8C5A"
      },
      "outputs": [],
      "source": [
        ""
      ]
    },
    {
      "cell_type": "markdown",
      "metadata": {
        "id": "-0lF5MuvSuZF"
      },
      "source": [
        "## Exercise 5: \n",
        "\n",
        "512개, 256개, 10개로 레이어 구성을 해보자. \n",
        "\n",
        "성능이 개선되는가?"
      ]
    },
    {
      "cell_type": "code",
      "execution_count": null,
      "metadata": {
        "id": "Cmwu5eh18C5B"
      },
      "outputs": [],
      "source": [
        "def build_model() :\n",
        "  model = tf.keras.models.Sequential()\n",
        "  model.add( tf.keras.layers.Flatten()  )\n",
        "  model.add( tf.keras.layers.Dense(512, 'relu'))\n",
        "  model.add( tf.keras.layers.Dense(256, 'relu'))\n",
        "  model.add( tf.keras.layers.Dense(10, 'softmax'))\n",
        "  model.compile('adam', loss='sparse_categorical_crossentropy', metrics=['accuracy'])\n",
        "  return model"
      ]
    },
    {
      "cell_type": "code",
      "execution_count": null,
      "metadata": {
        "id": "UKNy-qqE8C5B"
      },
      "outputs": [],
      "source": [
        "model = build_model()"
      ]
    },
    {
      "cell_type": "code",
      "source": [
        ""
      ],
      "metadata": {
        "id": "ZphLNcWl9QYa"
      },
      "execution_count": null,
      "outputs": []
    },
    {
      "cell_type": "code",
      "source": [
        ""
      ],
      "metadata": {
        "id": "qTL0D_oq9QQ7"
      },
      "execution_count": null,
      "outputs": []
    },
    {
      "cell_type": "code",
      "execution_count": null,
      "metadata": {
        "id": "G20yIEzO8C5C"
      },
      "outputs": [],
      "source": [
        "### 아래 부분은 저랑!! "
      ]
    },
    {
      "cell_type": "markdown",
      "metadata": {
        "id": "Bql9fyaNUSFy"
      },
      "source": [
        "## Exercise 6: \n",
        "\n",
        "epochs 의 횟수를 조정해 보자. \n",
        "\n",
        "\n",
        "Try 15 epochs  \n",
        "\n",
        "\n",
        "\n"
      ]
    },
    {
      "cell_type": "code",
      "execution_count": null,
      "metadata": {
        "id": "C9nnQqOI8C5C"
      },
      "outputs": [],
      "source": [
        ""
      ]
    },
    {
      "cell_type": "code",
      "execution_count": null,
      "metadata": {
        "id": "0ya2HH2L8C5D"
      },
      "outputs": [],
      "source": [
        ""
      ]
    },
    {
      "cell_type": "code",
      "execution_count": null,
      "metadata": {
        "id": "dgv-lPAV8C5D"
      },
      "outputs": [],
      "source": [
        ""
      ]
    },
    {
      "cell_type": "markdown",
      "metadata": {
        "id": "zYJN9Vmd8C5D"
      },
      "source": [
        "Try 30 epochs"
      ]
    },
    {
      "cell_type": "code",
      "execution_count": null,
      "metadata": {
        "id": "08vcRJmB8C5D"
      },
      "outputs": [],
      "source": [
        "def build_model() :\n",
        "  model = tf.keras.models.Sequential()\n",
        "  model.add( tf.keras.layers.Flatten()  )\n",
        "  model.add( tf.keras.layers.Dense(128, 'relu'))  \n",
        "  model.add( tf.keras.layers.Dense(10, 'softmax'))\n",
        "  model.compile('adam', loss='sparse_categorical_crossentropy', metrics=['accuracy'])\n",
        "  return model"
      ]
    },
    {
      "cell_type": "code",
      "execution_count": null,
      "metadata": {
        "id": "nz9XJria8C5E"
      },
      "outputs": [],
      "source": [
        "model = build_model()"
      ]
    },
    {
      "cell_type": "code",
      "source": [
        "epoch_history = model.fit(training_images, training_labels, epochs = 30, validation_split = 0.2)"
      ],
      "metadata": {
        "id": "KJ-QZrou9wLL"
      },
      "execution_count": null,
      "outputs": []
    },
    {
      "cell_type": "code",
      "execution_count": null,
      "metadata": {
        "id": "djJNUyGb8C5E"
      },
      "outputs": [],
      "source": [
        ""
      ]
    },
    {
      "cell_type": "code",
      "source": [
        "plt.plot(  epoch_history.history['loss'] )\n",
        "plt.plot(  epoch_history.history['val_loss'])\n",
        "plt.legend(['train loss', 'validation loss'])\n",
        "plt.show()"
      ],
      "metadata": {
        "id": "DqEIc_Ao_Hwb"
      },
      "execution_count": null,
      "outputs": []
    },
    {
      "cell_type": "code",
      "source": [
        "plt.plot(  epoch_history.history['accuracy'] )\n",
        "plt.plot(  epoch_history.history['val_accuracy'])\n",
        "plt.legend(['train accuracy', 'validation accuracy'])\n",
        "plt.show()"
      ],
      "metadata": {
        "id": "MIyRKv-8_HoT"
      },
      "execution_count": null,
      "outputs": []
    },
    {
      "cell_type": "markdown",
      "metadata": {
        "id": "pGIutvCm2kun"
      },
      "source": [
        "30 에포크를 했을때의 결과를 보면 어떠한 문제가 있다. 이러한 문제를 무엇이라고 하는가???"
      ]
    },
    {
      "cell_type": "code",
      "execution_count": null,
      "metadata": {
        "id": "CkNO-CWm8C5E"
      },
      "outputs": [],
      "source": [
        ""
      ]
    },
    {
      "cell_type": "code",
      "execution_count": null,
      "metadata": {
        "id": "kEu5xNFa8C5E"
      },
      "outputs": [],
      "source": [
        ""
      ]
    },
    {
      "cell_type": "markdown",
      "metadata": {
        "id": "E7W2PT66ZBHQ"
      },
      "source": [
        "## Exercise 7: \n",
        "\n",
        "accuracy 나 loss 가, 우리가 원하는 특정 값이 되면 자동으로 학습을 멈추가 하고 싶다. 즉, 특정값에 도달하면 학습을 멈추게 할 수 있는 콜백기능을 제공한다. callbacks"
      ]
    },
    {
      "cell_type": "code",
      "execution_count": null,
      "metadata": {
        "id": "KPmr0Cbs8C5F"
      },
      "outputs": [],
      "source": [
        "# 얼리 스타핑으로 콜백 적용해서 학습을 시켜보세요!!"
      ]
    },
    {
      "cell_type": "code",
      "source": [
        ""
      ],
      "metadata": {
        "id": "RAJbb7krD0wz"
      },
      "execution_count": null,
      "outputs": []
    },
    {
      "cell_type": "code",
      "execution_count": null,
      "metadata": {
        "id": "cWJZesVPD08r"
      },
      "outputs": [],
      "source": [
        "def build_model() :\n",
        "  model = tf.keras.models.Sequential()\n",
        "  model.add( tf.keras.layers.Flatten()  )\n",
        "  model.add( tf.keras.layers.Dense(128, 'relu'))  \n",
        "  model.add( tf.keras.layers.Dense(10, 'softmax'))\n",
        "  model.compile('adam', loss='sparse_categorical_crossentropy', metrics=['accuracy'])\n",
        "  return model"
      ]
    },
    {
      "cell_type": "code",
      "execution_count": null,
      "metadata": {
        "id": "pyWF18xDD08s"
      },
      "outputs": [],
      "source": [
        "model = build_model()"
      ]
    },
    {
      "cell_type": "code",
      "execution_count": null,
      "metadata": {
        "id": "R7CMZgxd8C5F"
      },
      "outputs": [],
      "source": [
        "early_stop = tf.keras.callbacks.EarlyStopping(monitor = 'val_accuracy', patience= 5)"
      ]
    },
    {
      "cell_type": "code",
      "source": [
        "epoch_history = model.fit(training_images, training_labels, epochs = 30, validation_split = 0.2,\n",
        "                          callbacks = [early_stop])"
      ],
      "metadata": {
        "id": "Q5WVJYh2D08t"
      },
      "execution_count": null,
      "outputs": []
    },
    {
      "cell_type": "code",
      "source": [
        ""
      ],
      "metadata": {
        "id": "9533WRKqD0t9"
      },
      "execution_count": null,
      "outputs": []
    },
    {
      "cell_type": "code",
      "execution_count": null,
      "metadata": {
        "id": "NtVcESCi8C5F"
      },
      "outputs": [],
      "source": [
        "###  내가 정한 수치에 도달하면, 학습을 멈추게 하는 방법\n",
        "\n",
        "# 텐서플로우의 콜백 클래스를 상속해서 만든다.\n",
        "\n",
        "# 함수 on_epoch_end 함수 안에, 에포크가 끝날때마다 하고 싶은 작업을, 코딩을 해주면 된다."
      ]
    },
    {
      "cell_type": "code",
      "execution_count": null,
      "metadata": {
        "id": "U6uhQynz8C5F"
      },
      "outputs": [],
      "source": [
        "class myCallback(tf.keras.callbacks.Callback):\n",
        "  def on_epoch_end(self, epoch, logs={}) :\n",
        "    if logs.get('val_accuracy') > 0.87:\n",
        "      print('\\n밸리데이션 정확도가 87% 넘으므로, 학습을 멈추게 합니다.')\n",
        "      self.model.stop_training = True"
      ]
    },
    {
      "cell_type": "code",
      "source": [
        "my_callback = myCallback()"
      ],
      "metadata": {
        "id": "9cYafxWJEOp7"
      },
      "execution_count": null,
      "outputs": []
    },
    {
      "cell_type": "code",
      "execution_count": null,
      "metadata": {
        "id": "TL3kGM9h8C5F"
      },
      "outputs": [],
      "source": [
        "def build_model() :\n",
        "  model = tf.keras.models.Sequential()\n",
        "  model.add( tf.keras.layers.Flatten()  )\n",
        "  model.add( tf.keras.layers.Dense(128, 'relu'))  \n",
        "  model.add( tf.keras.layers.Dense(10, 'softmax'))\n",
        "  model.compile('adam', loss='sparse_categorical_crossentropy', metrics=['accuracy'])\n",
        "  return model"
      ]
    },
    {
      "cell_type": "code",
      "execution_count": null,
      "metadata": {
        "id": "Jpi1hrcG4bbo"
      },
      "outputs": [],
      "source": [
        "model = build_model()"
      ]
    },
    {
      "cell_type": "code",
      "source": [
        "epoch_history = model.fit(training_images, training_labels, epochs = 30, validation_split = 0.2,\n",
        "                          callbacks = [my_callback])"
      ],
      "metadata": {
        "id": "rqii5kEJFtsr"
      },
      "execution_count": null,
      "outputs": []
    },
    {
      "cell_type": "code",
      "source": [
        ""
      ],
      "metadata": {
        "id": "gEQebXS9FuKN"
      },
      "execution_count": null,
      "outputs": []
    },
    {
      "cell_type": "code",
      "source": [
        ""
      ],
      "metadata": {
        "id": "9JMCyqeuG1Pt"
      },
      "execution_count": null,
      "outputs": []
    },
    {
      "cell_type": "code",
      "source": [
        ""
      ],
      "metadata": {
        "id": "UV9ZHvEsG1M2"
      },
      "execution_count": null,
      "outputs": []
    },
    {
      "cell_type": "code",
      "execution_count": null,
      "metadata": {
        "id": "RsRA31QwG1dl"
      },
      "outputs": [],
      "source": [
        "def build_model() :\n",
        "  model = tf.keras.models.Sequential()\n",
        "  model.add( tf.keras.layers.Flatten()  )\n",
        "  model.add( tf.keras.layers.Dense(128, 'relu'))  \n",
        "  model.add( tf.keras.layers.Dense(10, 'softmax'))\n",
        "  model.compile('adam', loss='sparse_categorical_crossentropy', metrics=['accuracy'])\n",
        "  return model"
      ]
    },
    {
      "cell_type": "code",
      "execution_count": null,
      "metadata": {
        "id": "nqtvBLiDG1dl"
      },
      "outputs": [],
      "source": [
        "model = build_model()"
      ]
    },
    {
      "cell_type": "code",
      "source": [
        "epoch_history = model.fit(training_images, training_labels, epochs = 1000, validation_split = 0.2,\n",
        "                          callbacks = [my_callback, early_stop])"
      ],
      "metadata": {
        "id": "0RyZnwmBG1dl"
      },
      "execution_count": null,
      "outputs": []
    },
    {
      "cell_type": "code",
      "source": [
        ""
      ],
      "metadata": {
        "id": "5cso2YmGG1J9"
      },
      "execution_count": null,
      "outputs": []
    },
    {
      "cell_type": "code",
      "source": [
        ""
      ],
      "metadata": {
        "id": "yvZytl0iG1HP"
      },
      "execution_count": null,
      "outputs": []
    },
    {
      "cell_type": "code",
      "source": [
        ""
      ],
      "metadata": {
        "id": "qhBbIeToG1EM"
      },
      "execution_count": null,
      "outputs": []
    },
    {
      "cell_type": "code",
      "source": [
        ""
      ],
      "metadata": {
        "id": "qqVtT-xcG1Bj"
      },
      "execution_count": null,
      "outputs": []
    }
  ],
  "metadata": {
    "accelerator": "GPU",
    "colab": {
      "collapsed_sections": [],
      "name": "06_강의_fashion_mnist.ipynb.ipynb",
      "private_outputs": true,
      "provenance": []
    },
    "kernelspec": {
      "display_name": "Python 3",
      "language": "python",
      "name": "python3"
    },
    "language_info": {
      "codemirror_mode": {
        "name": "ipython",
        "version": 3
      },
      "file_extension": ".py",
      "mimetype": "text/x-python",
      "name": "python",
      "nbconvert_exporter": "python",
      "pygments_lexer": "ipython3",
      "version": "3.8.3"
    }
  },
  "nbformat": 4,
  "nbformat_minor": 0
}