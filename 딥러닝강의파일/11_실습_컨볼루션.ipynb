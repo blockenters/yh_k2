{
  "nbformat": 4,
  "nbformat_minor": 0,
  "metadata": {
    "coursera": {
      "course_slug": "introduction-tensorflow",
      "graded_item_id": "ml06H",
      "launcher_item_id": "hQF8A"
    },
    "kernelspec": {
      "display_name": "Python 3",
      "language": "python",
      "name": "python3"
    },
    "language_info": {
      "codemirror_mode": {
        "name": "ipython",
        "version": 3
      },
      "file_extension": ".py",
      "mimetype": "text/x-python",
      "name": "python",
      "nbconvert_exporter": "python",
      "pygments_lexer": "ipython3",
      "version": "3.6.8"
    },
    "colab": {
      "name": "11_실습_컨볼루션.ipynb",
      "provenance": [],
      "collapsed_sections": []
    }
  },
  "cells": [
    {
      "cell_type": "markdown",
      "metadata": {
        "id": "iQjHqsmTAVLU"
      },
      "source": [
        "## Exercise 3  \n",
        "1. 실습 1번\n",
        "\n",
        " 손글씨 숫자 MNIST 를 가지고, 98% val_accuracy 보다 크게 나오도록,  convolutional layer 는 딱 1개만 사용하고,  MaxPooling 2D도 한 1개만 사용한다. 그리고 epochs는 20으로 셋팅하고,  val_accuracy 가 위의 수치를 만족하면, \"Reached 98% val_accuracy so cancelling training!\"를 출력하고, 학습을 멈추도록 모델링과 컴파일을 하시오.\n",
        "\n"
      ]
    },
    {
      "cell_type": "code",
      "metadata": {
        "id": "OAfgtwVjST5l"
      },
      "source": [
        "import tensorflow as tf\n",
        "\n"
      ],
      "execution_count": 1,
      "outputs": []
    },
    {
      "cell_type": "code",
      "metadata": {
        "id": "cX2YwoSmST5m"
      },
      "source": [
        "def train_mnist_conv():\n",
        "    # YOUR CODE STARTS HERE\n",
        "    class myCallback(tf.keras.callbacks.Callback) :\n",
        "      def on_epoch_end(self, epoch, logs={}) :\n",
        "        if logs.get('val_accuracy') >= 0.98 :\n",
        "          print('\\nReached 98% val_accuracy so cancelling training!')\n",
        "          self.model.stop_training = True\n",
        "    \n",
        "    my_callback = myCallback()\n",
        "    # YOUR CODE ENDS HERE\n",
        "\n",
        "    mnist = tf.keras.datasets.mnist\n",
        "    (training_images, training_labels), (test_images, test_labels) = mnist.load_data()\n",
        "    # YOUR CODE STARTS HERE\n",
        "    training_images = training_images / 255.0\n",
        "    test_images = test_images / 255.0\n",
        "\n",
        "    training_images = training_images.reshape(60000, 28, 28, 1)\n",
        "    test_images = test_images.reshape(10000, 28, 28, 1)\n",
        "\n",
        "    # YOUR CODE ENDS HERE\n",
        "\n",
        "    model = tf.keras.models.Sequential([\n",
        "            # YOUR CODE STARTS HERE\n",
        "            tf.keras.layers.Conv2D(64, 3, activation='relu', input_shape=(28,28,1)),\n",
        "            tf.keras.layers.MaxPooling2D(2, 2),\n",
        "            tf.keras.layers.Flatten(), \n",
        "            tf.keras.layers.Dense(128, 'relu'),\n",
        "            tf.keras.layers.Dense(10, 'softmax')\n",
        "            # YOUR CODE ENDS HERE\n",
        "    ])\n",
        "\n",
        "    model.compile(optimizer='adam', loss='sparse_categorical_crossentropy', metrics=['accuracy'])\n",
        "    # model fitting\n",
        "    history = model.fit(\n",
        "        # YOUR CODE STARTS HERE\n",
        "        training_images, training_labels, epochs=20, validation_data=(test_images, test_labels),\n",
        "        callbacks = [my_callback]\n",
        "        # YOUR CODE ENDS HERE\n",
        "    )\n",
        "    # model fitting\n",
        "    return history.epoch, history.history['accuracy'][-1]\n",
        "\n"
      ],
      "execution_count": 2,
      "outputs": []
    },
    {
      "cell_type": "code",
      "metadata": {
        "id": "aqLsi-qSST5m",
        "colab": {
          "base_uri": "https://localhost:8080/"
        },
        "outputId": "04d72fbc-be51-40c9-d581-7e055cfa2d34"
      },
      "source": [
        "_, _ = train_mnist_conv()"
      ],
      "execution_count": 3,
      "outputs": [
        {
          "output_type": "stream",
          "name": "stdout",
          "text": [
            "Downloading data from https://storage.googleapis.com/tensorflow/tf-keras-datasets/mnist.npz\n",
            "11493376/11490434 [==============================] - 0s 0us/step\n",
            "11501568/11490434 [==============================] - 0s 0us/step\n",
            "Epoch 1/20\n",
            "1875/1875 [==============================] - 73s 38ms/step - loss: 0.1390 - accuracy: 0.9588 - val_loss: 0.0593 - val_accuracy: 0.9793\n",
            "Epoch 2/20\n",
            "1875/1875 [==============================] - ETA: 0s - loss: 0.0480 - accuracy: 0.9852\n",
            "Reached 98% val_accuracy so cancelling training!\n",
            "1875/1875 [==============================] - 69s 37ms/step - loss: 0.0480 - accuracy: 0.9852 - val_loss: 0.0410 - val_accuracy: 0.9863\n"
          ]
        }
      ]
    },
    {
      "cell_type": "code",
      "metadata": {
        "id": "4Gd9JmJBST5o",
        "colab": {
          "base_uri": "https://localhost:8080/"
        },
        "outputId": "094431d8-d7ff-463a-89b5-bfeb924ab241"
      },
      "source": [
        "60000 / 32"
      ],
      "execution_count": 4,
      "outputs": [
        {
          "output_type": "execute_result",
          "data": {
            "text/plain": [
              "1875.0"
            ]
          },
          "metadata": {},
          "execution_count": 4
        }
      ]
    },
    {
      "cell_type": "code",
      "source": [
        ""
      ],
      "metadata": {
        "id": "9jLL7endODrx"
      },
      "execution_count": null,
      "outputs": []
    },
    {
      "cell_type": "markdown",
      "metadata": {
        "id": "e2diZU6VNMHG"
      },
      "source": [
        "2. 실습 2번\n",
        "\n",
        " val_accuracy 가 96% 이상이면 학습을 멈추도록 코드를 수정하여 실행하시오"
      ]
    },
    {
      "cell_type": "code",
      "metadata": {
        "id": "3QZYHvOdNlCc"
      },
      "source": [
        ""
      ],
      "execution_count": null,
      "outputs": []
    }
  ]
}