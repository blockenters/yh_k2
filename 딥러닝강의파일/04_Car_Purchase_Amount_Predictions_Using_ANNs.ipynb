{
  "nbformat": 4,
  "nbformat_minor": 0,
  "metadata": {
    "kernelspec": {
      "display_name": "Python 3",
      "language": "python",
      "name": "python3"
    },
    "language_info": {
      "codemirror_mode": {
        "name": "ipython",
        "version": 3
      },
      "file_extension": ".py",
      "mimetype": "text/x-python",
      "name": "python",
      "nbconvert_exporter": "python",
      "pygments_lexer": "ipython3",
      "version": "3.6.5"
    },
    "colab": {
      "name": "04 Car_Purchase_Amount_Predictions_Using_ANNs.ipynb",
      "provenance": [],
      "collapsed_sections": []
    }
  },
  "cells": [
    {
      "cell_type": "markdown",
      "metadata": {
        "id": "gD2TuCquRtMj"
      },
      "source": [
        "\n",
        "# 자동차 구매 가격 예측\n",
        "\n"
      ]
    },
    {
      "cell_type": "markdown",
      "metadata": {
        "id": "QRnoEP0pRtMp"
      },
      "source": [
        "# PROBLEM STATEMENT"
      ]
    },
    {
      "cell_type": "markdown",
      "metadata": {
        "id": "5rNFkL8VRtMq"
      },
      "source": [
        "다음과 같은 컬럼을 가지고 있는 데이터셋을 읽어서, 어떠한 고객이 있을때, 그 고객이 얼마정도의 차를 구매할 수 있을지를 예측하여, 그 사람에게 맞는 자동차를 보여주려 한다. \n",
        "\n",
        "- Customer Name\n",
        "- Customer e-mail\n",
        "- Country\n",
        "- Gender\n",
        "- Age\n",
        "- Annual Salary \n",
        "- Credit Card Debt \n",
        "- Net Worth (순자산)\n",
        "\n",
        "예측하고자 하는 값 : \n",
        "- Car Purchase Amount "
      ]
    },
    {
      "cell_type": "markdown",
      "metadata": {
        "id": "emqhj28LRtMq"
      },
      "source": [
        "# STEP #0: 라이브러리 임포트 및 코랩 환경 설정\n",
        "\n",
        "[구글 드라이브 파일 읽기 참고](https://vision-ai.tistory.com/entry/%EC%BD%94%EB%9E%A9%EC%97%90%EC%84%9C-%EB%93%9C%EB%9D%BC%EC%9D%B4%EB%B8%8C%EC%9D%98-csv-%ED%8C%8C%EC%9D%BC-%EC%9D%BD%EA%B8%B0)\n"
      ]
    },
    {
      "cell_type": "code",
      "metadata": {
        "id": "6UkIIBVDRtMq"
      },
      "source": [
        "import pandas as pd\n",
        "import numpy as np\n",
        "import matplotlib.pyplot as plt\n",
        "import seaborn as sns"
      ],
      "execution_count": 1,
      "outputs": []
    },
    {
      "cell_type": "markdown",
      "metadata": {
        "id": "g8b_k5HeStq9"
      },
      "source": [
        "### csv 파일을 읽기 위해, 구글 드라이브 마운트 하시오"
      ]
    },
    {
      "cell_type": "code",
      "metadata": {
        "id": "EhM6pyg-F1ai"
      },
      "source": [
        ""
      ],
      "execution_count": null,
      "outputs": []
    },
    {
      "cell_type": "code",
      "source": [
        "from google.colab import drive\n",
        "drive.mount('/content/drive')"
      ],
      "metadata": {
        "colab": {
          "base_uri": "https://localhost:8080/"
        },
        "id": "PMOtKdRvI6p0",
        "outputId": "841796d7-8c14-4326-f248-e38e8de25fc4"
      },
      "execution_count": 2,
      "outputs": [
        {
          "output_type": "stream",
          "name": "stdout",
          "text": [
            "Mounted at /content/drive\n"
          ]
        }
      ]
    },
    {
      "cell_type": "markdown",
      "metadata": {
        "id": "CNLSpzbX89lJ"
      },
      "source": [
        "### working directory 를, 현재의 파일이 속한 폴더로 셋팅하시오."
      ]
    },
    {
      "cell_type": "code",
      "metadata": {
        "id": "8jgYFjOBF2dp"
      },
      "source": [
        "import os\n",
        "os.chdir('/content/drive/MyDrive/kdigital2/deeplearning')"
      ],
      "execution_count": 3,
      "outputs": []
    },
    {
      "cell_type": "markdown",
      "metadata": {
        "id": "iaD06IN0RtMr"
      },
      "source": [
        "# STEP #1: IMPORT DATASET\n",
        "\n",
        "### Car_Purchasing_Data.csv 파일을 사용한다.  코랩의 경우 구글드라이브의 전체경로를 복사하여 파일 읽는다. \n",
        "\n",
        "### 인코딩은 다음처럼 한다. encoding='ISO-8859-1'"
      ]
    },
    {
      "cell_type": "code",
      "metadata": {
        "id": "v_R7bKO1RtMr"
      },
      "source": [
        "df = pd.read_csv('data/Car_Purchasing_Data.csv', encoding='ISO-8859-1')\n"
      ],
      "execution_count": 4,
      "outputs": []
    },
    {
      "cell_type": "markdown",
      "metadata": {
        "id": "MSMajJ77Uz1I"
      },
      "source": [
        "### 컬럼을 확인하고\n",
        "\n",
        "### 기본 통계 데이터를 확인해 보자"
      ]
    },
    {
      "cell_type": "code",
      "metadata": {
        "id": "7KI4ylVmF88r",
        "colab": {
          "base_uri": "https://localhost:8080/",
          "height": 392
        },
        "outputId": "b7b5866e-7469-4081-cbe9-0eef297e0321"
      },
      "source": [
        "df.head()"
      ],
      "execution_count": 5,
      "outputs": [
        {
          "output_type": "execute_result",
          "data": {
            "text/plain": [
              "     Customer Name                                    Customer e-mail  \\\n",
              "0    Martina Avila  cubilia.Curae.Phasellus@quisaccumsanconvallis.edu   \n",
              "1    Harlan Barnes                                eu.dolor@diam.co.uk   \n",
              "2  Naomi Rodriquez  vulputate.mauris.sagittis@ametconsectetueradip...   \n",
              "3  Jade Cunningham                            malesuada@dignissim.com   \n",
              "4     Cedric Leach     felis.ullamcorper.viverra@egetmollislectus.net   \n",
              "\n",
              "        Country  Gender        Age  Annual Salary  Credit Card Debt  \\\n",
              "0      Bulgaria       0  41.851720    62812.09301      11609.380910   \n",
              "1        Belize       0  40.870623    66646.89292       9572.957136   \n",
              "2       Algeria       1  43.152897    53798.55112      11160.355060   \n",
              "3  Cook Islands       1  58.271369    79370.03798      14426.164850   \n",
              "4        Brazil       1  57.313749    59729.15130       5358.712177   \n",
              "\n",
              "     Net Worth  Car Purchase Amount  \n",
              "0  238961.2505          35321.45877  \n",
              "1  530973.9078          45115.52566  \n",
              "2  638467.1773          42925.70921  \n",
              "3  548599.0524          67422.36313  \n",
              "4  560304.0671          55915.46248  "
            ],
            "text/html": [
              "\n",
              "  <div id=\"df-d7efe6bb-4e3f-451d-b8bf-318c1e3c663e\">\n",
              "    <div class=\"colab-df-container\">\n",
              "      <div>\n",
              "<style scoped>\n",
              "    .dataframe tbody tr th:only-of-type {\n",
              "        vertical-align: middle;\n",
              "    }\n",
              "\n",
              "    .dataframe tbody tr th {\n",
              "        vertical-align: top;\n",
              "    }\n",
              "\n",
              "    .dataframe thead th {\n",
              "        text-align: right;\n",
              "    }\n",
              "</style>\n",
              "<table border=\"1\" class=\"dataframe\">\n",
              "  <thead>\n",
              "    <tr style=\"text-align: right;\">\n",
              "      <th></th>\n",
              "      <th>Customer Name</th>\n",
              "      <th>Customer e-mail</th>\n",
              "      <th>Country</th>\n",
              "      <th>Gender</th>\n",
              "      <th>Age</th>\n",
              "      <th>Annual Salary</th>\n",
              "      <th>Credit Card Debt</th>\n",
              "      <th>Net Worth</th>\n",
              "      <th>Car Purchase Amount</th>\n",
              "    </tr>\n",
              "  </thead>\n",
              "  <tbody>\n",
              "    <tr>\n",
              "      <th>0</th>\n",
              "      <td>Martina Avila</td>\n",
              "      <td>cubilia.Curae.Phasellus@quisaccumsanconvallis.edu</td>\n",
              "      <td>Bulgaria</td>\n",
              "      <td>0</td>\n",
              "      <td>41.851720</td>\n",
              "      <td>62812.09301</td>\n",
              "      <td>11609.380910</td>\n",
              "      <td>238961.2505</td>\n",
              "      <td>35321.45877</td>\n",
              "    </tr>\n",
              "    <tr>\n",
              "      <th>1</th>\n",
              "      <td>Harlan Barnes</td>\n",
              "      <td>eu.dolor@diam.co.uk</td>\n",
              "      <td>Belize</td>\n",
              "      <td>0</td>\n",
              "      <td>40.870623</td>\n",
              "      <td>66646.89292</td>\n",
              "      <td>9572.957136</td>\n",
              "      <td>530973.9078</td>\n",
              "      <td>45115.52566</td>\n",
              "    </tr>\n",
              "    <tr>\n",
              "      <th>2</th>\n",
              "      <td>Naomi Rodriquez</td>\n",
              "      <td>vulputate.mauris.sagittis@ametconsectetueradip...</td>\n",
              "      <td>Algeria</td>\n",
              "      <td>1</td>\n",
              "      <td>43.152897</td>\n",
              "      <td>53798.55112</td>\n",
              "      <td>11160.355060</td>\n",
              "      <td>638467.1773</td>\n",
              "      <td>42925.70921</td>\n",
              "    </tr>\n",
              "    <tr>\n",
              "      <th>3</th>\n",
              "      <td>Jade Cunningham</td>\n",
              "      <td>malesuada@dignissim.com</td>\n",
              "      <td>Cook Islands</td>\n",
              "      <td>1</td>\n",
              "      <td>58.271369</td>\n",
              "      <td>79370.03798</td>\n",
              "      <td>14426.164850</td>\n",
              "      <td>548599.0524</td>\n",
              "      <td>67422.36313</td>\n",
              "    </tr>\n",
              "    <tr>\n",
              "      <th>4</th>\n",
              "      <td>Cedric Leach</td>\n",
              "      <td>felis.ullamcorper.viverra@egetmollislectus.net</td>\n",
              "      <td>Brazil</td>\n",
              "      <td>1</td>\n",
              "      <td>57.313749</td>\n",
              "      <td>59729.15130</td>\n",
              "      <td>5358.712177</td>\n",
              "      <td>560304.0671</td>\n",
              "      <td>55915.46248</td>\n",
              "    </tr>\n",
              "  </tbody>\n",
              "</table>\n",
              "</div>\n",
              "      <button class=\"colab-df-convert\" onclick=\"convertToInteractive('df-d7efe6bb-4e3f-451d-b8bf-318c1e3c663e')\"\n",
              "              title=\"Convert this dataframe to an interactive table.\"\n",
              "              style=\"display:none;\">\n",
              "        \n",
              "  <svg xmlns=\"http://www.w3.org/2000/svg\" height=\"24px\"viewBox=\"0 0 24 24\"\n",
              "       width=\"24px\">\n",
              "    <path d=\"M0 0h24v24H0V0z\" fill=\"none\"/>\n",
              "    <path d=\"M18.56 5.44l.94 2.06.94-2.06 2.06-.94-2.06-.94-.94-2.06-.94 2.06-2.06.94zm-11 1L8.5 8.5l.94-2.06 2.06-.94-2.06-.94L8.5 2.5l-.94 2.06-2.06.94zm10 10l.94 2.06.94-2.06 2.06-.94-2.06-.94-.94-2.06-.94 2.06-2.06.94z\"/><path d=\"M17.41 7.96l-1.37-1.37c-.4-.4-.92-.59-1.43-.59-.52 0-1.04.2-1.43.59L10.3 9.45l-7.72 7.72c-.78.78-.78 2.05 0 2.83L4 21.41c.39.39.9.59 1.41.59.51 0 1.02-.2 1.41-.59l7.78-7.78 2.81-2.81c.8-.78.8-2.07 0-2.86zM5.41 20L4 18.59l7.72-7.72 1.47 1.35L5.41 20z\"/>\n",
              "  </svg>\n",
              "      </button>\n",
              "      \n",
              "  <style>\n",
              "    .colab-df-container {\n",
              "      display:flex;\n",
              "      flex-wrap:wrap;\n",
              "      gap: 12px;\n",
              "    }\n",
              "\n",
              "    .colab-df-convert {\n",
              "      background-color: #E8F0FE;\n",
              "      border: none;\n",
              "      border-radius: 50%;\n",
              "      cursor: pointer;\n",
              "      display: none;\n",
              "      fill: #1967D2;\n",
              "      height: 32px;\n",
              "      padding: 0 0 0 0;\n",
              "      width: 32px;\n",
              "    }\n",
              "\n",
              "    .colab-df-convert:hover {\n",
              "      background-color: #E2EBFA;\n",
              "      box-shadow: 0px 1px 2px rgba(60, 64, 67, 0.3), 0px 1px 3px 1px rgba(60, 64, 67, 0.15);\n",
              "      fill: #174EA6;\n",
              "    }\n",
              "\n",
              "    [theme=dark] .colab-df-convert {\n",
              "      background-color: #3B4455;\n",
              "      fill: #D2E3FC;\n",
              "    }\n",
              "\n",
              "    [theme=dark] .colab-df-convert:hover {\n",
              "      background-color: #434B5C;\n",
              "      box-shadow: 0px 1px 3px 1px rgba(0, 0, 0, 0.15);\n",
              "      filter: drop-shadow(0px 1px 2px rgba(0, 0, 0, 0.3));\n",
              "      fill: #FFFFFF;\n",
              "    }\n",
              "  </style>\n",
              "\n",
              "      <script>\n",
              "        const buttonEl =\n",
              "          document.querySelector('#df-d7efe6bb-4e3f-451d-b8bf-318c1e3c663e button.colab-df-convert');\n",
              "        buttonEl.style.display =\n",
              "          google.colab.kernel.accessAllowed ? 'block' : 'none';\n",
              "\n",
              "        async function convertToInteractive(key) {\n",
              "          const element = document.querySelector('#df-d7efe6bb-4e3f-451d-b8bf-318c1e3c663e');\n",
              "          const dataTable =\n",
              "            await google.colab.kernel.invokeFunction('convertToInteractive',\n",
              "                                                     [key], {});\n",
              "          if (!dataTable) return;\n",
              "\n",
              "          const docLinkHtml = 'Like what you see? Visit the ' +\n",
              "            '<a target=\"_blank\" href=https://colab.research.google.com/notebooks/data_table.ipynb>data table notebook</a>'\n",
              "            + ' to learn more about interactive tables.';\n",
              "          element.innerHTML = '';\n",
              "          dataTable['output_type'] = 'display_data';\n",
              "          await google.colab.output.renderOutput(dataTable, element);\n",
              "          const docLink = document.createElement('div');\n",
              "          docLink.innerHTML = docLinkHtml;\n",
              "          element.appendChild(docLink);\n",
              "        }\n",
              "      </script>\n",
              "    </div>\n",
              "  </div>\n",
              "  "
            ]
          },
          "metadata": {},
          "execution_count": 5
        }
      ]
    },
    {
      "cell_type": "code",
      "metadata": {
        "id": "Rfl0rO5mF8yv"
      },
      "source": [
        ""
      ],
      "execution_count": null,
      "outputs": []
    },
    {
      "cell_type": "markdown",
      "metadata": {
        "id": "lS_Cb9X-VK2B"
      },
      "source": [
        "### 연봉이 가장 높은 사람은 누구인가"
      ]
    },
    {
      "cell_type": "code",
      "metadata": {
        "id": "4woHSrv-F-pU"
      },
      "source": [
        ""
      ],
      "execution_count": null,
      "outputs": []
    },
    {
      "cell_type": "markdown",
      "metadata": {
        "id": "m2CHsfoiVQfz"
      },
      "source": [
        "### 나이가 가장 어린 고객은, 연봉이 얼마인가"
      ]
    },
    {
      "cell_type": "code",
      "metadata": {
        "id": "YivXbVo1V55m"
      },
      "source": [
        ""
      ],
      "execution_count": null,
      "outputs": []
    },
    {
      "cell_type": "code",
      "metadata": {
        "id": "U462pATrF__r"
      },
      "source": [
        ""
      ],
      "execution_count": null,
      "outputs": []
    },
    {
      "cell_type": "markdown",
      "metadata": {
        "id": "GC2XKKZaRtMt"
      },
      "source": [
        "# STEP #2: VISUALIZE DATASET\n",
        "\n",
        "### 상관관계를 분석하기 위해, pairplot 을 그려보자."
      ]
    },
    {
      "cell_type": "code",
      "metadata": {
        "id": "EApRuTfGGClX"
      },
      "source": [
        ""
      ],
      "execution_count": null,
      "outputs": []
    },
    {
      "cell_type": "markdown",
      "metadata": {
        "id": "hIp7mXXCRtMt"
      },
      "source": [
        "# STEP #3: CREATE TESTING AND TRAINING DATASET/DATA CLEANING\n",
        "\n",
        "\n"
      ]
    },
    {
      "cell_type": "markdown",
      "metadata": {
        "id": "iOqG1_TJWWbL"
      },
      "source": [
        "### NaN 값이 있으면, 이를 해결하시오."
      ]
    },
    {
      "cell_type": "code",
      "metadata": {
        "id": "uxgGMPS9GDyM",
        "colab": {
          "base_uri": "https://localhost:8080/"
        },
        "outputId": "6370677a-fd92-4a76-b04f-26df0b6e7a6f"
      },
      "source": [
        "df.isna().sum()"
      ],
      "execution_count": 6,
      "outputs": [
        {
          "output_type": "execute_result",
          "data": {
            "text/plain": [
              "Customer Name          0\n",
              "Customer e-mail        0\n",
              "Country                0\n",
              "Gender                 0\n",
              "Age                    0\n",
              "Annual Salary          0\n",
              "Credit Card Debt       0\n",
              "Net Worth              0\n",
              "Car Purchase Amount    0\n",
              "dtype: int64"
            ]
          },
          "metadata": {},
          "execution_count": 6
        }
      ]
    },
    {
      "cell_type": "markdown",
      "metadata": {
        "id": "M6JnbJJtWcgN"
      },
      "source": [
        "### 학습을 위해 'Customer Name', 'Customer e-mail', 'Country', 'Car Purchase Amount' 컬럼을 제외한 컬럼만, X로 만드시오."
      ]
    },
    {
      "cell_type": "code",
      "source": [
        "df.head(1)"
      ],
      "metadata": {
        "colab": {
          "base_uri": "https://localhost:8080/",
          "height": 197
        },
        "id": "yV_I-65QLYda",
        "outputId": "65b9288d-a199-4bee-bfd6-6deb10fb2df6"
      },
      "execution_count": 7,
      "outputs": [
        {
          "output_type": "execute_result",
          "data": {
            "text/plain": [
              "   Customer Name                                    Customer e-mail   Country  \\\n",
              "0  Martina Avila  cubilia.Curae.Phasellus@quisaccumsanconvallis.edu  Bulgaria   \n",
              "\n",
              "   Gender       Age  Annual Salary  Credit Card Debt    Net Worth  \\\n",
              "0       0  41.85172    62812.09301       11609.38091  238961.2505   \n",
              "\n",
              "   Car Purchase Amount  \n",
              "0          35321.45877  "
            ],
            "text/html": [
              "\n",
              "  <div id=\"df-1b9633c8-4938-4094-9f44-6da2e55b92f3\">\n",
              "    <div class=\"colab-df-container\">\n",
              "      <div>\n",
              "<style scoped>\n",
              "    .dataframe tbody tr th:only-of-type {\n",
              "        vertical-align: middle;\n",
              "    }\n",
              "\n",
              "    .dataframe tbody tr th {\n",
              "        vertical-align: top;\n",
              "    }\n",
              "\n",
              "    .dataframe thead th {\n",
              "        text-align: right;\n",
              "    }\n",
              "</style>\n",
              "<table border=\"1\" class=\"dataframe\">\n",
              "  <thead>\n",
              "    <tr style=\"text-align: right;\">\n",
              "      <th></th>\n",
              "      <th>Customer Name</th>\n",
              "      <th>Customer e-mail</th>\n",
              "      <th>Country</th>\n",
              "      <th>Gender</th>\n",
              "      <th>Age</th>\n",
              "      <th>Annual Salary</th>\n",
              "      <th>Credit Card Debt</th>\n",
              "      <th>Net Worth</th>\n",
              "      <th>Car Purchase Amount</th>\n",
              "    </tr>\n",
              "  </thead>\n",
              "  <tbody>\n",
              "    <tr>\n",
              "      <th>0</th>\n",
              "      <td>Martina Avila</td>\n",
              "      <td>cubilia.Curae.Phasellus@quisaccumsanconvallis.edu</td>\n",
              "      <td>Bulgaria</td>\n",
              "      <td>0</td>\n",
              "      <td>41.85172</td>\n",
              "      <td>62812.09301</td>\n",
              "      <td>11609.38091</td>\n",
              "      <td>238961.2505</td>\n",
              "      <td>35321.45877</td>\n",
              "    </tr>\n",
              "  </tbody>\n",
              "</table>\n",
              "</div>\n",
              "      <button class=\"colab-df-convert\" onclick=\"convertToInteractive('df-1b9633c8-4938-4094-9f44-6da2e55b92f3')\"\n",
              "              title=\"Convert this dataframe to an interactive table.\"\n",
              "              style=\"display:none;\">\n",
              "        \n",
              "  <svg xmlns=\"http://www.w3.org/2000/svg\" height=\"24px\"viewBox=\"0 0 24 24\"\n",
              "       width=\"24px\">\n",
              "    <path d=\"M0 0h24v24H0V0z\" fill=\"none\"/>\n",
              "    <path d=\"M18.56 5.44l.94 2.06.94-2.06 2.06-.94-2.06-.94-.94-2.06-.94 2.06-2.06.94zm-11 1L8.5 8.5l.94-2.06 2.06-.94-2.06-.94L8.5 2.5l-.94 2.06-2.06.94zm10 10l.94 2.06.94-2.06 2.06-.94-2.06-.94-.94-2.06-.94 2.06-2.06.94z\"/><path d=\"M17.41 7.96l-1.37-1.37c-.4-.4-.92-.59-1.43-.59-.52 0-1.04.2-1.43.59L10.3 9.45l-7.72 7.72c-.78.78-.78 2.05 0 2.83L4 21.41c.39.39.9.59 1.41.59.51 0 1.02-.2 1.41-.59l7.78-7.78 2.81-2.81c.8-.78.8-2.07 0-2.86zM5.41 20L4 18.59l7.72-7.72 1.47 1.35L5.41 20z\"/>\n",
              "  </svg>\n",
              "      </button>\n",
              "      \n",
              "  <style>\n",
              "    .colab-df-container {\n",
              "      display:flex;\n",
              "      flex-wrap:wrap;\n",
              "      gap: 12px;\n",
              "    }\n",
              "\n",
              "    .colab-df-convert {\n",
              "      background-color: #E8F0FE;\n",
              "      border: none;\n",
              "      border-radius: 50%;\n",
              "      cursor: pointer;\n",
              "      display: none;\n",
              "      fill: #1967D2;\n",
              "      height: 32px;\n",
              "      padding: 0 0 0 0;\n",
              "      width: 32px;\n",
              "    }\n",
              "\n",
              "    .colab-df-convert:hover {\n",
              "      background-color: #E2EBFA;\n",
              "      box-shadow: 0px 1px 2px rgba(60, 64, 67, 0.3), 0px 1px 3px 1px rgba(60, 64, 67, 0.15);\n",
              "      fill: #174EA6;\n",
              "    }\n",
              "\n",
              "    [theme=dark] .colab-df-convert {\n",
              "      background-color: #3B4455;\n",
              "      fill: #D2E3FC;\n",
              "    }\n",
              "\n",
              "    [theme=dark] .colab-df-convert:hover {\n",
              "      background-color: #434B5C;\n",
              "      box-shadow: 0px 1px 3px 1px rgba(0, 0, 0, 0.15);\n",
              "      filter: drop-shadow(0px 1px 2px rgba(0, 0, 0, 0.3));\n",
              "      fill: #FFFFFF;\n",
              "    }\n",
              "  </style>\n",
              "\n",
              "      <script>\n",
              "        const buttonEl =\n",
              "          document.querySelector('#df-1b9633c8-4938-4094-9f44-6da2e55b92f3 button.colab-df-convert');\n",
              "        buttonEl.style.display =\n",
              "          google.colab.kernel.accessAllowed ? 'block' : 'none';\n",
              "\n",
              "        async function convertToInteractive(key) {\n",
              "          const element = document.querySelector('#df-1b9633c8-4938-4094-9f44-6da2e55b92f3');\n",
              "          const dataTable =\n",
              "            await google.colab.kernel.invokeFunction('convertToInteractive',\n",
              "                                                     [key], {});\n",
              "          if (!dataTable) return;\n",
              "\n",
              "          const docLinkHtml = 'Like what you see? Visit the ' +\n",
              "            '<a target=\"_blank\" href=https://colab.research.google.com/notebooks/data_table.ipynb>data table notebook</a>'\n",
              "            + ' to learn more about interactive tables.';\n",
              "          element.innerHTML = '';\n",
              "          dataTable['output_type'] = 'display_data';\n",
              "          await google.colab.output.renderOutput(dataTable, element);\n",
              "          const docLink = document.createElement('div');\n",
              "          docLink.innerHTML = docLinkHtml;\n",
              "          element.appendChild(docLink);\n",
              "        }\n",
              "      </script>\n",
              "    </div>\n",
              "  </div>\n",
              "  "
            ]
          },
          "metadata": {},
          "execution_count": 7
        }
      ]
    },
    {
      "cell_type": "code",
      "metadata": {
        "id": "czv4afywRtMu"
      },
      "source": [
        "X = df.iloc[ : , 3 : -2+1 ]"
      ],
      "execution_count": 8,
      "outputs": []
    },
    {
      "cell_type": "code",
      "metadata": {
        "id": "d_yCX1dYRtMu",
        "colab": {
          "base_uri": "https://localhost:8080/",
          "height": 424
        },
        "outputId": "0711eb6d-5bc8-4f28-a63a-000d17e36bb3"
      },
      "source": [
        "X"
      ],
      "execution_count": 9,
      "outputs": [
        {
          "output_type": "execute_result",
          "data": {
            "text/plain": [
              "     Gender        Age  Annual Salary  Credit Card Debt    Net Worth\n",
              "0         0  41.851720    62812.09301      11609.380910  238961.2505\n",
              "1         0  40.870623    66646.89292       9572.957136  530973.9078\n",
              "2         1  43.152897    53798.55112      11160.355060  638467.1773\n",
              "3         1  58.271369    79370.03798      14426.164850  548599.0524\n",
              "4         1  57.313749    59729.15130       5358.712177  560304.0671\n",
              "..      ...        ...            ...               ...          ...\n",
              "495       0  41.462515    71942.40291       6995.902524  541670.1016\n",
              "496       1  37.642000    56039.49793      12301.456790  360419.0988\n",
              "497       1  53.943497    68888.77805      10611.606860  764531.3203\n",
              "498       1  59.160509    49811.99062      14013.034510  337826.6382\n",
              "499       1  46.731152    61370.67766       9391.341628  462946.4924\n",
              "\n",
              "[500 rows x 5 columns]"
            ],
            "text/html": [
              "\n",
              "  <div id=\"df-76340499-655a-40d2-b7dc-b6db6ee55ab7\">\n",
              "    <div class=\"colab-df-container\">\n",
              "      <div>\n",
              "<style scoped>\n",
              "    .dataframe tbody tr th:only-of-type {\n",
              "        vertical-align: middle;\n",
              "    }\n",
              "\n",
              "    .dataframe tbody tr th {\n",
              "        vertical-align: top;\n",
              "    }\n",
              "\n",
              "    .dataframe thead th {\n",
              "        text-align: right;\n",
              "    }\n",
              "</style>\n",
              "<table border=\"1\" class=\"dataframe\">\n",
              "  <thead>\n",
              "    <tr style=\"text-align: right;\">\n",
              "      <th></th>\n",
              "      <th>Gender</th>\n",
              "      <th>Age</th>\n",
              "      <th>Annual Salary</th>\n",
              "      <th>Credit Card Debt</th>\n",
              "      <th>Net Worth</th>\n",
              "    </tr>\n",
              "  </thead>\n",
              "  <tbody>\n",
              "    <tr>\n",
              "      <th>0</th>\n",
              "      <td>0</td>\n",
              "      <td>41.851720</td>\n",
              "      <td>62812.09301</td>\n",
              "      <td>11609.380910</td>\n",
              "      <td>238961.2505</td>\n",
              "    </tr>\n",
              "    <tr>\n",
              "      <th>1</th>\n",
              "      <td>0</td>\n",
              "      <td>40.870623</td>\n",
              "      <td>66646.89292</td>\n",
              "      <td>9572.957136</td>\n",
              "      <td>530973.9078</td>\n",
              "    </tr>\n",
              "    <tr>\n",
              "      <th>2</th>\n",
              "      <td>1</td>\n",
              "      <td>43.152897</td>\n",
              "      <td>53798.55112</td>\n",
              "      <td>11160.355060</td>\n",
              "      <td>638467.1773</td>\n",
              "    </tr>\n",
              "    <tr>\n",
              "      <th>3</th>\n",
              "      <td>1</td>\n",
              "      <td>58.271369</td>\n",
              "      <td>79370.03798</td>\n",
              "      <td>14426.164850</td>\n",
              "      <td>548599.0524</td>\n",
              "    </tr>\n",
              "    <tr>\n",
              "      <th>4</th>\n",
              "      <td>1</td>\n",
              "      <td>57.313749</td>\n",
              "      <td>59729.15130</td>\n",
              "      <td>5358.712177</td>\n",
              "      <td>560304.0671</td>\n",
              "    </tr>\n",
              "    <tr>\n",
              "      <th>...</th>\n",
              "      <td>...</td>\n",
              "      <td>...</td>\n",
              "      <td>...</td>\n",
              "      <td>...</td>\n",
              "      <td>...</td>\n",
              "    </tr>\n",
              "    <tr>\n",
              "      <th>495</th>\n",
              "      <td>0</td>\n",
              "      <td>41.462515</td>\n",
              "      <td>71942.40291</td>\n",
              "      <td>6995.902524</td>\n",
              "      <td>541670.1016</td>\n",
              "    </tr>\n",
              "    <tr>\n",
              "      <th>496</th>\n",
              "      <td>1</td>\n",
              "      <td>37.642000</td>\n",
              "      <td>56039.49793</td>\n",
              "      <td>12301.456790</td>\n",
              "      <td>360419.0988</td>\n",
              "    </tr>\n",
              "    <tr>\n",
              "      <th>497</th>\n",
              "      <td>1</td>\n",
              "      <td>53.943497</td>\n",
              "      <td>68888.77805</td>\n",
              "      <td>10611.606860</td>\n",
              "      <td>764531.3203</td>\n",
              "    </tr>\n",
              "    <tr>\n",
              "      <th>498</th>\n",
              "      <td>1</td>\n",
              "      <td>59.160509</td>\n",
              "      <td>49811.99062</td>\n",
              "      <td>14013.034510</td>\n",
              "      <td>337826.6382</td>\n",
              "    </tr>\n",
              "    <tr>\n",
              "      <th>499</th>\n",
              "      <td>1</td>\n",
              "      <td>46.731152</td>\n",
              "      <td>61370.67766</td>\n",
              "      <td>9391.341628</td>\n",
              "      <td>462946.4924</td>\n",
              "    </tr>\n",
              "  </tbody>\n",
              "</table>\n",
              "<p>500 rows × 5 columns</p>\n",
              "</div>\n",
              "      <button class=\"colab-df-convert\" onclick=\"convertToInteractive('df-76340499-655a-40d2-b7dc-b6db6ee55ab7')\"\n",
              "              title=\"Convert this dataframe to an interactive table.\"\n",
              "              style=\"display:none;\">\n",
              "        \n",
              "  <svg xmlns=\"http://www.w3.org/2000/svg\" height=\"24px\"viewBox=\"0 0 24 24\"\n",
              "       width=\"24px\">\n",
              "    <path d=\"M0 0h24v24H0V0z\" fill=\"none\"/>\n",
              "    <path d=\"M18.56 5.44l.94 2.06.94-2.06 2.06-.94-2.06-.94-.94-2.06-.94 2.06-2.06.94zm-11 1L8.5 8.5l.94-2.06 2.06-.94-2.06-.94L8.5 2.5l-.94 2.06-2.06.94zm10 10l.94 2.06.94-2.06 2.06-.94-2.06-.94-.94-2.06-.94 2.06-2.06.94z\"/><path d=\"M17.41 7.96l-1.37-1.37c-.4-.4-.92-.59-1.43-.59-.52 0-1.04.2-1.43.59L10.3 9.45l-7.72 7.72c-.78.78-.78 2.05 0 2.83L4 21.41c.39.39.9.59 1.41.59.51 0 1.02-.2 1.41-.59l7.78-7.78 2.81-2.81c.8-.78.8-2.07 0-2.86zM5.41 20L4 18.59l7.72-7.72 1.47 1.35L5.41 20z\"/>\n",
              "  </svg>\n",
              "      </button>\n",
              "      \n",
              "  <style>\n",
              "    .colab-df-container {\n",
              "      display:flex;\n",
              "      flex-wrap:wrap;\n",
              "      gap: 12px;\n",
              "    }\n",
              "\n",
              "    .colab-df-convert {\n",
              "      background-color: #E8F0FE;\n",
              "      border: none;\n",
              "      border-radius: 50%;\n",
              "      cursor: pointer;\n",
              "      display: none;\n",
              "      fill: #1967D2;\n",
              "      height: 32px;\n",
              "      padding: 0 0 0 0;\n",
              "      width: 32px;\n",
              "    }\n",
              "\n",
              "    .colab-df-convert:hover {\n",
              "      background-color: #E2EBFA;\n",
              "      box-shadow: 0px 1px 2px rgba(60, 64, 67, 0.3), 0px 1px 3px 1px rgba(60, 64, 67, 0.15);\n",
              "      fill: #174EA6;\n",
              "    }\n",
              "\n",
              "    [theme=dark] .colab-df-convert {\n",
              "      background-color: #3B4455;\n",
              "      fill: #D2E3FC;\n",
              "    }\n",
              "\n",
              "    [theme=dark] .colab-df-convert:hover {\n",
              "      background-color: #434B5C;\n",
              "      box-shadow: 0px 1px 3px 1px rgba(0, 0, 0, 0.15);\n",
              "      filter: drop-shadow(0px 1px 2px rgba(0, 0, 0, 0.3));\n",
              "      fill: #FFFFFF;\n",
              "    }\n",
              "  </style>\n",
              "\n",
              "      <script>\n",
              "        const buttonEl =\n",
              "          document.querySelector('#df-76340499-655a-40d2-b7dc-b6db6ee55ab7 button.colab-df-convert');\n",
              "        buttonEl.style.display =\n",
              "          google.colab.kernel.accessAllowed ? 'block' : 'none';\n",
              "\n",
              "        async function convertToInteractive(key) {\n",
              "          const element = document.querySelector('#df-76340499-655a-40d2-b7dc-b6db6ee55ab7');\n",
              "          const dataTable =\n",
              "            await google.colab.kernel.invokeFunction('convertToInteractive',\n",
              "                                                     [key], {});\n",
              "          if (!dataTable) return;\n",
              "\n",
              "          const docLinkHtml = 'Like what you see? Visit the ' +\n",
              "            '<a target=\"_blank\" href=https://colab.research.google.com/notebooks/data_table.ipynb>data table notebook</a>'\n",
              "            + ' to learn more about interactive tables.';\n",
              "          element.innerHTML = '';\n",
              "          dataTable['output_type'] = 'display_data';\n",
              "          await google.colab.output.renderOutput(dataTable, element);\n",
              "          const docLink = document.createElement('div');\n",
              "          docLink.innerHTML = docLinkHtml;\n",
              "          element.appendChild(docLink);\n",
              "        }\n",
              "      </script>\n",
              "    </div>\n",
              "  </div>\n",
              "  "
            ]
          },
          "metadata": {},
          "execution_count": 9
        }
      ]
    },
    {
      "cell_type": "markdown",
      "metadata": {
        "id": "hmi3hhD8W5cE"
      },
      "source": [
        "### y 값은 'Car Purchase Amount' 컬럼으로 셋팅하시오."
      ]
    },
    {
      "cell_type": "code",
      "metadata": {
        "id": "tyTVe8ktRtMu"
      },
      "source": [
        "y = df['Car Purchase Amount']"
      ],
      "execution_count": 10,
      "outputs": []
    },
    {
      "cell_type": "markdown",
      "metadata": {
        "id": "xDlscefZXCKM"
      },
      "source": [
        "### 피처 스케일링 하겠습니다. 정규화(normalization)를 사용합니다. MinMaxScaler 를 이용하시오."
      ]
    },
    {
      "cell_type": "code",
      "metadata": {
        "id": "XhwGquGcGMFm",
        "colab": {
          "base_uri": "https://localhost:8080/",
          "height": 424
        },
        "outputId": "c8e6eb17-3eaa-46fa-b49a-b66013b39980"
      },
      "source": [
        "X"
      ],
      "execution_count": 11,
      "outputs": [
        {
          "output_type": "execute_result",
          "data": {
            "text/plain": [
              "     Gender        Age  Annual Salary  Credit Card Debt    Net Worth\n",
              "0         0  41.851720    62812.09301      11609.380910  238961.2505\n",
              "1         0  40.870623    66646.89292       9572.957136  530973.9078\n",
              "2         1  43.152897    53798.55112      11160.355060  638467.1773\n",
              "3         1  58.271369    79370.03798      14426.164850  548599.0524\n",
              "4         1  57.313749    59729.15130       5358.712177  560304.0671\n",
              "..      ...        ...            ...               ...          ...\n",
              "495       0  41.462515    71942.40291       6995.902524  541670.1016\n",
              "496       1  37.642000    56039.49793      12301.456790  360419.0988\n",
              "497       1  53.943497    68888.77805      10611.606860  764531.3203\n",
              "498       1  59.160509    49811.99062      14013.034510  337826.6382\n",
              "499       1  46.731152    61370.67766       9391.341628  462946.4924\n",
              "\n",
              "[500 rows x 5 columns]"
            ],
            "text/html": [
              "\n",
              "  <div id=\"df-283ba227-6a6d-4d16-9de7-98ea9922f97d\">\n",
              "    <div class=\"colab-df-container\">\n",
              "      <div>\n",
              "<style scoped>\n",
              "    .dataframe tbody tr th:only-of-type {\n",
              "        vertical-align: middle;\n",
              "    }\n",
              "\n",
              "    .dataframe tbody tr th {\n",
              "        vertical-align: top;\n",
              "    }\n",
              "\n",
              "    .dataframe thead th {\n",
              "        text-align: right;\n",
              "    }\n",
              "</style>\n",
              "<table border=\"1\" class=\"dataframe\">\n",
              "  <thead>\n",
              "    <tr style=\"text-align: right;\">\n",
              "      <th></th>\n",
              "      <th>Gender</th>\n",
              "      <th>Age</th>\n",
              "      <th>Annual Salary</th>\n",
              "      <th>Credit Card Debt</th>\n",
              "      <th>Net Worth</th>\n",
              "    </tr>\n",
              "  </thead>\n",
              "  <tbody>\n",
              "    <tr>\n",
              "      <th>0</th>\n",
              "      <td>0</td>\n",
              "      <td>41.851720</td>\n",
              "      <td>62812.09301</td>\n",
              "      <td>11609.380910</td>\n",
              "      <td>238961.2505</td>\n",
              "    </tr>\n",
              "    <tr>\n",
              "      <th>1</th>\n",
              "      <td>0</td>\n",
              "      <td>40.870623</td>\n",
              "      <td>66646.89292</td>\n",
              "      <td>9572.957136</td>\n",
              "      <td>530973.9078</td>\n",
              "    </tr>\n",
              "    <tr>\n",
              "      <th>2</th>\n",
              "      <td>1</td>\n",
              "      <td>43.152897</td>\n",
              "      <td>53798.55112</td>\n",
              "      <td>11160.355060</td>\n",
              "      <td>638467.1773</td>\n",
              "    </tr>\n",
              "    <tr>\n",
              "      <th>3</th>\n",
              "      <td>1</td>\n",
              "      <td>58.271369</td>\n",
              "      <td>79370.03798</td>\n",
              "      <td>14426.164850</td>\n",
              "      <td>548599.0524</td>\n",
              "    </tr>\n",
              "    <tr>\n",
              "      <th>4</th>\n",
              "      <td>1</td>\n",
              "      <td>57.313749</td>\n",
              "      <td>59729.15130</td>\n",
              "      <td>5358.712177</td>\n",
              "      <td>560304.0671</td>\n",
              "    </tr>\n",
              "    <tr>\n",
              "      <th>...</th>\n",
              "      <td>...</td>\n",
              "      <td>...</td>\n",
              "      <td>...</td>\n",
              "      <td>...</td>\n",
              "      <td>...</td>\n",
              "    </tr>\n",
              "    <tr>\n",
              "      <th>495</th>\n",
              "      <td>0</td>\n",
              "      <td>41.462515</td>\n",
              "      <td>71942.40291</td>\n",
              "      <td>6995.902524</td>\n",
              "      <td>541670.1016</td>\n",
              "    </tr>\n",
              "    <tr>\n",
              "      <th>496</th>\n",
              "      <td>1</td>\n",
              "      <td>37.642000</td>\n",
              "      <td>56039.49793</td>\n",
              "      <td>12301.456790</td>\n",
              "      <td>360419.0988</td>\n",
              "    </tr>\n",
              "    <tr>\n",
              "      <th>497</th>\n",
              "      <td>1</td>\n",
              "      <td>53.943497</td>\n",
              "      <td>68888.77805</td>\n",
              "      <td>10611.606860</td>\n",
              "      <td>764531.3203</td>\n",
              "    </tr>\n",
              "    <tr>\n",
              "      <th>498</th>\n",
              "      <td>1</td>\n",
              "      <td>59.160509</td>\n",
              "      <td>49811.99062</td>\n",
              "      <td>14013.034510</td>\n",
              "      <td>337826.6382</td>\n",
              "    </tr>\n",
              "    <tr>\n",
              "      <th>499</th>\n",
              "      <td>1</td>\n",
              "      <td>46.731152</td>\n",
              "      <td>61370.67766</td>\n",
              "      <td>9391.341628</td>\n",
              "      <td>462946.4924</td>\n",
              "    </tr>\n",
              "  </tbody>\n",
              "</table>\n",
              "<p>500 rows × 5 columns</p>\n",
              "</div>\n",
              "      <button class=\"colab-df-convert\" onclick=\"convertToInteractive('df-283ba227-6a6d-4d16-9de7-98ea9922f97d')\"\n",
              "              title=\"Convert this dataframe to an interactive table.\"\n",
              "              style=\"display:none;\">\n",
              "        \n",
              "  <svg xmlns=\"http://www.w3.org/2000/svg\" height=\"24px\"viewBox=\"0 0 24 24\"\n",
              "       width=\"24px\">\n",
              "    <path d=\"M0 0h24v24H0V0z\" fill=\"none\"/>\n",
              "    <path d=\"M18.56 5.44l.94 2.06.94-2.06 2.06-.94-2.06-.94-.94-2.06-.94 2.06-2.06.94zm-11 1L8.5 8.5l.94-2.06 2.06-.94-2.06-.94L8.5 2.5l-.94 2.06-2.06.94zm10 10l.94 2.06.94-2.06 2.06-.94-2.06-.94-.94-2.06-.94 2.06-2.06.94z\"/><path d=\"M17.41 7.96l-1.37-1.37c-.4-.4-.92-.59-1.43-.59-.52 0-1.04.2-1.43.59L10.3 9.45l-7.72 7.72c-.78.78-.78 2.05 0 2.83L4 21.41c.39.39.9.59 1.41.59.51 0 1.02-.2 1.41-.59l7.78-7.78 2.81-2.81c.8-.78.8-2.07 0-2.86zM5.41 20L4 18.59l7.72-7.72 1.47 1.35L5.41 20z\"/>\n",
              "  </svg>\n",
              "      </button>\n",
              "      \n",
              "  <style>\n",
              "    .colab-df-container {\n",
              "      display:flex;\n",
              "      flex-wrap:wrap;\n",
              "      gap: 12px;\n",
              "    }\n",
              "\n",
              "    .colab-df-convert {\n",
              "      background-color: #E8F0FE;\n",
              "      border: none;\n",
              "      border-radius: 50%;\n",
              "      cursor: pointer;\n",
              "      display: none;\n",
              "      fill: #1967D2;\n",
              "      height: 32px;\n",
              "      padding: 0 0 0 0;\n",
              "      width: 32px;\n",
              "    }\n",
              "\n",
              "    .colab-df-convert:hover {\n",
              "      background-color: #E2EBFA;\n",
              "      box-shadow: 0px 1px 2px rgba(60, 64, 67, 0.3), 0px 1px 3px 1px rgba(60, 64, 67, 0.15);\n",
              "      fill: #174EA6;\n",
              "    }\n",
              "\n",
              "    [theme=dark] .colab-df-convert {\n",
              "      background-color: #3B4455;\n",
              "      fill: #D2E3FC;\n",
              "    }\n",
              "\n",
              "    [theme=dark] .colab-df-convert:hover {\n",
              "      background-color: #434B5C;\n",
              "      box-shadow: 0px 1px 3px 1px rgba(0, 0, 0, 0.15);\n",
              "      filter: drop-shadow(0px 1px 2px rgba(0, 0, 0, 0.3));\n",
              "      fill: #FFFFFF;\n",
              "    }\n",
              "  </style>\n",
              "\n",
              "      <script>\n",
              "        const buttonEl =\n",
              "          document.querySelector('#df-283ba227-6a6d-4d16-9de7-98ea9922f97d button.colab-df-convert');\n",
              "        buttonEl.style.display =\n",
              "          google.colab.kernel.accessAllowed ? 'block' : 'none';\n",
              "\n",
              "        async function convertToInteractive(key) {\n",
              "          const element = document.querySelector('#df-283ba227-6a6d-4d16-9de7-98ea9922f97d');\n",
              "          const dataTable =\n",
              "            await google.colab.kernel.invokeFunction('convertToInteractive',\n",
              "                                                     [key], {});\n",
              "          if (!dataTable) return;\n",
              "\n",
              "          const docLinkHtml = 'Like what you see? Visit the ' +\n",
              "            '<a target=\"_blank\" href=https://colab.research.google.com/notebooks/data_table.ipynb>data table notebook</a>'\n",
              "            + ' to learn more about interactive tables.';\n",
              "          element.innerHTML = '';\n",
              "          dataTable['output_type'] = 'display_data';\n",
              "          await google.colab.output.renderOutput(dataTable, element);\n",
              "          const docLink = document.createElement('div');\n",
              "          docLink.innerHTML = docLinkHtml;\n",
              "          element.appendChild(docLink);\n",
              "        }\n",
              "      </script>\n",
              "    </div>\n",
              "  </div>\n",
              "  "
            ]
          },
          "metadata": {},
          "execution_count": 11
        }
      ]
    },
    {
      "cell_type": "code",
      "metadata": {
        "id": "yt4lqYwYGL5_"
      },
      "source": [
        "from sklearn.preprocessing import MinMaxScaler"
      ],
      "execution_count": 12,
      "outputs": []
    },
    {
      "cell_type": "code",
      "metadata": {
        "id": "75TWLi0LGLtW"
      },
      "source": [
        "sc_X = MinMaxScaler()"
      ],
      "execution_count": 13,
      "outputs": []
    },
    {
      "cell_type": "code",
      "metadata": {
        "id": "cOY3z6B4GLZS"
      },
      "source": [
        "X_scaled = sc_X.fit_transform(X)"
      ],
      "execution_count": 15,
      "outputs": []
    },
    {
      "cell_type": "markdown",
      "metadata": {
        "id": "ZV_ddN6vXbu-"
      },
      "source": [
        "### 학습을 위해서, y 의 shape 을 변경하시오."
      ]
    },
    {
      "cell_type": "code",
      "metadata": {
        "id": "BtiGUumEGO9p",
        "colab": {
          "base_uri": "https://localhost:8080/"
        },
        "outputId": "74a57c5b-47ff-4b79-d549-8a1d7b275fbb"
      },
      "source": [
        "y"
      ],
      "execution_count": 16,
      "outputs": [
        {
          "output_type": "execute_result",
          "data": {
            "text/plain": [
              "0      35321.45877\n",
              "1      45115.52566\n",
              "2      42925.70921\n",
              "3      67422.36313\n",
              "4      55915.46248\n",
              "          ...     \n",
              "495    48901.44342\n",
              "496    31491.41457\n",
              "497    64147.28888\n",
              "498    45442.15353\n",
              "499    45107.22566\n",
              "Name: Car Purchase Amount, Length: 500, dtype: float64"
            ]
          },
          "metadata": {},
          "execution_count": 16
        }
      ]
    },
    {
      "cell_type": "code",
      "metadata": {
        "id": "9vZHypg0GO2G",
        "colab": {
          "base_uri": "https://localhost:8080/"
        },
        "outputId": "d25dfe1d-725e-47be-f235-41d6484036e2"
      },
      "source": [
        "y.shape"
      ],
      "execution_count": 17,
      "outputs": [
        {
          "output_type": "execute_result",
          "data": {
            "text/plain": [
              "(500,)"
            ]
          },
          "metadata": {},
          "execution_count": 17
        }
      ]
    },
    {
      "cell_type": "code",
      "source": [
        "y = y.values.reshape(500, 1)"
      ],
      "metadata": {
        "id": "5nhTWMSGMVrB"
      },
      "execution_count": 21,
      "outputs": []
    },
    {
      "cell_type": "code",
      "metadata": {
        "id": "aJYqGV16GOsx"
      },
      "source": [
        ""
      ],
      "execution_count": null,
      "outputs": []
    },
    {
      "cell_type": "markdown",
      "metadata": {
        "id": "QL6cexP2Xlr9"
      },
      "source": [
        "### y 도 피처 스케일링 하겠습니다. X 처럼 y도 노멀라이징 하시오."
      ]
    },
    {
      "cell_type": "code",
      "metadata": {
        "id": "pgq2-ThbGQe2"
      },
      "source": [
        "sc_y = MinMaxScaler()"
      ],
      "execution_count": 22,
      "outputs": []
    },
    {
      "cell_type": "code",
      "metadata": {
        "id": "uP4b7L1LGQVM"
      },
      "source": [
        "y_scaled = sc_y.fit_transform(y)"
      ],
      "execution_count": 24,
      "outputs": []
    },
    {
      "cell_type": "code",
      "metadata": {
        "id": "eSpTKt7uGQLr",
        "colab": {
          "base_uri": "https://localhost:8080/"
        },
        "outputId": "abcf6c10-9de2-4ac1-a654-3b6c1b9031c0"
      },
      "source": [
        "y_scaled"
      ],
      "execution_count": 25,
      "outputs": [
        {
          "output_type": "execute_result",
          "data": {
            "text/plain": [
              "array([[0.37072477],\n",
              "       [0.50866938],\n",
              "       [0.47782689],\n",
              "       [0.82285018],\n",
              "       [0.66078116],\n",
              "       [0.67059152],\n",
              "       [0.28064374],\n",
              "       [0.54133778],\n",
              "       [0.54948752],\n",
              "       [0.4111198 ],\n",
              "       [0.70486638],\n",
              "       [0.46885649],\n",
              "       [0.27746526],\n",
              "       [0.56702642],\n",
              "       [0.57056385],\n",
              "       [0.61996151],\n",
              "       [0.46217916],\n",
              "       [0.49157341],\n",
              "       [0.50188722],\n",
              "       [0.64545808],\n",
              "       [0.59339372],\n",
              "       [0.48453965],\n",
              "       [0.53860366],\n",
              "       [0.53007738],\n",
              "       [0.50814651],\n",
              "       [0.49841668],\n",
              "       [0.3966416 ],\n",
              "       [0.56467566],\n",
              "       [0.6950749 ],\n",
              "       [0.49287831],\n",
              "       [0.12090943],\n",
              "       [0.50211776],\n",
              "       [0.80794216],\n",
              "       [0.62661214],\n",
              "       [0.43394857],\n",
              "       [0.60017103],\n",
              "       [0.42223485],\n",
              "       [0.01538345],\n",
              "       [0.37927499],\n",
              "       [0.64539707],\n",
              "       [0.51838974],\n",
              "       [0.45869677],\n",
              "       [0.26804521],\n",
              "       [0.2650104 ],\n",
              "       [0.84054134],\n",
              "       [0.84401542],\n",
              "       [0.35515157],\n",
              "       [0.406246  ],\n",
              "       [0.40680623],\n",
              "       [0.55963883],\n",
              "       [0.2561583 ],\n",
              "       [0.77096325],\n",
              "       [0.55305289],\n",
              "       [0.5264948 ],\n",
              "       [0.3236476 ],\n",
              "       [0.55070832],\n",
              "       [0.54057623],\n",
              "       [0.45669016],\n",
              "       [0.41053254],\n",
              "       [0.33433524],\n",
              "       [0.39926954],\n",
              "       [0.5420261 ],\n",
              "       [0.57366948],\n",
              "       [0.43793831],\n",
              "       [0.46897896],\n",
              "       [0.61908354],\n",
              "       [0.55076214],\n",
              "       [0.48846357],\n",
              "       [0.61560519],\n",
              "       [0.56891394],\n",
              "       [0.30761974],\n",
              "       [0.56863909],\n",
              "       [0.46343171],\n",
              "       [0.50787179],\n",
              "       [0.61959897],\n",
              "       [0.59095889],\n",
              "       [0.45573492],\n",
              "       [0.49908055],\n",
              "       [0.4155271 ],\n",
              "       [0.45382041],\n",
              "       [0.41407692],\n",
              "       [0.45713635],\n",
              "       [0.30133556],\n",
              "       [0.47019791],\n",
              "       [0.42256447],\n",
              "       [0.14863766],\n",
              "       [0.50939895],\n",
              "       [0.38056275],\n",
              "       [0.59067519],\n",
              "       [0.05486922],\n",
              "       [0.4219045 ],\n",
              "       [0.59466257],\n",
              "       [0.23904164],\n",
              "       [0.72775122],\n",
              "       [0.63486085],\n",
              "       [0.43668833],\n",
              "       [0.74075381],\n",
              "       [0.42962519],\n",
              "       [0.61231998],\n",
              "       [0.46743215],\n",
              "       [0.68227386],\n",
              "       [0.19270023],\n",
              "       [0.34705263],\n",
              "       [0.31747576],\n",
              "       [0.72480623],\n",
              "       [0.51744133],\n",
              "       [0.36343414],\n",
              "       [0.36116341],\n",
              "       [0.26178477],\n",
              "       [0.64750739],\n",
              "       [0.56538749],\n",
              "       [0.70197943],\n",
              "       [0.68037083],\n",
              "       [0.60481233],\n",
              "       [0.29916352],\n",
              "       [0.81860421],\n",
              "       [0.47053558],\n",
              "       [0.45706646],\n",
              "       [0.47313925],\n",
              "       [0.35945319],\n",
              "       [0.46779854],\n",
              "       [0.46357095],\n",
              "       [0.71008706],\n",
              "       [0.59721993],\n",
              "       [0.64444254],\n",
              "       [0.53723155],\n",
              "       [0.78016463],\n",
              "       [0.39792327],\n",
              "       [0.61500514],\n",
              "       [0.49297475],\n",
              "       [0.59931944],\n",
              "       [0.4118826 ],\n",
              "       [0.43333307],\n",
              "       [0.43771229],\n",
              "       [0.33988067],\n",
              "       [0.55806565],\n",
              "       [0.54497514],\n",
              "       [0.42831636],\n",
              "       [0.344062  ],\n",
              "       [0.33380674],\n",
              "       [0.75865395],\n",
              "       [0.28768775],\n",
              "       [0.49885366],\n",
              "       [0.3893741 ],\n",
              "       [0.62895125],\n",
              "       [0.52080458],\n",
              "       [0.41555485],\n",
              "       [0.54839351],\n",
              "       [0.72143981],\n",
              "       [0.42155708],\n",
              "       [0.26493265],\n",
              "       [0.54372318],\n",
              "       [0.46981253],\n",
              "       [0.31409216],\n",
              "       [0.46999496],\n",
              "       [0.32165106],\n",
              "       [0.24646921],\n",
              "       [0.41088501],\n",
              "       [0.42863953],\n",
              "       [0.40442699],\n",
              "       [0.67782275],\n",
              "       [0.52751195],\n",
              "       [0.49091635],\n",
              "       [0.65623527],\n",
              "       [0.47160596],\n",
              "       [0.44900269],\n",
              "       [0.16412978],\n",
              "       [0.37237754],\n",
              "       [0.38187033],\n",
              "       [0.41101838],\n",
              "       [0.45107076],\n",
              "       [0.26605566],\n",
              "       [0.48907732],\n",
              "       [0.68212351],\n",
              "       [0.45217002],\n",
              "       [0.56409653],\n",
              "       [0.45444407],\n",
              "       [0.78232624],\n",
              "       [0.28242388],\n",
              "       [0.3059129 ],\n",
              "       [0.41919878],\n",
              "       [0.42720002],\n",
              "       [0.33251345],\n",
              "       [0.69078257],\n",
              "       [0.63925743],\n",
              "       [0.38927052],\n",
              "       [0.42988917],\n",
              "       [0.47856826],\n",
              "       [0.73050372],\n",
              "       [0.52648517],\n",
              "       [0.67013948],\n",
              "       [0.47569515],\n",
              "       [0.40675569],\n",
              "       [0.50997782],\n",
              "       [0.665203  ],\n",
              "       [0.58387492],\n",
              "       [0.57353959],\n",
              "       [0.31967601],\n",
              "       [0.56647918],\n",
              "       [0.52378641],\n",
              "       [0.38150608],\n",
              "       [0.48259225],\n",
              "       [0.44592089],\n",
              "       [0.60117759],\n",
              "       [0.50035241],\n",
              "       [0.55660425],\n",
              "       [0.51838459],\n",
              "       [0.6457801 ],\n",
              "       [0.33068236],\n",
              "       [0.46773647],\n",
              "       [0.64966102],\n",
              "       [0.54907635],\n",
              "       [0.48459001],\n",
              "       [0.50109082],\n",
              "       [0.40485272],\n",
              "       [0.5465529 ],\n",
              "       [0.5048829 ],\n",
              "       [0.53018684],\n",
              "       [0.66991531],\n",
              "       [0.46018938],\n",
              "       [0.73406295],\n",
              "       [0.39864179],\n",
              "       [0.53369389],\n",
              "       [0.66841888],\n",
              "       [0.51422109],\n",
              "       [0.26233016],\n",
              "       [0.52661271],\n",
              "       [0.28171911],\n",
              "       [0.5965593 ],\n",
              "       [0.46494647],\n",
              "       [0.61485077],\n",
              "       [0.49905236],\n",
              "       [0.52189581],\n",
              "       [0.69345654],\n",
              "       [0.47873651],\n",
              "       [0.58735466],\n",
              "       [0.53534616],\n",
              "       [0.56901367],\n",
              "       [0.47883335],\n",
              "       [0.49908428],\n",
              "       [0.5257114 ],\n",
              "       [0.53305254],\n",
              "       [0.66900144],\n",
              "       [0.47568675],\n",
              "       [0.61005611],\n",
              "       [0.3540794 ],\n",
              "       [0.72905982],\n",
              "       [0.80505204],\n",
              "       [0.31289637],\n",
              "       [0.523032  ],\n",
              "       [0.67567861],\n",
              "       [0.2138602 ],\n",
              "       [0.56450168],\n",
              "       [0.39568902],\n",
              "       [0.4845291 ],\n",
              "       [0.28298776],\n",
              "       [0.55421359],\n",
              "       [0.34170423],\n",
              "       [0.45531219],\n",
              "       [0.56811431],\n",
              "       [0.5972613 ],\n",
              "       [0.31338011],\n",
              "       [0.48730944],\n",
              "       [0.55352142],\n",
              "       [0.63399262],\n",
              "       [0.41795296],\n",
              "       [0.39544824],\n",
              "       [0.40771621],\n",
              "       [0.45521229],\n",
              "       [0.81533714],\n",
              "       [0.04981603],\n",
              "       [0.43026944],\n",
              "       [0.61562087],\n",
              "       [0.6268025 ],\n",
              "       [0.60728039],\n",
              "       [0.41838955],\n",
              "       [0.54964825],\n",
              "       [0.71104101],\n",
              "       [0.37903726],\n",
              "       [0.45118709],\n",
              "       [0.60183344],\n",
              "       [0.62002621],\n",
              "       [0.33560612],\n",
              "       [0.28757249],\n",
              "       [0.6825565 ],\n",
              "       [0.58368485],\n",
              "       [0.45880771],\n",
              "       [0.52693631],\n",
              "       [0.54380447],\n",
              "       [0.8715253 ],\n",
              "       [0.65554063],\n",
              "       [0.63167261],\n",
              "       [0.4352791 ],\n",
              "       [0.50332973],\n",
              "       [0.5343264 ],\n",
              "       [0.27381426],\n",
              "       [0.41053523],\n",
              "       [0.47531745],\n",
              "       [0.2911385 ],\n",
              "       [0.76110147],\n",
              "       [0.76406707],\n",
              "       [0.46931782],\n",
              "       [0.49948317],\n",
              "       [0.81820046],\n",
              "       [0.18438195],\n",
              "       [0.43693203],\n",
              "       [0.66298048],\n",
              "       [0.56960734],\n",
              "       [0.47179899],\n",
              "       [0.39556023],\n",
              "       [0.60375334],\n",
              "       [0.37628608],\n",
              "       [0.43511174],\n",
              "       [0.37719946],\n",
              "       [0.47698891],\n",
              "       [1.        ],\n",
              "       [0.72573208],\n",
              "       [0.71491172],\n",
              "       [0.43107389],\n",
              "       [0.69917902],\n",
              "       [0.61949147],\n",
              "       [0.58685749],\n",
              "       [0.71302854],\n",
              "       [0.19197549],\n",
              "       [0.4526464 ],\n",
              "       [0.62671101],\n",
              "       [0.38794277],\n",
              "       [0.48597146],\n",
              "       [0.3119255 ],\n",
              "       [0.3172683 ],\n",
              "       [0.31103807],\n",
              "       [0.51220225],\n",
              "       [0.22891454],\n",
              "       [0.43505067],\n",
              "       [0.60902435],\n",
              "       [0.43537481],\n",
              "       [0.51912329],\n",
              "       [0.30740999],\n",
              "       [0.42849005],\n",
              "       [0.36167369],\n",
              "       [0.20447774],\n",
              "       [0.27793926],\n",
              "       [0.70558126],\n",
              "       [0.58012487],\n",
              "       [0.3754806 ],\n",
              "       [0.52673735],\n",
              "       [0.32804493],\n",
              "       [0.56449711],\n",
              "       [0.56829414],\n",
              "       [0.45672673],\n",
              "       [0.21439436],\n",
              "       [0.49893066],\n",
              "       [0.72380375],\n",
              "       [0.47597174],\n",
              "       [0.53430602],\n",
              "       [0.69953618],\n",
              "       [0.40905353],\n",
              "       [0.42634618],\n",
              "       [0.64234067],\n",
              "       [0.4237175 ],\n",
              "       [0.54907212],\n",
              "       [0.5222931 ],\n",
              "       [0.30935321],\n",
              "       [0.37643596],\n",
              "       [0.56429808],\n",
              "       [0.56275857],\n",
              "       [0.39694511],\n",
              "       [0.53113416],\n",
              "       [0.61816285],\n",
              "       [0.29231919],\n",
              "       [0.73184274],\n",
              "       [0.4362737 ],\n",
              "       [0.41613807],\n",
              "       [0.67273869],\n",
              "       [0.76168793],\n",
              "       [0.65775822],\n",
              "       [0.3854533 ],\n",
              "       [0.61236387],\n",
              "       [0.58164331],\n",
              "       [0.39802597],\n",
              "       [0.54529522],\n",
              "       [0.28930803],\n",
              "       [0.72629843],\n",
              "       [0.38204913],\n",
              "       [0.68033622],\n",
              "       [0.60453629],\n",
              "       [0.37815253],\n",
              "       [0.47470876],\n",
              "       [0.65035196],\n",
              "       [0.24788603],\n",
              "       [0.63371047],\n",
              "       [0.54888405],\n",
              "       [0.48791067],\n",
              "       [0.46027877],\n",
              "       [0.76253593],\n",
              "       [0.30644588],\n",
              "       [0.79707352],\n",
              "       [0.40664378],\n",
              "       [0.47773971],\n",
              "       [0.19154167],\n",
              "       [0.86759109],\n",
              "       [0.48228989],\n",
              "       [0.41040247],\n",
              "       [0.30168732],\n",
              "       [0.77280198],\n",
              "       [0.50863303],\n",
              "       [0.49805458],\n",
              "       [0.14824364],\n",
              "       [0.57734658],\n",
              "       [0.7427002 ],\n",
              "       [0.4615406 ],\n",
              "       [0.52679628],\n",
              "       [0.39967091],\n",
              "       [0.34882593],\n",
              "       [0.3051776 ],\n",
              "       [0.60642838],\n",
              "       [0.30614901],\n",
              "       [0.4287247 ],\n",
              "       [0.41091372],\n",
              "       [0.44492764],\n",
              "       [0.74688327],\n",
              "       [0.5558489 ],\n",
              "       [0.43795845],\n",
              "       [0.571387  ],\n",
              "       [0.31561446],\n",
              "       [0.54534475],\n",
              "       [0.37724541],\n",
              "       [0.47754279],\n",
              "       [0.55657526],\n",
              "       [0.51540401],\n",
              "       [0.32481193],\n",
              "       [0.32687852],\n",
              "       [0.37288737],\n",
              "       [0.28900791],\n",
              "       [0.6538108 ],\n",
              "       [0.46675557],\n",
              "       [0.58506904],\n",
              "       [0.36510463],\n",
              "       [0.49152498],\n",
              "       [0.42443705],\n",
              "       [0.45278122],\n",
              "       [0.21316327],\n",
              "       [0.4747199 ],\n",
              "       [0.42114943],\n",
              "       [0.27669569],\n",
              "       [0.60775236],\n",
              "       [0.81194719],\n",
              "       [0.47759537],\n",
              "       [0.56687473],\n",
              "       [0.25779114],\n",
              "       [0.54746234],\n",
              "       [0.71808681],\n",
              "       [0.51086565],\n",
              "       [0.        ],\n",
              "       [0.52129727],\n",
              "       [0.33756622],\n",
              "       [0.56035434],\n",
              "       [0.51865585],\n",
              "       [0.43805795],\n",
              "       [0.3726359 ],\n",
              "       [0.2895323 ],\n",
              "       [0.41187412],\n",
              "       [0.499023  ],\n",
              "       [0.59220313],\n",
              "       [0.61366712],\n",
              "       [0.73808769],\n",
              "       [0.27413582],\n",
              "       [0.26177748],\n",
              "       [0.54900684],\n",
              "       [0.26992761],\n",
              "       [0.85449963],\n",
              "       [0.55003734],\n",
              "       [0.39949626],\n",
              "       [0.50001154],\n",
              "       [0.36815842],\n",
              "       [0.6502447 ],\n",
              "       [0.55469987],\n",
              "       [0.37779655],\n",
              "       [0.38757338],\n",
              "       [0.62128001],\n",
              "       [0.62041473],\n",
              "       [0.17564949],\n",
              "       [0.50726309],\n",
              "       [0.65320953],\n",
              "       [0.6691568 ],\n",
              "       [0.54146119],\n",
              "       [0.45760058],\n",
              "       [0.33173992],\n",
              "       [0.46457217],\n",
              "       [0.7118085 ],\n",
              "       [0.4556686 ],\n",
              "       [0.61669253],\n",
              "       [0.71996731],\n",
              "       [0.54592485],\n",
              "       [0.77729956],\n",
              "       [0.56199216],\n",
              "       [0.31678049],\n",
              "       [0.77672238],\n",
              "       [0.51326977],\n",
              "       [0.50855247]])"
            ]
          },
          "metadata": {},
          "execution_count": 25
        }
      ]
    },
    {
      "cell_type": "markdown",
      "metadata": {
        "id": "tdIyXRRWRtMx"
      },
      "source": [
        "# STEP#4: TRAINING THE MODEL"
      ]
    },
    {
      "cell_type": "markdown",
      "metadata": {
        "id": "rJrL9OePX2QV"
      },
      "source": [
        "### 트레이닝셋과 테스트셋으로 분리하시오. (테스트 사이즈는 25%로 하며, 동일 결과를 위해 랜덤스테이트는 50 으로 셋팅하시오.)"
      ]
    },
    {
      "cell_type": "code",
      "metadata": {
        "id": "EeRpttvUGSn9"
      },
      "source": [
        "from sklearn.model_selection import train_test_split"
      ],
      "execution_count": 26,
      "outputs": []
    },
    {
      "cell_type": "code",
      "metadata": {
        "id": "yTiMT84WGSg7"
      },
      "source": [
        "X_train, X_test, y_train, y_test = train_test_split(X_scaled, y_scaled, test_size=0.2, random_state=11)"
      ],
      "execution_count": 27,
      "outputs": []
    },
    {
      "cell_type": "code",
      "source": [
        ""
      ],
      "metadata": {
        "id": "9rCmdw0aNKvU"
      },
      "execution_count": null,
      "outputs": []
    },
    {
      "cell_type": "markdown",
      "metadata": {
        "id": "CV0PTX7_Yo_-"
      },
      "source": [
        "### 아래 라이브러리를 임포트 하시오"
      ]
    },
    {
      "cell_type": "code",
      "metadata": {
        "id": "QyL8e6JtYkvT"
      },
      "source": [
        "import tensorflow.keras\n",
        "from keras.models import Sequential\n",
        "from keras.layers import Dense\n",
        "from sklearn.preprocessing import MinMaxScaler"
      ],
      "execution_count": 28,
      "outputs": []
    },
    {
      "cell_type": "markdown",
      "metadata": {
        "id": "SJnGmrdTYMTX"
      },
      "source": [
        "### 딥러닝을 이용한 모델링을 하시오."
      ]
    },
    {
      "cell_type": "code",
      "source": [
        "X_train.shape"
      ],
      "metadata": {
        "colab": {
          "base_uri": "https://localhost:8080/"
        },
        "id": "FYZhV0ciN29i",
        "outputId": "b6f9a46f-f06a-4342-cc9c-f539584d7462"
      },
      "execution_count": 29,
      "outputs": [
        {
          "output_type": "execute_result",
          "data": {
            "text/plain": [
              "(400, 5)"
            ]
          },
          "metadata": {},
          "execution_count": 29
        }
      ]
    },
    {
      "cell_type": "code",
      "metadata": {
        "id": "euGsWXokGZ1O"
      },
      "source": [
        "def build_model() :\n",
        "  model = Sequential()\n",
        "  model.add(Dense(units= 5, activation='relu', input_shape=(5, )))\n",
        "  model.add(Dense(units= 25, activation='relu'))\n",
        "  model.add(Dense(units=10, activation='relu'))\n",
        "  model.add(Dense(units=1, activation='linear'))\n",
        "  model.compile('adam', 'mse')"
      ],
      "execution_count": null,
      "outputs": []
    },
    {
      "cell_type": "code",
      "metadata": {
        "id": "Y9XKxOl1GZpc"
      },
      "source": [
        ""
      ],
      "execution_count": null,
      "outputs": []
    },
    {
      "cell_type": "markdown",
      "metadata": {
        "id": "THd6-J7RYzOq"
      },
      "source": [
        "### 옵티마이저는 'adam' 으로 하고, 로스펑션은 'mean_squared_error' 로 셋팅하여 컴파일 하시오"
      ]
    },
    {
      "cell_type": "code",
      "metadata": {
        "id": "y3fMGttkGam-"
      },
      "source": [
        ""
      ],
      "execution_count": null,
      "outputs": []
    },
    {
      "cell_type": "code",
      "metadata": {
        "id": "qa2UC8TfGaeX"
      },
      "source": [
        ""
      ],
      "execution_count": null,
      "outputs": []
    },
    {
      "cell_type": "markdown",
      "metadata": {
        "id": "1M-Yb_mHY-Zw"
      },
      "source": [
        "### 학습을 진행하시오."
      ]
    },
    {
      "cell_type": "code",
      "metadata": {
        "id": "Z1V1-Qo3GbvO"
      },
      "source": [
        ""
      ],
      "execution_count": null,
      "outputs": []
    },
    {
      "cell_type": "code",
      "metadata": {
        "id": "jvXuJ-khGbl5"
      },
      "source": [
        ""
      ],
      "execution_count": null,
      "outputs": []
    },
    {
      "cell_type": "markdown",
      "metadata": {
        "id": "9LoAz60hRtMy"
      },
      "source": [
        "# STEP#5: EVALUATING THE MODEL "
      ]
    },
    {
      "cell_type": "code",
      "metadata": {
        "id": "hn3P1uTuGg6D"
      },
      "source": [
        ""
      ],
      "execution_count": null,
      "outputs": []
    },
    {
      "cell_type": "code",
      "metadata": {
        "id": "0_kjcAR6GgWu"
      },
      "source": [
        ""
      ],
      "execution_count": null,
      "outputs": []
    },
    {
      "cell_type": "code",
      "metadata": {
        "id": "OndM-zcuGgKl"
      },
      "source": [
        ""
      ],
      "execution_count": null,
      "outputs": []
    },
    {
      "cell_type": "markdown",
      "metadata": {
        "id": "v5Nz9chyZfgC"
      },
      "source": [
        "### 테스트셋으로 예측을 해 보시오."
      ]
    },
    {
      "cell_type": "code",
      "metadata": {
        "id": "6PLVpHxoGh9N"
      },
      "source": [
        ""
      ],
      "execution_count": null,
      "outputs": []
    },
    {
      "cell_type": "code",
      "metadata": {
        "id": "wlmn8d3jGh1z"
      },
      "source": [
        ""
      ],
      "execution_count": null,
      "outputs": []
    },
    {
      "cell_type": "markdown",
      "metadata": {
        "id": "ajTZIActwmXl"
      },
      "source": [
        "### 실제값과 예측값을 plot 으로 나타내시오."
      ]
    },
    {
      "cell_type": "code",
      "metadata": {
        "id": "WQQlDXtRGi6z"
      },
      "source": [
        ""
      ],
      "execution_count": null,
      "outputs": []
    },
    {
      "cell_type": "code",
      "metadata": {
        "id": "LxBLMUixGiyH"
      },
      "source": [
        ""
      ],
      "execution_count": null,
      "outputs": []
    },
    {
      "cell_type": "markdown",
      "metadata": {
        "id": "jO7KgSTT4UFV"
      },
      "source": [
        "### MSE 를 계산하시오."
      ]
    },
    {
      "cell_type": "code",
      "metadata": {
        "id": "FC5U-R7_GlW0"
      },
      "source": [
        ""
      ],
      "execution_count": null,
      "outputs": []
    },
    {
      "cell_type": "code",
      "metadata": {
        "id": "Uu-uRLK1GlQf"
      },
      "source": [
        ""
      ],
      "execution_count": null,
      "outputs": []
    },
    {
      "cell_type": "markdown",
      "metadata": {
        "id": "dBvga-cMZop5"
      },
      "source": [
        "### 새로운 고객 데이터가 있습니다. 이 사람은 차량을 얼마정도 구매 가능한지 예측하시오.\n",
        "\n",
        "### 여자이고, 나이는 38, 연봉은 90000,  카드빚은 2000, 순자산은 500000 일때, 어느정도의 차량을 구매할 수 있을지 예측하시오."
      ]
    },
    {
      "cell_type": "code",
      "metadata": {
        "id": "7zNqna2jyxSE"
      },
      "source": [
        ""
      ],
      "execution_count": null,
      "outputs": []
    },
    {
      "cell_type": "code",
      "metadata": {
        "id": "BACq6hFAGsed"
      },
      "source": [
        ""
      ],
      "execution_count": null,
      "outputs": []
    },
    {
      "cell_type": "code",
      "metadata": {
        "id": "1vWoE_Ntys_9"
      },
      "source": [
        ""
      ],
      "execution_count": null,
      "outputs": []
    }
  ]
}