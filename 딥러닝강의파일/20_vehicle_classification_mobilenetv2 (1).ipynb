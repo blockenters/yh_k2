{
  "nbformat": 4,
  "nbformat_minor": 0,
  "metadata": {
    "accelerator": "GPU",
    "colab": {
      "name": "20_vehicle_classification_mobilenetv2.ipynb",
      "provenance": [],
      "collapsed_sections": [],
      "machine_shape": "hm"
    },
    "kernelspec": {
      "display_name": "Python 3",
      "language": "python",
      "name": "python3"
    },
    "language_info": {
      "codemirror_mode": {
        "name": "ipython",
        "version": 3
      },
      "file_extension": ".py",
      "mimetype": "text/x-python",
      "name": "python",
      "nbconvert_exporter": "python",
      "pygments_lexer": "ipython3",
      "version": "3.7.7"
    }
  },
  "cells": [
    {
      "cell_type": "markdown",
      "metadata": {
        "id": "FTs4p-7w_h5A"
      },
      "source": [
        "# **The Vehicle Type Classification Project**\n",
        "\n"
      ]
    },
    {
      "cell_type": "markdown",
      "metadata": {
        "id": "GulSne0-q61L"
      },
      "source": [
        "# Summary\n",
        "\n",
        "\n",
        "- **Use Case:** Vehicle Type\n",
        "- **Algorithm:** MobileNetV2\n",
        "- **Number of training images:** 603\n",
        "- **Number of classes:** 7\n",
        "- **Batch Size:** 64\n",
        "- **Optimizer:** Adam \n",
        "- **Learning Rate:** 0.0001\n",
        "- **Loss Type:**CategoricalCrossentropy\n",
        "- **Transfer Learning:** Yes | Imagenet\n",
        "\n"
      ]
    },
    {
      "cell_type": "markdown",
      "metadata": {
        "id": "EOw4YADAAvGg"
      },
      "source": [
        " ## Labels\n",
        " \n",
        " 0: 'car-bus-alltypes',\n",
        "\n",
        " 1: 'car-sedan-alltypes',\n",
        " \n",
        " 2: 'car-suv-alltypes',\n",
        " \n",
        " 3: 'motocycle-bicycle-kids',\n",
        " \n",
        " 4: 'motocycle-bicycle-racing',\n",
        " \n",
        " 5: 'motocycle-motorbike-chopper',\n",
        " \n",
        " 6: 'motocycle-motorbike-sport'"
      ]
    },
    {
      "cell_type": "markdown",
      "metadata": {
        "id": "1BCXp3uGq7CX"
      },
      "source": [
        "## Import Library"
      ]
    },
    {
      "cell_type": "code",
      "metadata": {
        "id": "EW3iqcXRROSV"
      },
      "source": [
        "# import the necessary packages\n",
        "from tensorflow.keras.preprocessing.image import ImageDataGenerator\n",
        "from tensorflow.keras.layers import AveragePooling2D, GlobalAveragePooling2D, BatchNormalization\n",
        "#from tensorflow.keras.applications import ResNet50\n",
        "#from tensorflow.keras.applications import Xception\n",
        "from tensorflow.keras.applications import MobileNetV2\n",
        "from tensorflow.keras.layers import AveragePooling2D\n",
        "from tensorflow.keras.layers import Dropout\n",
        "from tensorflow.keras.layers import Flatten\n",
        "from tensorflow.keras.layers import Dense\n",
        "from tensorflow.keras.layers import Input\n",
        "from tensorflow.keras.models import Model\n",
        "from tensorflow.keras.optimizers import Adam\n",
        "from tensorflow.keras.optimizers import SGD\n",
        "from tensorflow.keras.utils import to_categorical\n",
        "from sklearn.preprocessing import LabelBinarizer\n",
        "from sklearn.model_selection import train_test_split\n",
        "from sklearn.metrics import classification_report\n",
        "from sklearn.metrics import confusion_matrix\n",
        "from imutils import paths\n",
        "import matplotlib.pyplot as plt\n",
        "import numpy as np\n",
        "import argparse\n",
        "import cv2\n",
        "import os\n",
        "import sys\n",
        "import tensorflow as tf\n",
        "import h5py\n",
        "import numpy as np\n",
        "import sys"
      ],
      "execution_count": 1,
      "outputs": []
    },
    {
      "cell_type": "code",
      "metadata": {
        "id": "YXw5D5GD8cH3",
        "colab": {
          "base_uri": "https://localhost:8080/"
        },
        "outputId": "a9586620-dfad-4481-f81f-233bb8695403"
      },
      "source": [
        "print(tf.__version__)"
      ],
      "execution_count": 2,
      "outputs": [
        {
          "output_type": "stream",
          "name": "stdout",
          "text": [
            "2.8.2\n"
          ]
        }
      ]
    },
    {
      "cell_type": "markdown",
      "metadata": {
        "id": "5afG8zRfAQOo"
      },
      "source": [
        "## 구글드라이브 마운트 하기"
      ]
    },
    {
      "cell_type": "code",
      "metadata": {
        "id": "bmqjaLybzrzo",
        "colab": {
          "base_uri": "https://localhost:8080/"
        },
        "outputId": "c3497f3e-06a3-436b-b0ab-c7f2e46840c4"
      },
      "source": [
        "from google.colab import drive\n",
        "drive.mount('/content/drive')"
      ],
      "execution_count": 3,
      "outputs": [
        {
          "output_type": "stream",
          "name": "stdout",
          "text": [
            "Mounted at /content/drive\n"
          ]
        }
      ]
    },
    {
      "cell_type": "code",
      "source": [
        "# 워킹 디렉토리 경로 셋팅\n",
        "os.chdir('')"
      ],
      "metadata": {
        "id": "ZtxUlYI5_1su"
      },
      "execution_count": 4,
      "outputs": []
    },
    {
      "cell_type": "code",
      "source": [
        ""
      ],
      "metadata": {
        "id": "jcXfMTkc_6Yd"
      },
      "execution_count": null,
      "outputs": []
    },
    {
      "cell_type": "code",
      "metadata": {
        "id": "mdHf4iuFCavo",
        "colab": {
          "base_uri": "https://localhost:8080/"
        },
        "outputId": "30d630af-1ae3-42b5-d6e4-4b1be05fe1f7"
      },
      "source": [
        "# 데이터 파일 다운로드\n",
        "\n",
        "!wget --no-check-certificate \\\n",
        " https://block-yh-test1.s3.amazonaws.com/38_%E1%84%89%E1%85%B5%E1%86%AF%E1%84%89%E1%85%B3%E1%86%B8%E1%84%91%E1%85%A1%E1%84%8B%E1%85%B5%E1%86%AF.zip \\\n",
        "  -O ./data.zip"
      ],
      "execution_count": 6,
      "outputs": [
        {
          "output_type": "stream",
          "name": "stdout",
          "text": [
            "--2022-06-16 05:34:22--  https://block-yh-test1.s3.amazonaws.com/38_%E1%84%89%E1%85%B5%E1%86%AF%E1%84%89%E1%85%B3%E1%86%B8%E1%84%91%E1%85%A1%E1%84%8B%E1%85%B5%E1%86%AF.zip\n",
            "Resolving block-yh-test1.s3.amazonaws.com (block-yh-test1.s3.amazonaws.com)... 52.216.35.249\n",
            "Connecting to block-yh-test1.s3.amazonaws.com (block-yh-test1.s3.amazonaws.com)|52.216.35.249|:443... connected.\n",
            "HTTP request sent, awaiting response... 200 OK\n",
            "Length: 326052257 (311M) [application/zip]\n",
            "Saving to: ‘./data.zip’\n",
            "\n",
            "./data.zip          100%[===================>] 310.95M  63.8MB/s    in 4.9s    \n",
            "\n",
            "2022-06-16 05:34:27 (63.6 MB/s) - ‘./data.zip’ saved [326052257/326052257]\n",
            "\n"
          ]
        }
      ]
    },
    {
      "cell_type": "code",
      "metadata": {
        "id": "ARf9qY51Caka"
      },
      "source": [
        ""
      ],
      "execution_count": null,
      "outputs": []
    },
    {
      "cell_type": "code",
      "source": [
        ""
      ],
      "metadata": {
        "id": "go5qvPi6AiZU"
      },
      "execution_count": null,
      "outputs": []
    },
    {
      "cell_type": "code",
      "source": [
        ""
      ],
      "metadata": {
        "id": "O2xu6eDeAiTt"
      },
      "execution_count": null,
      "outputs": []
    },
    {
      "cell_type": "markdown",
      "metadata": {
        "id": "vEbHwn85CbS7"
      },
      "source": [
        "## 경로 셋팅"
      ]
    },
    {
      "cell_type": "code",
      "metadata": {
        "id": "UyxCJZAtaYUB"
      },
      "source": [
        "TYPE='type'\n",
        "model_type='mobilenetv2'\n",
        "user='block'\n",
        "iteration='1-2'\n",
        "\n",
        "first_time_training=True\n",
        "\n",
        "PROJECT_PATH= # 여러분들 이 노트북의 구글드라이브 경로로 셋팅\n",
        "\n",
        "HDF5_DATASET_PATH=PROJECT_PATH+'/vehicle_datasets/vehicle-type-dataset-SIZE224-train-dev-test-v2.hdf5'\n",
        "\n",
        "TARGET_CLASSIFICATION_MODEL=PROJECT_PATH+'/trained-models/'+model_type+'/'+'vehicle-classification-by-'+TYPE+'-'+model_type+'-'+user+'-'+iteration+'.h5'\n",
        "\n",
        "CHECKPOINT_PATH = PROJECT_PATH+'/checkpoints/'+model_type+'/'+'by-'+TYPE+'-'+model_type+'-'+user+'-'+iteration+'.h5'\n",
        "\n",
        "LOGFILE_PATH=PROJECT_PATH+'/log/'+model_type+'/'+model_type+'-by-'+TYPE+'-training-log'+user+'-'+iteration+'.csv'\n"
      ],
      "execution_count": null,
      "outputs": []
    },
    {
      "cell_type": "code",
      "metadata": {
        "id": "pW3UM1dFTrDj"
      },
      "source": [
        "print('PROJECT_PATH: ',PROJECT_PATH)\n",
        "print('HDF5_DATASET_PATH: ', HDF5_DATASET_PATH)\n",
        "print('TARGET_CLASSIFICATION_MODEL: ',TARGET_CLASSIFICATION_MODEL)\n",
        "print('CHECKPOINT_PATH: ',CHECKPOINT_PATH)\n",
        "print('LOGFILE_PATH: ',LOGFILE_PATH)"
      ],
      "execution_count": null,
      "outputs": []
    },
    {
      "cell_type": "code",
      "metadata": {
        "id": "7C4gDYQskGLG"
      },
      "source": [
        "\n",
        "sys.path.append(PROJECT_PATH)\n"
      ],
      "execution_count": null,
      "outputs": []
    },
    {
      "cell_type": "markdown",
      "metadata": {
        "id": "cuA-vehiW0Lf"
      },
      "source": [
        "# **Load the Dataset**"
      ]
    },
    {
      "cell_type": "code",
      "metadata": {
        "id": "iSCoPyAJC1wu"
      },
      "source": [
        ""
      ],
      "execution_count": null,
      "outputs": []
    },
    {
      "cell_type": "code",
      "metadata": {
        "id": "yCOCvDQliI5v"
      },
      "source": [
        "def load_dataset_from_hdf5_file(hdf_file_path):\n",
        "  # 함수 만들기\n",
        "  hf = h5py.File(hdf_file_path, 'r')\n",
        "\n",
        "  X_train = np.array(hf['trainX'])\n",
        "  y_train = np.array(hf['trainY'])\n",
        "  train_label = np.array(hf['trainLabels'])\n",
        "\n",
        "  X_test = np.array(hf['testX'])\n",
        "  y_test = np.array(hf['testY'])\n",
        "  test_label = np.array(hf['testLabels'])\n",
        "\n",
        "  X_val = np.array(hf['devX'])\n",
        "  y_val = np.array(hf['devY'])\n",
        "  val_label = np.array(hf['devLabels'])\n",
        "\n",
        "  return X_train, y_train, train_label, X_test, y_test, test_label, X_val, y_val, val_label\n",
        "  "
      ],
      "execution_count": null,
      "outputs": []
    },
    {
      "cell_type": "code",
      "metadata": {
        "id": "C9vcFQA2Dqbi"
      },
      "source": [
        "X_train, y_train, train_label, X_test, y_test, test_label, X_val, y_val, val_label=load_dataset_from_hdf5_file(HDF5_DATASET_PATH)"
      ],
      "execution_count": null,
      "outputs": []
    },
    {
      "cell_type": "code",
      "metadata": {
        "id": "rguVddIcC3AH"
      },
      "source": [
        ""
      ],
      "execution_count": null,
      "outputs": []
    },
    {
      "cell_type": "code",
      "metadata": {
        "id": "8OJur3pcC29r"
      },
      "source": [
        ""
      ],
      "execution_count": null,
      "outputs": []
    },
    {
      "cell_type": "code",
      "metadata": {
        "id": "NcQQiaIyC26D"
      },
      "source": [
        ""
      ],
      "execution_count": null,
      "outputs": []
    },
    {
      "cell_type": "code",
      "metadata": {
        "id": "CdS7DDZMC23l"
      },
      "source": [
        ""
      ],
      "execution_count": null,
      "outputs": []
    },
    {
      "cell_type": "code",
      "metadata": {
        "id": "_5gIvSsOC20k"
      },
      "source": [
        ""
      ],
      "execution_count": null,
      "outputs": []
    },
    {
      "cell_type": "code",
      "metadata": {
        "id": "IOYGekj-C2w9"
      },
      "source": [
        ""
      ],
      "execution_count": null,
      "outputs": []
    },
    {
      "cell_type": "code",
      "metadata": {
        "id": "Uh92ZjhHC2t8"
      },
      "source": [
        ""
      ],
      "execution_count": null,
      "outputs": []
    },
    {
      "cell_type": "markdown",
      "metadata": {
        "id": "hNVeLhVkW7BT"
      },
      "source": [
        "# 사진이미지 확인해 보기"
      ]
    },
    {
      "cell_type": "code",
      "metadata": {
        "id": "YIA55wubC5ki"
      },
      "source": [
        ""
      ],
      "execution_count": null,
      "outputs": []
    },
    {
      "cell_type": "code",
      "metadata": {
        "id": "UDpcSGY1C5hE"
      },
      "source": [
        ""
      ],
      "execution_count": null,
      "outputs": []
    },
    {
      "cell_type": "code",
      "metadata": {
        "id": "tEann7vEC5eQ"
      },
      "source": [
        ""
      ],
      "execution_count": null,
      "outputs": []
    },
    {
      "cell_type": "code",
      "metadata": {
        "id": "yrmZgqvHC5bQ"
      },
      "source": [
        ""
      ],
      "execution_count": null,
      "outputs": []
    },
    {
      "cell_type": "code",
      "metadata": {
        "id": "9DbZrzIAC5YL"
      },
      "source": [
        ""
      ],
      "execution_count": null,
      "outputs": []
    },
    {
      "cell_type": "code",
      "metadata": {
        "id": "30V5zI2aC5T4"
      },
      "source": [
        ""
      ],
      "execution_count": null,
      "outputs": []
    },
    {
      "cell_type": "code",
      "metadata": {
        "id": "utUCQapGC5QD"
      },
      "source": [
        ""
      ],
      "execution_count": null,
      "outputs": []
    },
    {
      "cell_type": "code",
      "metadata": {
        "id": "jb3i_IBmC5Mr"
      },
      "source": [
        ""
      ],
      "execution_count": null,
      "outputs": []
    },
    {
      "cell_type": "markdown",
      "metadata": {
        "id": "aMOODjGBmjdS"
      },
      "source": [
        "# 모델링하기 : 트랜스퍼 러닝 적용\n",
        "\n",
        "# Data Augmentation"
      ]
    },
    {
      "cell_type": "code",
      "metadata": {
        "id": "s_0yDIb8DEHM"
      },
      "source": [
        ""
      ],
      "execution_count": null,
      "outputs": []
    },
    {
      "cell_type": "code",
      "metadata": {
        "id": "scRA83ixDEA2"
      },
      "source": [
        ""
      ],
      "execution_count": null,
      "outputs": []
    },
    {
      "cell_type": "code",
      "metadata": {
        "id": "TQLJW0nFDD-A"
      },
      "source": [
        ""
      ],
      "execution_count": null,
      "outputs": []
    },
    {
      "cell_type": "code",
      "metadata": {
        "id": "oBk371fEDD7q"
      },
      "source": [
        ""
      ],
      "execution_count": null,
      "outputs": []
    },
    {
      "cell_type": "code",
      "metadata": {
        "id": "_Z3phVTmDD4Q"
      },
      "source": [
        ""
      ],
      "execution_count": null,
      "outputs": []
    },
    {
      "cell_type": "code",
      "metadata": {
        "id": "Q5oWf6sLDD1P"
      },
      "source": [
        ""
      ],
      "execution_count": null,
      "outputs": []
    },
    {
      "cell_type": "code",
      "metadata": {
        "id": "u80VMCnWDDyA"
      },
      "source": [
        ""
      ],
      "execution_count": null,
      "outputs": []
    },
    {
      "cell_type": "code",
      "metadata": {
        "id": "CYA25_xjDDuo"
      },
      "source": [
        ""
      ],
      "execution_count": null,
      "outputs": []
    },
    {
      "cell_type": "markdown",
      "metadata": {
        "id": "Jlc2mz-3DJyY"
      },
      "source": [
        "###  콜백 만들기 : 가장 좋은 모델을 자동 저장하도록 함. 로그도 저장하도록 함."
      ]
    },
    {
      "cell_type": "code",
      "metadata": {
        "id": "qQttyBe5DV4k"
      },
      "source": [
        ""
      ],
      "execution_count": null,
      "outputs": []
    },
    {
      "cell_type": "code",
      "metadata": {
        "id": "rp9walpNDVvS"
      },
      "source": [
        ""
      ],
      "execution_count": null,
      "outputs": []
    },
    {
      "cell_type": "code",
      "metadata": {
        "id": "Kl0DG1gBDVq6"
      },
      "source": [
        ""
      ],
      "execution_count": null,
      "outputs": []
    },
    {
      "cell_type": "markdown",
      "metadata": {
        "id": "85JqdN5lDWbq"
      },
      "source": [
        "## 컴파일과 학습 : 에포크는 50"
      ]
    },
    {
      "cell_type": "code",
      "metadata": {
        "id": "UDW_iGy2DWJr"
      },
      "source": [
        ""
      ],
      "execution_count": null,
      "outputs": []
    },
    {
      "cell_type": "code",
      "metadata": {
        "id": "I3hIC6NRDbyd"
      },
      "source": [
        ""
      ],
      "execution_count": null,
      "outputs": []
    },
    {
      "cell_type": "code",
      "metadata": {
        "id": "zrTNc7wbDbu9"
      },
      "source": [
        ""
      ],
      "execution_count": null,
      "outputs": []
    },
    {
      "cell_type": "code",
      "metadata": {
        "id": "pWOcYNlADbrQ"
      },
      "source": [
        ""
      ],
      "execution_count": null,
      "outputs": []
    },
    {
      "cell_type": "code",
      "metadata": {
        "id": "D5mEs8zODboJ"
      },
      "source": [
        ""
      ],
      "execution_count": null,
      "outputs": []
    },
    {
      "cell_type": "markdown",
      "metadata": {
        "id": "P3TZWy8uek85"
      },
      "source": [
        "# 트레이닝 및 밸리데이션의 정확도와 로스를 차트로 보기"
      ]
    },
    {
      "cell_type": "code",
      "metadata": {
        "id": "VcFZU70xDkqv"
      },
      "source": [
        ""
      ],
      "execution_count": null,
      "outputs": []
    },
    {
      "cell_type": "code",
      "metadata": {
        "id": "sES0vifvDkoE"
      },
      "source": [
        ""
      ],
      "execution_count": null,
      "outputs": []
    },
    {
      "cell_type": "code",
      "metadata": {
        "id": "N5x5mxw7DkkT"
      },
      "source": [
        ""
      ],
      "execution_count": null,
      "outputs": []
    },
    {
      "cell_type": "code",
      "metadata": {
        "id": "-gdqTKxQDkhW"
      },
      "source": [
        ""
      ],
      "execution_count": null,
      "outputs": []
    },
    {
      "cell_type": "code",
      "metadata": {
        "id": "kljhfizN53xy"
      },
      "source": [
        ""
      ],
      "execution_count": null,
      "outputs": []
    },
    {
      "cell_type": "markdown",
      "metadata": {
        "id": "FyKM0fyL-HFf"
      },
      "source": [
        "# 모델 평가"
      ]
    },
    {
      "cell_type": "code",
      "metadata": {
        "id": "TxZRYNVtDvcW"
      },
      "source": [
        ""
      ],
      "execution_count": null,
      "outputs": []
    },
    {
      "cell_type": "code",
      "metadata": {
        "id": "Gr1ShFk7DvZe"
      },
      "source": [
        ""
      ],
      "execution_count": null,
      "outputs": []
    },
    {
      "cell_type": "code",
      "metadata": {
        "id": "GfJ5zfTVDvWb"
      },
      "source": [
        ""
      ],
      "execution_count": null,
      "outputs": []
    },
    {
      "cell_type": "code",
      "metadata": {
        "id": "OKXAHgAuDvTf"
      },
      "source": [
        ""
      ],
      "execution_count": null,
      "outputs": []
    },
    {
      "cell_type": "code",
      "metadata": {
        "id": "cMpJ9aXRDvQf"
      },
      "source": [
        ""
      ],
      "execution_count": null,
      "outputs": []
    },
    {
      "cell_type": "code",
      "metadata": {
        "id": "NPZqL2fzDvNl"
      },
      "source": [
        ""
      ],
      "execution_count": null,
      "outputs": []
    },
    {
      "cell_type": "code",
      "metadata": {
        "id": "vpvwXqt4DvKh"
      },
      "source": [
        ""
      ],
      "execution_count": null,
      "outputs": []
    },
    {
      "cell_type": "code",
      "metadata": {
        "id": "VtiX_pL1DvHW"
      },
      "source": [
        ""
      ],
      "execution_count": null,
      "outputs": []
    },
    {
      "cell_type": "code",
      "metadata": {
        "id": "ITb1ljdb-GYr"
      },
      "source": [
        ""
      ],
      "execution_count": null,
      "outputs": []
    }
  ]
}