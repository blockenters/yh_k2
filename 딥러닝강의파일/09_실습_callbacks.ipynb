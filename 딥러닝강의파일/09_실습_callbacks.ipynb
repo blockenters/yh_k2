{
  "cells": [
    {
      "cell_type": "markdown",
      "metadata": {
        "id": "tOoyQ70H00_s"
      },
      "source": [
        "## Exercise 2\n",
        "\n",
        "0~9까지의 숫자를 분류하는 MNIST classifier 를 만드세요. \n",
        "val_정확도가 98% 이상이 되면 멈추면 됩니다. \n",
        "\n",
        "Some notes:\n",
        "1. epochs 는 최대 10 까지 설정합니다. 10 이 넘가가도록 설정하지 마세요. \n",
        "2. val_정확도가 98% 보다 크면 \"Reached 98% accuracy so cancelling training!\" 라고 출력하세요.\n",
        "3. 필요한 변수가 있다면, 자유롭게 코딩하세요.\n"
      ]
    },
    {
      "cell_type": "code",
      "execution_count": 1,
      "metadata": {
        "id": "uzoWIAmu6agw"
      },
      "outputs": [],
      "source": [
        "import tensorflow as tf\n"
      ]
    },
    {
      "cell_type": "code",
      "execution_count": 2,
      "metadata": {
        "id": "9rvXQGAA0ssC"
      },
      "outputs": [],
      "source": [
        "# 함수로 작성.\n",
        "def train_mnist():\n",
        "    \n",
        "\n",
        "    # YOUR CODE SHOULD START HERE\n",
        "    class myCallback(tf.keras.callbacks.Callback) :\n",
        "      def on_epoch_end(self, epoch, logs={}) :\n",
        "        if logs.get('val_accuracy') >= 0.98 :\n",
        "          print('\\nReached 98% accuracy so cancelling training!')\n",
        "          self.model.stop_training = True\n",
        "    \n",
        "    my_callback = myCallback()\n",
        "    \n",
        "    # YOUR CODE SHOULD END HERE\n",
        "\n",
        "    mnist = tf.keras.datasets.mnist\n",
        "\n",
        "    (X_train, y_train),(X_test, y_test) = mnist.load_data()\n",
        "    # YOUR CODE SHOULD START HERE\n",
        "    X_train = X_train / 255.0\n",
        "    X_test = X_test / 255.0\n",
        "    # YOUR CODE SHOULD END HERE\n",
        "    model = tf.keras.models.Sequential([\n",
        "        # YOUR CODE SHOULD START HERE\n",
        "        tf.keras.layers.Flatten(),\n",
        "        tf.keras.layers.Dense(512, 'relu'),\n",
        "        tf.keras.layers.Dropout(0.2),        \n",
        "        tf.keras.layers.Dense(512, 'relu'),\n",
        "        tf.keras.layers.Dense(10, 'softmax')\n",
        "        # YOUR CODE SHOULD END HERE\n",
        "    ])\n",
        "\n",
        "    model.compile(optimizer='adam',\n",
        "                  loss='sparse_categorical_crossentropy',\n",
        "                  metrics=['accuracy'])\n",
        "    \n",
        "    # model fitting\n",
        "    history = model.fit(\n",
        "        # YOUR CODE SHOULD START HERE\n",
        "        X_train, y_train, epochs=10, validation_data=(X_test, y_test), callbacks=[my_callback]\n",
        "        # YOUR CODE SHOULD END HERE\n",
        "    )\n",
        "    # model fitting\n",
        "    return history.epoch, history.history['accuracy'][-1]"
      ]
    },
    {
      "cell_type": "code",
      "execution_count": null,
      "metadata": {
        "id": "5PtuAVE46agx",
        "scrolled": true,
        "colab": {
          "base_uri": "https://localhost:8080/"
        },
        "outputId": "3028b7bf-f450-46f6-e5f9-b3a2e6bd71ea"
      },
      "outputs": [
        {
          "output_type": "stream",
          "name": "stdout",
          "text": [
            "Downloading data from https://storage.googleapis.com/tensorflow/tf-keras-datasets/mnist.npz\n",
            "11493376/11490434 [==============================] - 0s 0us/step\n",
            "11501568/11490434 [==============================] - 0s 0us/step\n",
            "Epoch 1/10\n",
            "1875/1875 [==============================] - 21s 11ms/step - loss: 0.2068 - accuracy: 0.9365 - val_loss: 0.1055 - val_accuracy: 0.9659\n",
            "Epoch 2/10\n",
            " 120/1875 [>.............................] - ETA: 16s - loss: 0.0981 - accuracy: 0.9716"
          ]
        }
      ],
      "source": [
        "train_mnist()"
      ]
    },
    {
      "cell_type": "code",
      "execution_count": null,
      "metadata": {
        "id": "vfBBGjnO6ag0"
      },
      "outputs": [],
      "source": [
        ""
      ]
    }
  ],
  "metadata": {
    "colab": {
      "collapsed_sections": [],
      "name": "09_실습_callbacks.ipynb",
      "provenance": []
    },
    "coursera": {
      "course_slug": "introduction-tensorflow",
      "graded_item_id": "d6dew",
      "launcher_item_id": "FExZ4"
    },
    "kernelspec": {
      "display_name": "Python 3",
      "language": "python",
      "name": "python3"
    },
    "language_info": {
      "codemirror_mode": {
        "name": "ipython",
        "version": 3
      },
      "file_extension": ".py",
      "mimetype": "text/x-python",
      "name": "python",
      "nbconvert_exporter": "python",
      "pygments_lexer": "ipython3",
      "version": "3.8.3"
    }
  },
  "nbformat": 4,
  "nbformat_minor": 0
}