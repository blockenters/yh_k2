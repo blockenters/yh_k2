{
  "nbformat": 4,
  "nbformat_minor": 0,
  "metadata": {
    "accelerator": "GPU",
    "colab": {
      "name": "18 Project_CiFAR_10_Augmentation_Images_Classification_Using_CNNs.ipynb",
      "provenance": [],
      "collapsed_sections": []
    },
    "kernelspec": {
      "display_name": "Python 3",
      "language": "python",
      "name": "python3"
    },
    "language_info": {
      "codemirror_mode": {
        "name": "ipython",
        "version": 3
      },
      "file_extension": ".py",
      "mimetype": "text/x-python",
      "name": "python",
      "nbconvert_exporter": "python",
      "pygments_lexer": "ipython3",
      "version": "3.6.5"
    }
  },
  "cells": [
    {
      "cell_type": "markdown",
      "metadata": {
        "id": "TkHRnVTdzTEh"
      },
      "source": [
        "\n",
        "# CNN을 이용하여, CIFAR-10 이미지 분류하기\n"
      ]
    },
    {
      "cell_type": "markdown",
      "metadata": {
        "id": "xlAEEjWIzTEm"
      },
      "source": [
        "# STEP 0: 데이터셋 설명"
      ]
    },
    {
      "cell_type": "markdown",
      "metadata": {
        "id": "l8mfDu3bzTEm"
      },
      "source": [
        "- CIFAR-10 is a dataset that consists of several images divided into the following 10 classes: \n",
        "    - Airplanes\n",
        "    - Cars \n",
        "    - Birds\n",
        "    - Cats\n",
        "    - Deer\n",
        "    - Dogs\n",
        "    - Frogs\n",
        "    - Horses\n",
        "    - Ships\n",
        "    - Trucks\n",
        "\n",
        "- The dataset stands for the Canadian Institute For Advanced Research (CIFAR)\n",
        "- CIFAR-10 is widely used for machine learning and computer vision applications. \n",
        "- The dataset consists of 60,000 32x32 color images and 6,000 images of each class.\n",
        "- Images have low resolution (32x32). \n",
        "- Data Source: https://www.cs.toronto.edu/~kriz/cifar.html\n"
      ]
    },
    {
      "cell_type": "markdown",
      "metadata": {
        "id": "Hnwk5G2wzTEn"
      },
      "source": [
        "# STEP #1: 환결 설정 및 라이브러리 임포트"
      ]
    },
    {
      "cell_type": "markdown",
      "metadata": {
        "id": "e93yyb_8NTI9"
      },
      "source": [
        "### 구글 드라이브 연결하여, 워킹 디렉토리 설정\n",
        "\n",
        "[연결 방법 링크](https://vision-ai.tistory.com/entry/%EC%BD%94%EB%9E%A9%EC%97%90%EC%84%9C-%EB%93%9C%EB%9D%BC%EC%9D%B4%EB%B8%8C%EC%9D%98-csv-%ED%8C%8C%EC%9D%BC-%EC%9D%BD%EA%B8%B0)"
      ]
    },
    {
      "cell_type": "code",
      "metadata": {
        "id": "WQtLIDyHYkFF"
      },
      "source": [
        ""
      ],
      "execution_count": null,
      "outputs": []
    },
    {
      "cell_type": "code",
      "metadata": {
        "id": "o0LKErPgYjz3"
      },
      "source": [
        ""
      ],
      "execution_count": null,
      "outputs": []
    },
    {
      "cell_type": "markdown",
      "metadata": {
        "id": "iKjUkiysNpen"
      },
      "source": [
        "### 라이브러리 임포트 하고, 데이터 셋 가져오기  "
      ]
    },
    {
      "cell_type": "code",
      "metadata": {
        "id": "5ras8X4JzTEn"
      },
      "source": [
        "import pandas as pd\n",
        "import numpy as np\n",
        "import matplotlib.pyplot as plt\n",
        "import seaborn "
      ],
      "execution_count": 1,
      "outputs": []
    },
    {
      "cell_type": "code",
      "metadata": {
        "id": "5xKwx52KzTEo",
        "colab": {
          "base_uri": "https://localhost:8080/"
        },
        "outputId": "005182a5-2f5b-4661-8a30-de76636e72c3"
      },
      "source": [
        "from keras.datasets import cifar10\n",
        "(X_train, y_train) , (X_test, y_test) = cifar10.load_data()"
      ],
      "execution_count": 2,
      "outputs": [
        {
          "output_type": "stream",
          "name": "stdout",
          "text": [
            "Downloading data from https://www.cs.toronto.edu/~kriz/cifar-10-python.tar.gz\n",
            "170500096/170498071 [==============================] - 19s 0us/step\n",
            "170508288/170498071 [==============================] - 19s 0us/step\n"
          ]
        }
      ]
    },
    {
      "cell_type": "code",
      "metadata": {
        "id": "C2PetsIlYpsE",
        "colab": {
          "base_uri": "https://localhost:8080/"
        },
        "outputId": "e2183faf-57d8-4795-eae3-276ee9ab16d1"
      },
      "source": [
        "X_train.shape"
      ],
      "execution_count": 4,
      "outputs": [
        {
          "output_type": "execute_result",
          "data": {
            "text/plain": [
              "(50000, 32, 32, 3)"
            ]
          },
          "metadata": {},
          "execution_count": 4
        }
      ]
    },
    {
      "cell_type": "code",
      "metadata": {
        "id": "CdoX5kpeYppN",
        "colab": {
          "base_uri": "https://localhost:8080/"
        },
        "outputId": "17d5898f-8498-4d19-833c-ff0aad2b7f8e"
      },
      "source": [
        "X_test.shape"
      ],
      "execution_count": 5,
      "outputs": [
        {
          "output_type": "execute_result",
          "data": {
            "text/plain": [
              "(10000, 32, 32, 3)"
            ]
          },
          "metadata": {},
          "execution_count": 5
        }
      ]
    },
    {
      "cell_type": "code",
      "source": [
        "y_train"
      ],
      "metadata": {
        "colab": {
          "base_uri": "https://localhost:8080/"
        },
        "id": "ISYIqZ4n8w7y",
        "outputId": "3e2d3bd3-511c-407a-aeed-2a9933a58669"
      },
      "execution_count": 6,
      "outputs": [
        {
          "output_type": "execute_result",
          "data": {
            "text/plain": [
              "array([[6],\n",
              "       [9],\n",
              "       [9],\n",
              "       ...,\n",
              "       [9],\n",
              "       [1],\n",
              "       [1]], dtype=uint8)"
            ]
          },
          "metadata": {},
          "execution_count": 6
        }
      ]
    },
    {
      "cell_type": "code",
      "metadata": {
        "id": "OvtriAmaYpmE",
        "colab": {
          "base_uri": "https://localhost:8080/"
        },
        "outputId": "7b297a23-f316-4023-9af6-4968cea56725"
      },
      "source": [
        "y_test"
      ],
      "execution_count": 7,
      "outputs": [
        {
          "output_type": "execute_result",
          "data": {
            "text/plain": [
              "array([[3],\n",
              "       [8],\n",
              "       [8],\n",
              "       ...,\n",
              "       [5],\n",
              "       [1],\n",
              "       [7]], dtype=uint8)"
            ]
          },
          "metadata": {},
          "execution_count": 7
        }
      ]
    },
    {
      "cell_type": "code",
      "metadata": {
        "id": "PSa9hlnDYpi6"
      },
      "source": [
        ""
      ],
      "execution_count": null,
      "outputs": []
    },
    {
      "cell_type": "markdown",
      "metadata": {
        "id": "uY-2COLOzTEr"
      },
      "source": [
        "# STEP #2: 이미지 Visualizing 해보자"
      ]
    },
    {
      "cell_type": "code",
      "source": [
        "X_train.shape"
      ],
      "metadata": {
        "colab": {
          "base_uri": "https://localhost:8080/"
        },
        "id": "v1FVxuG59OKL",
        "outputId": "e2b0af9a-1f79-46fe-fa9c-46b117487654"
      },
      "execution_count": 9,
      "outputs": [
        {
          "output_type": "execute_result",
          "data": {
            "text/plain": [
              "(50000, 32, 32, 3)"
            ]
          },
          "metadata": {},
          "execution_count": 9
        }
      ]
    },
    {
      "cell_type": "code",
      "metadata": {
        "id": "NZ0jOpTozTEt",
        "colab": {
          "base_uri": "https://localhost:8080/"
        },
        "outputId": "659fffb4-cd37-42e7-93cf-304fd1628df4"
      },
      "source": [
        "X_train[0]"
      ],
      "execution_count": 8,
      "outputs": [
        {
          "output_type": "execute_result",
          "data": {
            "text/plain": [
              "array([[[ 59,  62,  63],\n",
              "        [ 43,  46,  45],\n",
              "        [ 50,  48,  43],\n",
              "        ...,\n",
              "        [158, 132, 108],\n",
              "        [152, 125, 102],\n",
              "        [148, 124, 103]],\n",
              "\n",
              "       [[ 16,  20,  20],\n",
              "        [  0,   0,   0],\n",
              "        [ 18,   8,   0],\n",
              "        ...,\n",
              "        [123,  88,  55],\n",
              "        [119,  83,  50],\n",
              "        [122,  87,  57]],\n",
              "\n",
              "       [[ 25,  24,  21],\n",
              "        [ 16,   7,   0],\n",
              "        [ 49,  27,   8],\n",
              "        ...,\n",
              "        [118,  84,  50],\n",
              "        [120,  84,  50],\n",
              "        [109,  73,  42]],\n",
              "\n",
              "       ...,\n",
              "\n",
              "       [[208, 170,  96],\n",
              "        [201, 153,  34],\n",
              "        [198, 161,  26],\n",
              "        ...,\n",
              "        [160, 133,  70],\n",
              "        [ 56,  31,   7],\n",
              "        [ 53,  34,  20]],\n",
              "\n",
              "       [[180, 139,  96],\n",
              "        [173, 123,  42],\n",
              "        [186, 144,  30],\n",
              "        ...,\n",
              "        [184, 148,  94],\n",
              "        [ 97,  62,  34],\n",
              "        [ 83,  53,  34]],\n",
              "\n",
              "       [[177, 144, 116],\n",
              "        [168, 129,  94],\n",
              "        [179, 142,  87],\n",
              "        ...,\n",
              "        [216, 184, 140],\n",
              "        [151, 118,  84],\n",
              "        [123,  92,  72]]], dtype=uint8)"
            ]
          },
          "metadata": {},
          "execution_count": 8
        }
      ]
    },
    {
      "cell_type": "code",
      "metadata": {
        "id": "QyKbPjp1YtkP",
        "colab": {
          "base_uri": "https://localhost:8080/",
          "height": 266
        },
        "outputId": "6ccc3a2a-bdf1-410e-b366-aabef7cd3b9a"
      },
      "source": [
        "plt.imshow( X_train[3] )\n",
        "plt.show()"
      ],
      "execution_count": 16,
      "outputs": [
        {
          "output_type": "display_data",
          "data": {
            "text/plain": [
              "<Figure size 432x288 with 1 Axes>"
            ],
            "image/png": "[encoded data removed]"
          },
          "metadata": {
            "needs_background": "light"
          }
        }
      ]
    },
    {
      "cell_type": "code",
      "source": [
        "y_train[3]"
      ],
      "metadata": {
        "colab": {
          "base_uri": "https://localhost:8080/"
        },
        "id": "l3DmITEI9aRl",
        "outputId": "1d0e82f0-4138-4f93-c7e8-e8a3d0eecb3a"
      },
      "execution_count": 17,
      "outputs": [
        {
          "output_type": "execute_result",
          "data": {
            "text/plain": [
              "array([4], dtype=uint8)"
            ]
          },
          "metadata": {},
          "execution_count": 17
        }
      ]
    },
    {
      "cell_type": "code",
      "metadata": {
        "id": "VXRj3GxAYtgi"
      },
      "source": [
        ""
      ],
      "execution_count": null,
      "outputs": []
    },
    {
      "cell_type": "markdown",
      "metadata": {
        "id": "qH_j7sihzTEt"
      },
      "source": [
        "# STEP #3: DATA 준비"
      ]
    },
    {
      "cell_type": "markdown",
      "metadata": {
        "id": "P7yGdgNbX5ND"
      },
      "source": [
        "### 학습을 위해서는, 데이터의 타입이 float 이어야 합니다. X_train 과 X_test 가 저장하고 있는 데이터가 float 인지 확인하시오."
      ]
    },
    {
      "cell_type": "code",
      "metadata": {
        "id": "sgMgw_35YwH2",
        "colab": {
          "base_uri": "https://localhost:8080/"
        },
        "outputId": "88b89c44-516e-4431-afa6-3ea386a1ae86"
      },
      "source": [
        "X_train.dtype"
      ],
      "execution_count": 19,
      "outputs": [
        {
          "output_type": "execute_result",
          "data": {
            "text/plain": [
              "dtype('uint8')"
            ]
          },
          "metadata": {},
          "execution_count": 19
        }
      ]
    },
    {
      "cell_type": "code",
      "metadata": {
        "id": "SuGnoiUAYwEm"
      },
      "source": [
        "X_train = X_train.astype('float32')"
      ],
      "execution_count": 21,
      "outputs": []
    },
    {
      "cell_type": "code",
      "source": [
        "X_test = X_test.astype('float32')"
      ],
      "metadata": {
        "id": "Wc0EaWbQ-Ag7"
      },
      "execution_count": 22,
      "outputs": []
    },
    {
      "cell_type": "code",
      "source": [
        ""
      ],
      "metadata": {
        "id": "vUOy21xN-Ngq"
      },
      "execution_count": null,
      "outputs": []
    },
    {
      "cell_type": "markdown",
      "metadata": {
        "id": "9p8Cs125YM-W"
      },
      "source": [
        "### 이 딥러닝의 결과는, 총 10개의 결과로 분류하는 문제이므로, y_train 과 y_test 의 값을 원핫인코딩으로 바꾸시오. "
      ]
    },
    {
      "cell_type": "code",
      "metadata": {
        "id": "WXzG7GCjZDOr"
      },
      "source": [
        "from tensorflow.keras.utils import to_categorical"
      ],
      "execution_count": 23,
      "outputs": []
    },
    {
      "cell_type": "code",
      "metadata": {
        "id": "Xp2-YuDVZDLF"
      },
      "source": [
        "y_train = to_categorical(y_train, 10)"
      ],
      "execution_count": 25,
      "outputs": []
    },
    {
      "cell_type": "code",
      "metadata": {
        "id": "luhbVgaVZDII"
      },
      "source": [
        "y_test = to_categorical(y_test, 10)"
      ],
      "execution_count": 26,
      "outputs": []
    },
    {
      "cell_type": "code",
      "source": [
        "y_train"
      ],
      "metadata": {
        "colab": {
          "base_uri": "https://localhost:8080/"
        },
        "id": "3m5-vRm0EVfE",
        "outputId": "a42e0360-6604-4371-aa01-0184a5bd5b04"
      },
      "execution_count": 27,
      "outputs": [
        {
          "output_type": "execute_result",
          "data": {
            "text/plain": [
              "array([[0., 0., 0., ..., 0., 0., 0.],\n",
              "       [0., 0., 0., ..., 0., 0., 1.],\n",
              "       [0., 0., 0., ..., 0., 0., 1.],\n",
              "       ...,\n",
              "       [0., 0., 0., ..., 0., 0., 1.],\n",
              "       [0., 1., 0., ..., 0., 0., 0.],\n",
              "       [0., 1., 0., ..., 0., 0., 0.]], dtype=float32)"
            ]
          },
          "metadata": {},
          "execution_count": 27
        }
      ]
    },
    {
      "cell_type": "code",
      "source": [
        "y_test"
      ],
      "metadata": {
        "colab": {
          "base_uri": "https://localhost:8080/"
        },
        "id": "eLCIozKbEVWU",
        "outputId": "819c9735-38b3-4cc8-db07-99bf2fc11710"
      },
      "execution_count": 28,
      "outputs": [
        {
          "output_type": "execute_result",
          "data": {
            "text/plain": [
              "array([[0., 0., 0., ..., 0., 0., 0.],\n",
              "       [0., 0., 0., ..., 0., 1., 0.],\n",
              "       [0., 0., 0., ..., 0., 1., 0.],\n",
              "       ...,\n",
              "       [0., 0., 0., ..., 0., 0., 0.],\n",
              "       [0., 1., 0., ..., 0., 0., 0.],\n",
              "       [0., 0., 0., ..., 1., 0., 0.]], dtype=float32)"
            ]
          },
          "metadata": {},
          "execution_count": 28
        }
      ]
    },
    {
      "cell_type": "markdown",
      "metadata": {
        "id": "TC-gce8QYm3f"
      },
      "source": [
        "### 피처스케일링 하시오."
      ]
    },
    {
      "cell_type": "code",
      "metadata": {
        "id": "apNHDSKfZE1R"
      },
      "source": [
        "X_train = X_train / 255.0"
      ],
      "execution_count": 30,
      "outputs": []
    },
    {
      "cell_type": "code",
      "metadata": {
        "id": "sePcfW8zZEyT"
      },
      "source": [
        "X_test = X_test / 255.0"
      ],
      "execution_count": 31,
      "outputs": []
    },
    {
      "cell_type": "markdown",
      "metadata": {
        "id": "KQMAQbf2ZX30"
      },
      "source": [
        "### 딥러닝의 입력층(input layer)의 모양을 알아야 합니다. 그래야 라이브러리에 적어주어서 학습을 시킬 수 있습니다. 따라서 input_shape 이라는 변수에, 입력층의 모양을 저장하시오."
      ]
    },
    {
      "cell_type": "code",
      "metadata": {
        "id": "FF5cl11VZLaF",
        "colab": {
          "base_uri": "https://localhost:8080/"
        },
        "outputId": "67160ea0-5649-46d3-ed6c-336d6f4befa1"
      },
      "source": [
        "X_train.shape"
      ],
      "execution_count": 32,
      "outputs": [
        {
          "output_type": "execute_result",
          "data": {
            "text/plain": [
              "(50000, 32, 32, 3)"
            ]
          },
          "metadata": {},
          "execution_count": 32
        }
      ]
    },
    {
      "cell_type": "code",
      "metadata": {
        "id": "ZNIjRQawZLXB"
      },
      "source": [
        "input_shape = (32, 32, 3)"
      ],
      "execution_count": 33,
      "outputs": []
    },
    {
      "cell_type": "code",
      "metadata": {
        "id": "URauS_8eZLQx"
      },
      "source": [
        ""
      ],
      "execution_count": null,
      "outputs": []
    },
    {
      "cell_type": "markdown",
      "metadata": {
        "id": "z_a6HLpVzTEy"
      },
      "source": [
        "# STEP #4: 모델링 및 학습시키기"
      ]
    },
    {
      "cell_type": "code",
      "metadata": {
        "id": "Zn4SIAukzTEy"
      },
      "source": [
        "from tensorflow.keras.models import Sequential\n",
        "from tensorflow.keras.layers import Conv2D, MaxPooling2D, AveragePooling2D, Dense, Flatten, Dropout\n",
        "from tensorflow.keras.optimizers import Adam\n",
        "\n"
      ],
      "execution_count": 34,
      "outputs": []
    },
    {
      "cell_type": "code",
      "metadata": {
        "id": "6sPwA9VRZOSH"
      },
      "source": [
        "# def build_model():\n",
        "#   model = Sequential()\n",
        "#   model.add( Conv2D(64, (3,3), activation='relu', input_shape= input_shape))\n",
        "#   model.add( Conv2D(32, (3,3), activation= 'relu'))\n",
        "#   model.add( MaxPooling2D( 2, 2))\n",
        "\n",
        "#   model.add( Conv2D(128, (3,3), activation='relu'))\n",
        "#   model.add( Conv2D(64, (3,3), activation= 'relu'))\n",
        "#   model.add( MaxPooling2D( 2, 2))\n",
        "\n",
        "#   model.add( Flatten())\n",
        "#   model.add(Dense(1024, 'relu'))\n",
        "#   model.add(Dropout(0.4))\n",
        "#   model.add(Dense(512, 'relu'))\n",
        "#   model.add(Dense(10, 'softmax'))\n",
        "\n",
        "#   return model"
      ],
      "execution_count": 35,
      "outputs": []
    },
    {
      "cell_type": "code",
      "source": [
        "def build_model():\n",
        "  model = Sequential()\n",
        "  model.add( Conv2D(32, (3,3), activation='relu', input_shape= input_shape))\n",
        "  model.add( MaxPooling2D( 2, 2))\n",
        "\n",
        "  model.add( Conv2D(32, (3,3), activation= 'relu'))\n",
        "  model.add( MaxPooling2D( 2, 2))\n",
        "\n",
        "  model.add( Flatten())  \n",
        "  model.add(Dropout(0.4))\n",
        "  model.add(Dense(128, 'relu'))\n",
        "  model.add(Dense(10, 'softmax'))\n",
        "\n",
        "  return model"
      ],
      "metadata": {
        "id": "6pK0N-jjKJTC"
      },
      "execution_count": 41,
      "outputs": []
    },
    {
      "cell_type": "code",
      "metadata": {
        "id": "vNXdaxDGZOPV"
      },
      "source": [
        "model = build_model()"
      ],
      "execution_count": 42,
      "outputs": []
    },
    {
      "cell_type": "code",
      "source": [
        "model.summary()"
      ],
      "metadata": {
        "colab": {
          "base_uri": "https://localhost:8080/"
        },
        "id": "5fwq5VesIoOq",
        "outputId": "758c8413-54c7-4595-9a8f-4fed51128b39"
      },
      "execution_count": 43,
      "outputs": [
        {
          "output_type": "stream",
          "name": "stdout",
          "text": [
            "Model: \"sequential_1\"\n",
            "_________________________________________________________________\n",
            " Layer (type)                Output Shape              Param #   \n",
            "=================================================================\n",
            " conv2d_4 (Conv2D)           (None, 30, 30, 32)        896       \n",
            "                                                                 \n",
            " max_pooling2d_2 (MaxPooling  (None, 15, 15, 32)       0         \n",
            " 2D)                                                             \n",
            "                                                                 \n",
            " conv2d_5 (Conv2D)           (None, 13, 13, 32)        9248      \n",
            "                                                                 \n",
            " max_pooling2d_3 (MaxPooling  (None, 6, 6, 32)         0         \n",
            " 2D)                                                             \n",
            "                                                                 \n",
            " flatten_1 (Flatten)         (None, 1152)              0         \n",
            "                                                                 \n",
            " dropout_1 (Dropout)         (None, 1152)              0         \n",
            "                                                                 \n",
            " dense_3 (Dense)             (None, 128)               147584    \n",
            "                                                                 \n",
            " dense_4 (Dense)             (None, 10)                1290      \n",
            "                                                                 \n",
            "=================================================================\n",
            "Total params: 159,018\n",
            "Trainable params: 159,018\n",
            "Non-trainable params: 0\n",
            "_________________________________________________________________\n"
          ]
        }
      ]
    },
    {
      "cell_type": "markdown",
      "metadata": {
        "id": "Ax3mYlhO5o-A"
      },
      "source": [
        "### 옵티마이저는 RMSprop로 컴파일 하고, 학습을 진행하시오. 학습 결과는 저장하시오.\n",
        "\n",
        "[옵티마이저 종류](https://vision-ai.tistory.com/entry/%EC%98%B5%ED%8B%B0%EB%A7%88%EC%9D%B4%EC%A0%80-Optimizer-%EC%A2%85%EB%A5%98)"
      ]
    },
    {
      "cell_type": "code",
      "metadata": {
        "id": "GMPlDUy7zTEz",
        "colab": {
          "base_uri": "https://localhost:8080/"
        },
        "outputId": "da375783-47c1-4128-f86a-8efed1eb15a6"
      },
      "source": [
        "y_train"
      ],
      "execution_count": 44,
      "outputs": [
        {
          "output_type": "execute_result",
          "data": {
            "text/plain": [
              "array([[0., 0., 0., ..., 0., 0., 0.],\n",
              "       [0., 0., 0., ..., 0., 0., 1.],\n",
              "       [0., 0., 0., ..., 0., 0., 1.],\n",
              "       ...,\n",
              "       [0., 0., 0., ..., 0., 0., 1.],\n",
              "       [0., 1., 0., ..., 0., 0., 0.],\n",
              "       [0., 1., 0., ..., 0., 0., 0.]], dtype=float32)"
            ]
          },
          "metadata": {},
          "execution_count": 44
        }
      ]
    },
    {
      "cell_type": "code",
      "metadata": {
        "id": "12Ko0eF4ZRTc"
      },
      "source": [
        "model.compile('rmsprop', 'categorical_crossentropy', ['accuracy'] )"
      ],
      "execution_count": 45,
      "outputs": []
    },
    {
      "cell_type": "code",
      "metadata": {
        "id": "x1q0xJETZRQm",
        "colab": {
          "base_uri": "https://localhost:8080/"
        },
        "outputId": "b1e96f36-86b9-4ab9-9f58-ee3634e93d73"
      },
      "source": [
        "epoch_histoy = model.fit(X_train, y_train, epochs = 10)"
      ],
      "execution_count": 46,
      "outputs": [
        {
          "output_type": "stream",
          "name": "stdout",
          "text": [
            "Epoch 1/10\n",
            "1563/1563 [==============================] - 60s 38ms/step - loss: 1.5528 - accuracy: 0.4444\n",
            "Epoch 2/10\n",
            "1563/1563 [==============================] - 57s 37ms/step - loss: 1.2335 - accuracy: 0.5645\n",
            "Epoch 3/10\n",
            "1563/1563 [==============================] - 57s 36ms/step - loss: 1.1207 - accuracy: 0.6074\n",
            "Epoch 4/10\n",
            "1563/1563 [==============================] - 57s 36ms/step - loss: 1.0520 - accuracy: 0.6313\n",
            "Epoch 5/10\n",
            "1563/1563 [==============================] - 58s 37ms/step - loss: 1.0024 - accuracy: 0.6508\n",
            "Epoch 6/10\n",
            "1563/1563 [==============================] - 58s 37ms/step - loss: 0.9650 - accuracy: 0.6649\n",
            "Epoch 7/10\n",
            "1563/1563 [==============================] - 58s 37ms/step - loss: 0.9342 - accuracy: 0.6772\n",
            "Epoch 8/10\n",
            "1563/1563 [==============================] - 57s 37ms/step - loss: 0.9086 - accuracy: 0.6846\n",
            "Epoch 9/10\n",
            "1563/1563 [==============================] - 59s 37ms/step - loss: 0.8845 - accuracy: 0.6965\n",
            "Epoch 10/10\n",
            "1563/1563 [==============================] - 57s 36ms/step - loss: 0.8681 - accuracy: 0.7024\n"
          ]
        }
      ]
    },
    {
      "cell_type": "markdown",
      "metadata": {
        "id": "fiV8FOQszTEz"
      },
      "source": [
        "# STEP #5: 모델 평가"
      ]
    },
    {
      "cell_type": "markdown",
      "metadata": {
        "id": "qaZl1IjBhdVg"
      },
      "source": [
        "### 테스트셋을 통해서, 정확도를 구해보자"
      ]
    },
    {
      "cell_type": "code",
      "metadata": {
        "id": "eL7wsQuhZYcv",
        "colab": {
          "base_uri": "https://localhost:8080/"
        },
        "outputId": "0ce6d9d4-5372-4516-8b0e-1d430fe38b86"
      },
      "source": [
        "model.evaluate(X_test, y_test)"
      ],
      "execution_count": 47,
      "outputs": [
        {
          "output_type": "stream",
          "name": "stdout",
          "text": [
            "313/313 [==============================] - 4s 11ms/step - loss: 0.8548 - accuracy: 0.7065\n"
          ]
        },
        {
          "output_type": "execute_result",
          "data": {
            "text/plain": [
              "[0.8547996282577515, 0.7064999938011169]"
            ]
          },
          "metadata": {},
          "execution_count": 47
        }
      ]
    },
    {
      "cell_type": "code",
      "metadata": {
        "id": "HdJwLJQEZYQe"
      },
      "source": [
        ""
      ],
      "execution_count": null,
      "outputs": []
    },
    {
      "cell_type": "markdown",
      "metadata": {
        "id": "ep3nlgOBoEfH"
      },
      "source": [
        "### 테스트셋으로 예측한 결과를 가져오시오. 그리고 첫번째 이미지에 대한 결과값을 확인하시오."
      ]
    },
    {
      "cell_type": "code",
      "metadata": {
        "id": "2-TJEcFLZaiE"
      },
      "source": [
        "y_pred = model.predict(X_test)"
      ],
      "execution_count": 49,
      "outputs": []
    },
    {
      "cell_type": "code",
      "metadata": {
        "id": "Y6Y3JdHrZaey",
        "colab": {
          "base_uri": "https://localhost:8080/"
        },
        "outputId": "bd5daede-8e7b-42c8-8e88-66436ef1b479"
      },
      "source": [
        "y_pred.shape"
      ],
      "execution_count": 50,
      "outputs": [
        {
          "output_type": "execute_result",
          "data": {
            "text/plain": [
              "(10000, 10)"
            ]
          },
          "metadata": {},
          "execution_count": 50
        }
      ]
    },
    {
      "cell_type": "code",
      "metadata": {
        "id": "xns8CISaZacG"
      },
      "source": [
        "from sklearn.metrics import confusion_matrix"
      ],
      "execution_count": 51,
      "outputs": []
    },
    {
      "cell_type": "code",
      "source": [
        ""
      ],
      "metadata": {
        "id": "CVGX67gINalS"
      },
      "execution_count": null,
      "outputs": []
    },
    {
      "cell_type": "code",
      "metadata": {
        "id": "RwrHIUtEZaaD",
        "colab": {
          "base_uri": "https://localhost:8080/",
          "height": 331
        },
        "outputId": "cd12176f-ae86-4b4c-af81-1135ba5f9449"
      },
      "source": [
        "confusion_matrix(y_test, y_pred)"
      ],
      "execution_count": 52,
      "outputs": [
        {
          "output_type": "error",
          "ename": "ValueError",
          "evalue": "ignored",
          "traceback": [
            "\u001b[0;31m---------------------------------------------------------------------------\u001b[0m",
            "\u001b[0;31mValueError\u001b[0m                                Traceback (most recent call last)",
            "\u001b[0;32m<ipython-input-52-430e012b2078>\u001b[0m in \u001b[0;36m<module>\u001b[0;34m()\u001b[0m\n\u001b[0;32m----> 1\u001b[0;31m \u001b[0mconfusion_matrix\u001b[0m\u001b[0;34m(\u001b[0m\u001b[0my_test\u001b[0m\u001b[0;34m,\u001b[0m \u001b[0my_pred\u001b[0m\u001b[0;34m)\u001b[0m\u001b[0;34m\u001b[0m\u001b[0;34m\u001b[0m\u001b[0m\n\u001b[0m",
            "\u001b[0;32m/usr/local/lib/python3.7/dist-packages/sklearn/metrics/_classification.py\u001b[0m in \u001b[0;36mconfusion_matrix\u001b[0;34m(y_true, y_pred, labels, sample_weight, normalize)\u001b[0m\n\u001b[1;32m    305\u001b[0m     \u001b[0;34m(\u001b[0m\u001b[0;36m0\u001b[0m\u001b[0;34m,\u001b[0m \u001b[0;36m2\u001b[0m\u001b[0;34m,\u001b[0m \u001b[0;36m1\u001b[0m\u001b[0;34m,\u001b[0m \u001b[0;36m1\u001b[0m\u001b[0;34m)\u001b[0m\u001b[0;34m\u001b[0m\u001b[0;34m\u001b[0m\u001b[0m\n\u001b[1;32m    306\u001b[0m     \"\"\"\n\u001b[0;32m--> 307\u001b[0;31m     \u001b[0my_type\u001b[0m\u001b[0;34m,\u001b[0m \u001b[0my_true\u001b[0m\u001b[0;34m,\u001b[0m \u001b[0my_pred\u001b[0m \u001b[0;34m=\u001b[0m \u001b[0m_check_targets\u001b[0m\u001b[0;34m(\u001b[0m\u001b[0my_true\u001b[0m\u001b[0;34m,\u001b[0m \u001b[0my_pred\u001b[0m\u001b[0;34m)\u001b[0m\u001b[0;34m\u001b[0m\u001b[0;34m\u001b[0m\u001b[0m\n\u001b[0m\u001b[1;32m    308\u001b[0m     \u001b[0;32mif\u001b[0m \u001b[0my_type\u001b[0m \u001b[0;32mnot\u001b[0m \u001b[0;32min\u001b[0m \u001b[0;34m(\u001b[0m\u001b[0;34m\"binary\"\u001b[0m\u001b[0;34m,\u001b[0m \u001b[0;34m\"multiclass\"\u001b[0m\u001b[0;34m)\u001b[0m\u001b[0;34m:\u001b[0m\u001b[0;34m\u001b[0m\u001b[0;34m\u001b[0m\u001b[0m\n\u001b[1;32m    309\u001b[0m         \u001b[0;32mraise\u001b[0m \u001b[0mValueError\u001b[0m\u001b[0;34m(\u001b[0m\u001b[0;34m\"%s is not supported\"\u001b[0m \u001b[0;34m%\u001b[0m \u001b[0my_type\u001b[0m\u001b[0;34m)\u001b[0m\u001b[0;34m\u001b[0m\u001b[0;34m\u001b[0m\u001b[0m\n",
            "\u001b[0;32m/usr/local/lib/python3.7/dist-packages/sklearn/metrics/_classification.py\u001b[0m in \u001b[0;36m_check_targets\u001b[0;34m(y_true, y_pred)\u001b[0m\n\u001b[1;32m     93\u001b[0m         raise ValueError(\n\u001b[1;32m     94\u001b[0m             \"Classification metrics can't handle a mix of {0} and {1} targets\".format(\n\u001b[0;32m---> 95\u001b[0;31m                 \u001b[0mtype_true\u001b[0m\u001b[0;34m,\u001b[0m \u001b[0mtype_pred\u001b[0m\u001b[0;34m\u001b[0m\u001b[0;34m\u001b[0m\u001b[0m\n\u001b[0m\u001b[1;32m     96\u001b[0m             )\n\u001b[1;32m     97\u001b[0m         )\n",
            "\u001b[0;31mValueError\u001b[0m: Classification metrics can't handle a mix of multilabel-indicator and continuous-multioutput targets"
          ]
        }
      ]
    },
    {
      "cell_type": "code",
      "metadata": {
        "id": "Ll7lwAIKZaWZ"
      },
      "source": [
        ""
      ],
      "execution_count": null,
      "outputs": []
    },
    {
      "cell_type": "code",
      "metadata": {
        "id": "rNC9tgHwZaTj"
      },
      "source": [
        ""
      ],
      "execution_count": null,
      "outputs": []
    },
    {
      "cell_type": "markdown",
      "metadata": {
        "id": "fVxdWPXIpUzl"
      },
      "source": [
        "### y_pred 에서, 각각 가장 큰 값들의 인덱스만 가져오시오. 그러면 그 인덱스를 통해서, 10가지 중에 무엇인지 확인이 가능합니다."
      ]
    },
    {
      "cell_type": "code",
      "metadata": {
        "id": "URzjxAPKZc0v"
      },
      "source": [
        "y_pred = y_pred.argmax(axis = 1)"
      ],
      "execution_count": 55,
      "outputs": []
    },
    {
      "cell_type": "markdown",
      "metadata": {
        "id": "OVuy7x5ikwV5"
      },
      "source": [
        "### 실제 값들(ground truth) y_test 에서도, 가장 큰 값들의 인덱스만 가져오시오. 그러면 두개를 비교할 수 있습니다."
      ]
    },
    {
      "cell_type": "code",
      "metadata": {
        "id": "ijfFnZlnZgZD"
      },
      "source": [
        "y_test = y_test.argmax(axis=1)"
      ],
      "execution_count": 57,
      "outputs": []
    },
    {
      "cell_type": "markdown",
      "metadata": {
        "id": "HyGOY8ixjzSu"
      },
      "source": [
        "### 컨퓨전 매트릭스를 확인하시오. 그리고 seaborn 의 히트맵으로 시각화 하시오."
      ]
    },
    {
      "cell_type": "code",
      "metadata": {
        "id": "tzvWsAeJzTE1"
      },
      "source": [
        "from sklearn.metrics import confusion_matrix\n",
        "import seaborn as sns"
      ],
      "execution_count": 59,
      "outputs": []
    },
    {
      "cell_type": "code",
      "metadata": {
        "id": "MlgBvHIsgcWp"
      },
      "source": [
        "cm = confusion_matrix(y_test, y_pred)"
      ],
      "execution_count": 60,
      "outputs": []
    },
    {
      "cell_type": "code",
      "metadata": {
        "id": "WsWb1g8aZtbl",
        "colab": {
          "base_uri": "https://localhost:8080/"
        },
        "outputId": "fced0841-c63d-47b7-878b-4a2070c3e0f1"
      },
      "source": [
        "cm"
      ],
      "execution_count": 61,
      "outputs": [
        {
          "output_type": "execute_result",
          "data": {
            "text/plain": [
              "array([[744,  18,  27,  41,  21,   3,   9,  14,  62,  61],\n",
              "       [ 13, 807,   1,  19,   3,   2,   3,   4,  21, 127],\n",
              "       [ 71,   5, 459, 125, 127,  83,  49,  42,  15,  24],\n",
              "       [ 19,  11,  36, 613,  67, 130,  51,  31,  14,  28],\n",
              "       [ 22,   6,  37,  94, 687,  25,  27,  69,  15,  18],\n",
              "       [ 12,   1,  31, 262,  44, 562,  22,  44,   5,  17],\n",
              "       [  5,   5,  24,  95,  74,  23, 749,   5,   9,  11],\n",
              "       [  7,   2,   9,  73,  50,  50,   2, 773,   5,  29],\n",
              "       [ 56,  37,   5,  25,   9,   6,   2,   6, 812,  42],\n",
              "       [ 16,  53,   3,  31,   1,   3,   5,  11,  18, 859]])"
            ]
          },
          "metadata": {},
          "execution_count": 61
        }
      ]
    },
    {
      "cell_type": "code",
      "metadata": {
        "id": "d-94zImTZtYb",
        "colab": {
          "base_uri": "https://localhost:8080/",
          "height": 265
        },
        "outputId": "e87f86ce-8bbc-4850-b75b-193f830edd9a"
      },
      "source": [
        "sns.heatmap(data= cm, annot=True, fmt='.0f', cmap='RdPu')\n",
        "plt.show()"
      ],
      "execution_count": 62,
      "outputs": [
        {
          "output_type": "display_data",
          "data": {
            "text/plain": [
              "<Figure size 432x288 with 2 Axes>"
            ],
            "image/png": "[encoded data removed]"
          },
          "metadata": {
            "needs_background": "light"
          }
        }
      ]
    },
    {
      "cell_type": "code",
      "source": [
        ""
      ],
      "metadata": {
        "id": "UmELNI-UOBAq"
      },
      "execution_count": null,
      "outputs": []
    },
    {
      "cell_type": "markdown",
      "metadata": {
        "id": "5N6kHghCzTE1"
      },
      "source": [
        "# STEP #6: 모델 저장하기"
      ]
    },
    {
      "cell_type": "code",
      "metadata": {
        "id": "zdWp-8ipZwC5"
      },
      "source": [
        "model.save('cifa10_model.h5')"
      ],
      "execution_count": 63,
      "outputs": []
    },
    {
      "cell_type": "code",
      "metadata": {
        "id": "Nw6Hrcrns6rM"
      },
      "source": [
        ""
      ],
      "execution_count": null,
      "outputs": []
    },
    {
      "cell_type": "markdown",
      "metadata": {
        "id": "HpBI4V9rzTE1"
      },
      "source": [
        "# STEP #7: Data Augmentation 을 통한, 모델 Improving"
      ]
    },
    {
      "cell_type": "markdown",
      "metadata": {
        "id": "PTFx3eebzTE1"
      },
      "source": [
        "- 원래 주어진 이미지를 통해, 이를 변형하여서 학습을 시키면 정확도가 증가한다. \n",
        "- 다음처럼 flipping, enlarging, rotating 을 통해서 원래의 이미지를 변형하여 학습시킨다.\n",
        "- 또한 이미지를 이동시키거나 밝기 조정도 데이터 증강에 해당된다."
      ]
    },
    {
      "cell_type": "code",
      "metadata": {
        "id": "L1EGCKHx4U84"
      },
      "source": [
        ""
      ],
      "execution_count": null,
      "outputs": []
    },
    {
      "cell_type": "markdown",
      "metadata": {
        "id": "SLtDbQJozTE5"
      },
      "source": [
        "# STEP 7.1 Model Training using Augmented Dataset"
      ]
    },
    {
      "cell_type": "code",
      "source": [
        "(X_train, y_train), (X_test, y_test) = cifar10.load_data()"
      ],
      "metadata": {
        "id": "zJrZ9J5xQLAC"
      },
      "execution_count": 65,
      "outputs": []
    },
    {
      "cell_type": "code",
      "source": [
        "X_train = X_train / 255.0"
      ],
      "metadata": {
        "id": "8xm_sFKyQK3S"
      },
      "execution_count": 66,
      "outputs": []
    },
    {
      "cell_type": "code",
      "source": [
        "X_test = X_test / 255.0"
      ],
      "metadata": {
        "id": "nQcePAPZQS4r"
      },
      "execution_count": 67,
      "outputs": []
    },
    {
      "cell_type": "code",
      "source": [
        "y_train = to_categorical(y_train, 10)"
      ],
      "metadata": {
        "id": "9AKd1QXzQSSy"
      },
      "execution_count": 68,
      "outputs": []
    },
    {
      "cell_type": "code",
      "source": [
        "y_test = to_categorical(y_test, 10)"
      ],
      "metadata": {
        "id": "UCkKTYMUQa9q"
      },
      "execution_count": 69,
      "outputs": []
    },
    {
      "cell_type": "code",
      "source": [
        "model = build_model()"
      ],
      "metadata": {
        "id": "qoXdhMdqQlfL"
      },
      "execution_count": 70,
      "outputs": []
    },
    {
      "cell_type": "code",
      "source": [
        "model.compile('rmsprop', 'categorical_crossentropy', ['accuracy'])"
      ],
      "metadata": {
        "id": "V9jDnA51QlC6"
      },
      "execution_count": 71,
      "outputs": []
    },
    {
      "cell_type": "code",
      "source": [
        "# 데이터 증강해서 학습시킬것이다!!  넘파이 어레이로 되어있는 데이터를 증강하는 방법!!!"
      ],
      "metadata": {
        "id": "3SWCdvjJQz6i"
      },
      "execution_count": 72,
      "outputs": []
    },
    {
      "cell_type": "code",
      "metadata": {
        "id": "Ayj0qPbUZ1xM"
      },
      "source": [
        "from keras.preprocessing.image import ImageDataGenerator"
      ],
      "execution_count": 64,
      "outputs": []
    },
    {
      "cell_type": "code",
      "source": [
        "# 학습에 사용할 넘파이 어레이를, 위에서 이미 피쳐 스케일링 했으므로, rescale 파라미터는 필요 없다!"
      ],
      "metadata": {
        "id": "xcvMNq5mRFma"
      },
      "execution_count": 73,
      "outputs": []
    },
    {
      "cell_type": "code",
      "metadata": {
        "id": "ZxW6VKvZZ1tl"
      },
      "source": [
        "train_datagen = ImageDataGenerator(horizontal_flip=True, zoom_range=0.2, rotation_range=15, \n",
        "                                   width_shift_range=0.1, height_shift_range=0.1)"
      ],
      "execution_count": 74,
      "outputs": []
    },
    {
      "cell_type": "code",
      "metadata": {
        "id": "E98BTJBtZ1qZ"
      },
      "source": [
        "train_genertor = train_datagen.flow(X_train, y_train)"
      ],
      "execution_count": 76,
      "outputs": []
    },
    {
      "cell_type": "code",
      "metadata": {
        "id": "6Kk7EwkiZ1nf"
      },
      "source": [
        "## 학습"
      ],
      "execution_count": 77,
      "outputs": []
    },
    {
      "cell_type": "code",
      "metadata": {
        "id": "fUWaCqLWZ1ig",
        "colab": {
          "base_uri": "https://localhost:8080/"
        },
        "outputId": "8d227c7b-750b-4c44-d32a-5c3805072303"
      },
      "source": [
        "model.fit(train_genertor, epochs = 10)"
      ],
      "execution_count": 78,
      "outputs": [
        {
          "output_type": "stream",
          "name": "stdout",
          "text": [
            "Epoch 1/10\n",
            "1563/1563 [==============================] - 89s 56ms/step - loss: 1.6606 - accuracy: 0.3986\n",
            "Epoch 2/10\n",
            "1563/1563 [==============================] - 86s 55ms/step - loss: 1.4232 - accuracy: 0.4918\n",
            "Epoch 3/10\n",
            "1563/1563 [==============================] - 86s 55ms/step - loss: 1.3360 - accuracy: 0.5275\n",
            "Epoch 4/10\n",
            "1563/1563 [==============================] - 86s 55ms/step - loss: 1.2925 - accuracy: 0.5408\n",
            "Epoch 5/10\n",
            "1563/1563 [==============================] - 88s 56ms/step - loss: 1.2609 - accuracy: 0.5531\n",
            "Epoch 6/10\n",
            "1563/1563 [==============================] - 86s 55ms/step - loss: 1.2302 - accuracy: 0.5657\n",
            "Epoch 7/10\n",
            "1563/1563 [==============================] - 87s 56ms/step - loss: 1.2124 - accuracy: 0.5728\n",
            "Epoch 8/10\n",
            "1563/1563 [==============================] - 88s 56ms/step - loss: 1.2018 - accuracy: 0.5780\n",
            "Epoch 9/10\n",
            "1563/1563 [==============================] - 87s 56ms/step - loss: 1.1895 - accuracy: 0.5826\n",
            "Epoch 10/10\n",
            "1563/1563 [==============================] - 89s 57ms/step - loss: 1.1842 - accuracy: 0.5884\n"
          ]
        },
        {
          "output_type": "execute_result",
          "data": {
            "text/plain": [
              "<keras.callbacks.History at 0x7f1473fb8fd0>"
            ]
          },
          "metadata": {},
          "execution_count": 78
        }
      ]
    },
    {
      "cell_type": "code",
      "metadata": {
        "id": "X5Ccw8bvZ1bp"
      },
      "source": [
        ""
      ],
      "execution_count": null,
      "outputs": []
    },
    {
      "cell_type": "markdown",
      "metadata": {
        "id": "eWgDwSazz5Ks"
      },
      "source": [
        "# STEP 8. 컨퓨전 매트릭스를 통한 성능 측정"
      ]
    },
    {
      "cell_type": "code",
      "metadata": {
        "id": "Dep6XWIx0LPr"
      },
      "source": [
        ""
      ],
      "execution_count": null,
      "outputs": []
    },
    {
      "cell_type": "code",
      "metadata": {
        "id": "sSxvxBPpZ4OZ"
      },
      "source": [
        ""
      ],
      "execution_count": null,
      "outputs": []
    },
    {
      "cell_type": "code",
      "metadata": {
        "id": "YIHT_dTxZ4Mj"
      },
      "source": [
        ""
      ],
      "execution_count": null,
      "outputs": []
    },
    {
      "cell_type": "code",
      "metadata": {
        "id": "3TMRCagMZ4Ix"
      },
      "source": [
        ""
      ],
      "execution_count": null,
      "outputs": []
    },
    {
      "cell_type": "code",
      "metadata": {
        "id": "8NYImFUMZ4GM"
      },
      "source": [
        ""
      ],
      "execution_count": null,
      "outputs": []
    },
    {
      "cell_type": "code",
      "metadata": {
        "id": "xLBSRoAcZ4Dc"
      },
      "source": [
        ""
      ],
      "execution_count": null,
      "outputs": []
    },
    {
      "cell_type": "code",
      "metadata": {
        "id": "n60psWwWZ4Ag"
      },
      "source": [
        ""
      ],
      "execution_count": null,
      "outputs": []
    },
    {
      "cell_type": "code",
      "metadata": {
        "id": "98Fasw-uZ394"
      },
      "source": [
        ""
      ],
      "execution_count": null,
      "outputs": []
    },
    {
      "cell_type": "code",
      "metadata": {
        "id": "gDyx1WpHZ347"
      },
      "source": [
        ""
      ],
      "execution_count": null,
      "outputs": []
    },
    {
      "cell_type": "markdown",
      "metadata": {
        "id": "6ahAEKhRzTE7"
      },
      "source": [
        "# GREAT JOB! "
      ]
    },
    {
      "cell_type": "code",
      "metadata": {
        "id": "8_8zo_HV4PjQ"
      },
      "source": [
        ""
      ],
      "execution_count": null,
      "outputs": []
    }
  ]
}